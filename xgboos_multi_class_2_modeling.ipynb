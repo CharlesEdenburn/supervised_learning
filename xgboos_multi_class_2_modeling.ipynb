{
 "cells": [
  {
   "cell_type": "code",
   "execution_count": 2,
   "metadata": {},
   "outputs": [],
   "source": [
    "# developed from the following material, change dummy coding and outlier detection method \n",
    "\n",
    "# https://medium.com/towards-data-science/xgboost-for-multi-class-classification-799d96bcd368\n",
    "# https://github.com/ernestng11/touchpoint-prediction/blob/master/data-cleaning_and_eda.ipynb\n",
    "# data: https://github.com/ernestng11/touchpoint-prediction"
   ]
  },
  {
   "cell_type": "code",
   "execution_count": 4,
   "metadata": {},
   "outputs": [],
   "source": [
    "import pandas as pd\n",
    "import numpy as np\n",
    "import seaborn as sns\n",
    "import matplotlib.pyplot as plt\n",
    "\n",
    "from sklearn.preprocessing import QuantileTransformer\n",
    "from sklearn.metrics import accuracy_score, f1_score\n",
    "from sklearn.model_selection import GridSearchCV\n",
    "\n",
    "from sklearn.ensemble import RandomForestClassifier\n",
    "\n",
    "import xgboost as xgb\n",
    "from xgboost.sklearn import XGBClassifier"
   ]
  },
  {
   "cell_type": "code",
   "execution_count": 20,
   "metadata": {},
   "outputs": [],
   "source": [
    "df = pd.read_csv('./marketdata_clean.csv')"
   ]
  },
  {
   "cell_type": "code",
   "execution_count": 22,
   "metadata": {},
   "outputs": [
    {
     "data": {
      "text/html": [
       "<div>\n",
       "<style scoped>\n",
       "    .dataframe tbody tr th:only-of-type {\n",
       "        vertical-align: middle;\n",
       "    }\n",
       "\n",
       "    .dataframe tbody tr th {\n",
       "        vertical-align: top;\n",
       "    }\n",
       "\n",
       "    .dataframe thead th {\n",
       "        text-align: right;\n",
       "    }\n",
       "</style>\n",
       "<table border=\"1\" class=\"dataframe\">\n",
       "  <thead>\n",
       "    <tr style=\"text-align: right;\">\n",
       "      <th></th>\n",
       "      <th>Unnamed: 0</th>\n",
       "      <th>age</th>\n",
       "      <th>income</th>\n",
       "      <th>aveSpend</th>\n",
       "      <th>touchpoints</th>\n",
       "      <th>nTouchpoints</th>\n",
       "      <th>touchpoint_emailDestination</th>\n",
       "      <th>touchpoint_emailDiscount</th>\n",
       "      <th>touchpoint_emailGift</th>\n",
       "      <th>touchpoint_mailDestination</th>\n",
       "      <th>...</th>\n",
       "      <th>SocialMedia_U</th>\n",
       "      <th>SocialMedia_Y</th>\n",
       "      <th>creditRating_A</th>\n",
       "      <th>creditRating_B</th>\n",
       "      <th>creditRating_C</th>\n",
       "      <th>creditRating_D</th>\n",
       "      <th>creditRating_E</th>\n",
       "      <th>creditRating_F</th>\n",
       "      <th>creditRating_G</th>\n",
       "      <th>creditRating_New</th>\n",
       "    </tr>\n",
       "  </thead>\n",
       "  <tbody>\n",
       "    <tr>\n",
       "      <th>0</th>\n",
       "      <td>0</td>\n",
       "      <td>38</td>\n",
       "      <td>51000.0</td>\n",
       "      <td>5007.50</td>\n",
       "      <td>emailDestination mailDiscount</td>\n",
       "      <td>2</td>\n",
       "      <td>1</td>\n",
       "      <td>0</td>\n",
       "      <td>0</td>\n",
       "      <td>0</td>\n",
       "      <td>...</td>\n",
       "      <td>1</td>\n",
       "      <td>0</td>\n",
       "      <td>0</td>\n",
       "      <td>0</td>\n",
       "      <td>1</td>\n",
       "      <td>0</td>\n",
       "      <td>0</td>\n",
       "      <td>0</td>\n",
       "      <td>0</td>\n",
       "      <td>0</td>\n",
       "    </tr>\n",
       "    <tr>\n",
       "      <th>1</th>\n",
       "      <td>1</td>\n",
       "      <td>39</td>\n",
       "      <td>100000.0</td>\n",
       "      <td>19.74</td>\n",
       "      <td>emailDestination mailGift</td>\n",
       "      <td>2</td>\n",
       "      <td>1</td>\n",
       "      <td>0</td>\n",
       "      <td>0</td>\n",
       "      <td>0</td>\n",
       "      <td>...</td>\n",
       "      <td>1</td>\n",
       "      <td>0</td>\n",
       "      <td>0</td>\n",
       "      <td>1</td>\n",
       "      <td>0</td>\n",
       "      <td>0</td>\n",
       "      <td>0</td>\n",
       "      <td>0</td>\n",
       "      <td>0</td>\n",
       "      <td>0</td>\n",
       "    </tr>\n",
       "    <tr>\n",
       "      <th>2</th>\n",
       "      <td>2</td>\n",
       "      <td>41</td>\n",
       "      <td>51000.0</td>\n",
       "      <td>320.10</td>\n",
       "      <td>emailDiscount mailGift emailDiscount</td>\n",
       "      <td>3</td>\n",
       "      <td>0</td>\n",
       "      <td>1</td>\n",
       "      <td>0</td>\n",
       "      <td>0</td>\n",
       "      <td>...</td>\n",
       "      <td>0</td>\n",
       "      <td>0</td>\n",
       "      <td>0</td>\n",
       "      <td>0</td>\n",
       "      <td>0</td>\n",
       "      <td>1</td>\n",
       "      <td>0</td>\n",
       "      <td>0</td>\n",
       "      <td>0</td>\n",
       "      <td>0</td>\n",
       "    </tr>\n",
       "    <tr>\n",
       "      <th>3</th>\n",
       "      <td>3</td>\n",
       "      <td>60</td>\n",
       "      <td>152000.0</td>\n",
       "      <td>39.47</td>\n",
       "      <td>mailDiscount</td>\n",
       "      <td>1</td>\n",
       "      <td>0</td>\n",
       "      <td>0</td>\n",
       "      <td>0</td>\n",
       "      <td>0</td>\n",
       "      <td>...</td>\n",
       "      <td>1</td>\n",
       "      <td>0</td>\n",
       "      <td>0</td>\n",
       "      <td>0</td>\n",
       "      <td>1</td>\n",
       "      <td>0</td>\n",
       "      <td>0</td>\n",
       "      <td>0</td>\n",
       "      <td>0</td>\n",
       "      <td>0</td>\n",
       "    </tr>\n",
       "    <tr>\n",
       "      <th>4</th>\n",
       "      <td>4</td>\n",
       "      <td>47</td>\n",
       "      <td>60000.0</td>\n",
       "      <td>19.89</td>\n",
       "      <td>mailDestination emailDestination emailDestination</td>\n",
       "      <td>3</td>\n",
       "      <td>1</td>\n",
       "      <td>0</td>\n",
       "      <td>0</td>\n",
       "      <td>1</td>\n",
       "      <td>...</td>\n",
       "      <td>0</td>\n",
       "      <td>1</td>\n",
       "      <td>1</td>\n",
       "      <td>0</td>\n",
       "      <td>0</td>\n",
       "      <td>0</td>\n",
       "      <td>0</td>\n",
       "      <td>0</td>\n",
       "      <td>0</td>\n",
       "      <td>0</td>\n",
       "    </tr>\n",
       "  </tbody>\n",
       "</table>\n",
       "<p>5 rows × 33 columns</p>\n",
       "</div>"
      ],
      "text/plain": [
       "   Unnamed: 0  age    income  aveSpend  \\\n",
       "0           0   38   51000.0   5007.50   \n",
       "1           1   39  100000.0     19.74   \n",
       "2           2   41   51000.0    320.10   \n",
       "3           3   60  152000.0     39.47   \n",
       "4           4   47   60000.0     19.89   \n",
       "\n",
       "                                         touchpoints  nTouchpoints  \\\n",
       "0                      emailDestination mailDiscount             2   \n",
       "1                          emailDestination mailGift             2   \n",
       "2               emailDiscount mailGift emailDiscount             3   \n",
       "3                                       mailDiscount             1   \n",
       "4  mailDestination emailDestination emailDestination             3   \n",
       "\n",
       "   touchpoint_emailDestination  touchpoint_emailDiscount  \\\n",
       "0                            1                         0   \n",
       "1                            1                         0   \n",
       "2                            0                         1   \n",
       "3                            0                         0   \n",
       "4                            1                         0   \n",
       "\n",
       "   touchpoint_emailGift  touchpoint_mailDestination  ...  SocialMedia_U  \\\n",
       "0                     0                           0  ...              1   \n",
       "1                     0                           0  ...              1   \n",
       "2                     0                           0  ...              0   \n",
       "3                     0                           0  ...              1   \n",
       "4                     0                           1  ...              0   \n",
       "\n",
       "   SocialMedia_Y  creditRating_A  creditRating_B  creditRating_C  \\\n",
       "0              0               0               0               1   \n",
       "1              0               0               1               0   \n",
       "2              0               0               0               0   \n",
       "3              0               0               0               1   \n",
       "4              1               1               0               0   \n",
       "\n",
       "   creditRating_D  creditRating_E  creditRating_F  creditRating_G  \\\n",
       "0               0               0               0               0   \n",
       "1               0               0               0               0   \n",
       "2               1               0               0               0   \n",
       "3               0               0               0               0   \n",
       "4               0               0               0               0   \n",
       "\n",
       "   creditRating_New  \n",
       "0                 0  \n",
       "1                 0  \n",
       "2                 0  \n",
       "3                 0  \n",
       "4                 0  \n",
       "\n",
       "[5 rows x 33 columns]"
      ]
     },
     "execution_count": 22,
     "metadata": {},
     "output_type": "execute_result"
    }
   ],
   "source": [
    "df.head()\n",
    "# the index is read as 'Unnamed:0', need to drop it"
   ]
  },
  {
   "cell_type": "code",
   "execution_count": 23,
   "metadata": {},
   "outputs": [],
   "source": [
    "df = df.drop(columns = ['Unnamed: 0'])\n",
    "# df = df.iloc[: , 1:]; this runs the data set only from the first column"
   ]
  },
  {
   "cell_type": "code",
   "execution_count": 24,
   "metadata": {},
   "outputs": [
    {
     "data": {
      "text/html": [
       "<div>\n",
       "<style scoped>\n",
       "    .dataframe tbody tr th:only-of-type {\n",
       "        vertical-align: middle;\n",
       "    }\n",
       "\n",
       "    .dataframe tbody tr th {\n",
       "        vertical-align: top;\n",
       "    }\n",
       "\n",
       "    .dataframe thead th {\n",
       "        text-align: right;\n",
       "    }\n",
       "</style>\n",
       "<table border=\"1\" class=\"dataframe\">\n",
       "  <thead>\n",
       "    <tr style=\"text-align: right;\">\n",
       "      <th></th>\n",
       "      <th>age</th>\n",
       "      <th>income</th>\n",
       "      <th>aveSpend</th>\n",
       "      <th>touchpoints</th>\n",
       "      <th>nTouchpoints</th>\n",
       "      <th>touchpoint_emailDestination</th>\n",
       "      <th>touchpoint_emailDiscount</th>\n",
       "      <th>touchpoint_emailGift</th>\n",
       "      <th>touchpoint_mailDestination</th>\n",
       "      <th>touchpoint_mailDiscount</th>\n",
       "      <th>...</th>\n",
       "      <th>SocialMedia_U</th>\n",
       "      <th>SocialMedia_Y</th>\n",
       "      <th>creditRating_A</th>\n",
       "      <th>creditRating_B</th>\n",
       "      <th>creditRating_C</th>\n",
       "      <th>creditRating_D</th>\n",
       "      <th>creditRating_E</th>\n",
       "      <th>creditRating_F</th>\n",
       "      <th>creditRating_G</th>\n",
       "      <th>creditRating_New</th>\n",
       "    </tr>\n",
       "  </thead>\n",
       "  <tbody>\n",
       "    <tr>\n",
       "      <th>8636</th>\n",
       "      <td>41</td>\n",
       "      <td>100000.0</td>\n",
       "      <td>252.01</td>\n",
       "      <td>smsDiscount mailDiscount</td>\n",
       "      <td>2</td>\n",
       "      <td>0</td>\n",
       "      <td>0</td>\n",
       "      <td>0</td>\n",
       "      <td>0</td>\n",
       "      <td>1</td>\n",
       "      <td>...</td>\n",
       "      <td>1</td>\n",
       "      <td>0</td>\n",
       "      <td>0</td>\n",
       "      <td>0</td>\n",
       "      <td>1</td>\n",
       "      <td>0</td>\n",
       "      <td>0</td>\n",
       "      <td>0</td>\n",
       "      <td>0</td>\n",
       "      <td>0</td>\n",
       "    </tr>\n",
       "  </tbody>\n",
       "</table>\n",
       "<p>1 rows × 32 columns</p>\n",
       "</div>"
      ],
      "text/plain": [
       "      age    income  aveSpend               touchpoints  nTouchpoints  \\\n",
       "8636   41  100000.0    252.01  smsDiscount mailDiscount             2   \n",
       "\n",
       "      touchpoint_emailDestination  touchpoint_emailDiscount  \\\n",
       "8636                            0                         0   \n",
       "\n",
       "      touchpoint_emailGift  touchpoint_mailDestination  \\\n",
       "8636                     0                           0   \n",
       "\n",
       "      touchpoint_mailDiscount  ...  SocialMedia_U  SocialMedia_Y  \\\n",
       "8636                        1  ...              1              0   \n",
       "\n",
       "      creditRating_A  creditRating_B  creditRating_C  creditRating_D  \\\n",
       "8636               0               0               1               0   \n",
       "\n",
       "      creditRating_E  creditRating_F  creditRating_G  creditRating_New  \n",
       "8636               0               0               0                 0  \n",
       "\n",
       "[1 rows x 32 columns]"
      ]
     },
     "execution_count": 24,
     "metadata": {},
     "output_type": "execute_result"
    }
   ],
   "source": [
    "df.sample()"
   ]
  },
  {
   "cell_type": "code",
   "execution_count": 25,
   "metadata": {},
   "outputs": [
    {
     "data": {
      "text/plain": [
       "(12691, 32)"
      ]
     },
     "execution_count": 25,
     "metadata": {},
     "output_type": "execute_result"
    }
   ],
   "source": [
    "df.shape"
   ]
  },
  {
   "cell_type": "code",
   "execution_count": 26,
   "metadata": {},
   "outputs": [
    {
     "data": {
      "text/plain": [
       "age                            0\n",
       "income                         0\n",
       "aveSpend                       0\n",
       "touchpoints                    0\n",
       "nTouchpoints                   0\n",
       "touchpoint_emailDestination    0\n",
       "touchpoint_emailDiscount       0\n",
       "touchpoint_emailGift           0\n",
       "touchpoint_mailDestination     0\n",
       "touchpoint_mailDiscount        0\n",
       "touchpoint_mailGift            0\n",
       "touchpoint_smsDestination      0\n",
       "touchpoint_smsDiscount         0\n",
       "touchpoint_smsGift             0\n",
       "marital_divorced               0\n",
       "marital_married                0\n",
       "marital_single                 0\n",
       "segment_P1                     0\n",
       "segment_P2                     0\n",
       "segment_P3                     0\n",
       "segment_P4                     0\n",
       "SocialMedia_N                  0\n",
       "SocialMedia_U                  0\n",
       "SocialMedia_Y                  0\n",
       "creditRating_A                 0\n",
       "creditRating_B                 0\n",
       "creditRating_C                 0\n",
       "creditRating_D                 0\n",
       "creditRating_E                 0\n",
       "creditRating_F                 0\n",
       "creditRating_G                 0\n",
       "creditRating_New               0\n",
       "dtype: int64"
      ]
     },
     "execution_count": 26,
     "metadata": {},
     "output_type": "execute_result"
    }
   ],
   "source": [
    "df.isnull().sum()"
   ]
  },
  {
   "cell_type": "code",
   "execution_count": 32,
   "metadata": {},
   "outputs": [
    {
     "data": {
      "text/html": [
       "<div>\n",
       "<style scoped>\n",
       "    .dataframe tbody tr th:only-of-type {\n",
       "        vertical-align: middle;\n",
       "    }\n",
       "\n",
       "    .dataframe tbody tr th {\n",
       "        vertical-align: top;\n",
       "    }\n",
       "\n",
       "    .dataframe thead th {\n",
       "        text-align: right;\n",
       "    }\n",
       "</style>\n",
       "<table border=\"1\" class=\"dataframe\">\n",
       "  <thead>\n",
       "    <tr style=\"text-align: right;\">\n",
       "      <th></th>\n",
       "      <th>age</th>\n",
       "      <th>income</th>\n",
       "      <th>aveSpend</th>\n",
       "      <th>nTouchpoints</th>\n",
       "      <th>touchpoint_emailDestination</th>\n",
       "      <th>touchpoint_emailDiscount</th>\n",
       "      <th>touchpoint_emailGift</th>\n",
       "      <th>touchpoint_mailDestination</th>\n",
       "      <th>touchpoint_mailDiscount</th>\n",
       "      <th>touchpoint_mailGift</th>\n",
       "      <th>...</th>\n",
       "      <th>SocialMedia_U</th>\n",
       "      <th>SocialMedia_Y</th>\n",
       "      <th>creditRating_A</th>\n",
       "      <th>creditRating_B</th>\n",
       "      <th>creditRating_C</th>\n",
       "      <th>creditRating_D</th>\n",
       "      <th>creditRating_E</th>\n",
       "      <th>creditRating_F</th>\n",
       "      <th>creditRating_G</th>\n",
       "      <th>creditRating_New</th>\n",
       "    </tr>\n",
       "  </thead>\n",
       "  <tbody>\n",
       "    <tr>\n",
       "      <th>count</th>\n",
       "      <td>12691.000000</td>\n",
       "      <td>12691.000000</td>\n",
       "      <td>12691.000000</td>\n",
       "      <td>12691.000000</td>\n",
       "      <td>12691.000000</td>\n",
       "      <td>12691.000000</td>\n",
       "      <td>12691.000000</td>\n",
       "      <td>12691.000000</td>\n",
       "      <td>12691.000000</td>\n",
       "      <td>12691.000000</td>\n",
       "      <td>...</td>\n",
       "      <td>12691.000000</td>\n",
       "      <td>12691.000000</td>\n",
       "      <td>12691.000000</td>\n",
       "      <td>12691.000000</td>\n",
       "      <td>12691.000000</td>\n",
       "      <td>12691.000000</td>\n",
       "      <td>12691.000000</td>\n",
       "      <td>12691.000000</td>\n",
       "      <td>12691.000000</td>\n",
       "      <td>12691.000000</td>\n",
       "    </tr>\n",
       "    <tr>\n",
       "      <th>mean</th>\n",
       "      <td>39.205579</td>\n",
       "      <td>71754.864310</td>\n",
       "      <td>455.888371</td>\n",
       "      <td>2.973367</td>\n",
       "      <td>0.644709</td>\n",
       "      <td>0.423056</td>\n",
       "      <td>0.127177</td>\n",
       "      <td>0.108108</td>\n",
       "      <td>0.270585</td>\n",
       "      <td>0.103774</td>\n",
       "      <td>...</td>\n",
       "      <td>0.335119</td>\n",
       "      <td>0.334568</td>\n",
       "      <td>0.206997</td>\n",
       "      <td>0.251202</td>\n",
       "      <td>0.253408</td>\n",
       "      <td>0.136553</td>\n",
       "      <td>0.088645</td>\n",
       "      <td>0.028445</td>\n",
       "      <td>0.005201</td>\n",
       "      <td>0.029548</td>\n",
       "    </tr>\n",
       "    <tr>\n",
       "      <th>std</th>\n",
       "      <td>9.274208</td>\n",
       "      <td>36928.627863</td>\n",
       "      <td>1027.250661</td>\n",
       "      <td>2.136275</td>\n",
       "      <td>0.478620</td>\n",
       "      <td>0.494064</td>\n",
       "      <td>0.333184</td>\n",
       "      <td>0.310529</td>\n",
       "      <td>0.444280</td>\n",
       "      <td>0.304980</td>\n",
       "      <td>...</td>\n",
       "      <td>0.472051</td>\n",
       "      <td>0.471858</td>\n",
       "      <td>0.405169</td>\n",
       "      <td>0.433721</td>\n",
       "      <td>0.434980</td>\n",
       "      <td>0.343389</td>\n",
       "      <td>0.284243</td>\n",
       "      <td>0.166248</td>\n",
       "      <td>0.071930</td>\n",
       "      <td>0.169345</td>\n",
       "    </tr>\n",
       "    <tr>\n",
       "      <th>min</th>\n",
       "      <td>20.000000</td>\n",
       "      <td>10000.000000</td>\n",
       "      <td>0.000000</td>\n",
       "      <td>1.000000</td>\n",
       "      <td>0.000000</td>\n",
       "      <td>0.000000</td>\n",
       "      <td>0.000000</td>\n",
       "      <td>0.000000</td>\n",
       "      <td>0.000000</td>\n",
       "      <td>0.000000</td>\n",
       "      <td>...</td>\n",
       "      <td>0.000000</td>\n",
       "      <td>0.000000</td>\n",
       "      <td>0.000000</td>\n",
       "      <td>0.000000</td>\n",
       "      <td>0.000000</td>\n",
       "      <td>0.000000</td>\n",
       "      <td>0.000000</td>\n",
       "      <td>0.000000</td>\n",
       "      <td>0.000000</td>\n",
       "      <td>0.000000</td>\n",
       "    </tr>\n",
       "    <tr>\n",
       "      <th>25%</th>\n",
       "      <td>32.000000</td>\n",
       "      <td>45000.000000</td>\n",
       "      <td>19.770000</td>\n",
       "      <td>1.000000</td>\n",
       "      <td>0.000000</td>\n",
       "      <td>0.000000</td>\n",
       "      <td>0.000000</td>\n",
       "      <td>0.000000</td>\n",
       "      <td>0.000000</td>\n",
       "      <td>0.000000</td>\n",
       "      <td>...</td>\n",
       "      <td>0.000000</td>\n",
       "      <td>0.000000</td>\n",
       "      <td>0.000000</td>\n",
       "      <td>0.000000</td>\n",
       "      <td>0.000000</td>\n",
       "      <td>0.000000</td>\n",
       "      <td>0.000000</td>\n",
       "      <td>0.000000</td>\n",
       "      <td>0.000000</td>\n",
       "      <td>0.000000</td>\n",
       "    </tr>\n",
       "    <tr>\n",
       "      <th>50%</th>\n",
       "      <td>38.000000</td>\n",
       "      <td>64000.000000</td>\n",
       "      <td>88.750000</td>\n",
       "      <td>2.000000</td>\n",
       "      <td>1.000000</td>\n",
       "      <td>0.000000</td>\n",
       "      <td>0.000000</td>\n",
       "      <td>0.000000</td>\n",
       "      <td>0.000000</td>\n",
       "      <td>0.000000</td>\n",
       "      <td>...</td>\n",
       "      <td>0.000000</td>\n",
       "      <td>0.000000</td>\n",
       "      <td>0.000000</td>\n",
       "      <td>0.000000</td>\n",
       "      <td>0.000000</td>\n",
       "      <td>0.000000</td>\n",
       "      <td>0.000000</td>\n",
       "      <td>0.000000</td>\n",
       "      <td>0.000000</td>\n",
       "      <td>0.000000</td>\n",
       "    </tr>\n",
       "    <tr>\n",
       "      <th>75%</th>\n",
       "      <td>46.000000</td>\n",
       "      <td>90000.000000</td>\n",
       "      <td>383.730000</td>\n",
       "      <td>4.000000</td>\n",
       "      <td>1.000000</td>\n",
       "      <td>1.000000</td>\n",
       "      <td>0.000000</td>\n",
       "      <td>0.000000</td>\n",
       "      <td>1.000000</td>\n",
       "      <td>0.000000</td>\n",
       "      <td>...</td>\n",
       "      <td>1.000000</td>\n",
       "      <td>1.000000</td>\n",
       "      <td>0.000000</td>\n",
       "      <td>1.000000</td>\n",
       "      <td>1.000000</td>\n",
       "      <td>0.000000</td>\n",
       "      <td>0.000000</td>\n",
       "      <td>0.000000</td>\n",
       "      <td>0.000000</td>\n",
       "      <td>0.000000</td>\n",
       "    </tr>\n",
       "    <tr>\n",
       "      <th>max</th>\n",
       "      <td>60.000000</td>\n",
       "      <td>249000.000000</td>\n",
       "      <td>7292.880000</td>\n",
       "      <td>8.000000</td>\n",
       "      <td>1.000000</td>\n",
       "      <td>1.000000</td>\n",
       "      <td>1.000000</td>\n",
       "      <td>1.000000</td>\n",
       "      <td>1.000000</td>\n",
       "      <td>1.000000</td>\n",
       "      <td>...</td>\n",
       "      <td>1.000000</td>\n",
       "      <td>1.000000</td>\n",
       "      <td>1.000000</td>\n",
       "      <td>1.000000</td>\n",
       "      <td>1.000000</td>\n",
       "      <td>1.000000</td>\n",
       "      <td>1.000000</td>\n",
       "      <td>1.000000</td>\n",
       "      <td>1.000000</td>\n",
       "      <td>1.000000</td>\n",
       "    </tr>\n",
       "  </tbody>\n",
       "</table>\n",
       "<p>8 rows × 31 columns</p>\n",
       "</div>"
      ],
      "text/plain": [
       "                age         income      aveSpend  nTouchpoints  \\\n",
       "count  12691.000000   12691.000000  12691.000000  12691.000000   \n",
       "mean      39.205579   71754.864310    455.888371      2.973367   \n",
       "std        9.274208   36928.627863   1027.250661      2.136275   \n",
       "min       20.000000   10000.000000      0.000000      1.000000   \n",
       "25%       32.000000   45000.000000     19.770000      1.000000   \n",
       "50%       38.000000   64000.000000     88.750000      2.000000   \n",
       "75%       46.000000   90000.000000    383.730000      4.000000   \n",
       "max       60.000000  249000.000000   7292.880000      8.000000   \n",
       "\n",
       "       touchpoint_emailDestination  touchpoint_emailDiscount  \\\n",
       "count                 12691.000000              12691.000000   \n",
       "mean                      0.644709                  0.423056   \n",
       "std                       0.478620                  0.494064   \n",
       "min                       0.000000                  0.000000   \n",
       "25%                       0.000000                  0.000000   \n",
       "50%                       1.000000                  0.000000   \n",
       "75%                       1.000000                  1.000000   \n",
       "max                       1.000000                  1.000000   \n",
       "\n",
       "       touchpoint_emailGift  touchpoint_mailDestination  \\\n",
       "count          12691.000000                12691.000000   \n",
       "mean               0.127177                    0.108108   \n",
       "std                0.333184                    0.310529   \n",
       "min                0.000000                    0.000000   \n",
       "25%                0.000000                    0.000000   \n",
       "50%                0.000000                    0.000000   \n",
       "75%                0.000000                    0.000000   \n",
       "max                1.000000                    1.000000   \n",
       "\n",
       "       touchpoint_mailDiscount  touchpoint_mailGift  ...  SocialMedia_U  \\\n",
       "count             12691.000000         12691.000000  ...   12691.000000   \n",
       "mean                  0.270585             0.103774  ...       0.335119   \n",
       "std                   0.444280             0.304980  ...       0.472051   \n",
       "min                   0.000000             0.000000  ...       0.000000   \n",
       "25%                   0.000000             0.000000  ...       0.000000   \n",
       "50%                   0.000000             0.000000  ...       0.000000   \n",
       "75%                   1.000000             0.000000  ...       1.000000   \n",
       "max                   1.000000             1.000000  ...       1.000000   \n",
       "\n",
       "       SocialMedia_Y  creditRating_A  creditRating_B  creditRating_C  \\\n",
       "count   12691.000000    12691.000000    12691.000000    12691.000000   \n",
       "mean        0.334568        0.206997        0.251202        0.253408   \n",
       "std         0.471858        0.405169        0.433721        0.434980   \n",
       "min         0.000000        0.000000        0.000000        0.000000   \n",
       "25%         0.000000        0.000000        0.000000        0.000000   \n",
       "50%         0.000000        0.000000        0.000000        0.000000   \n",
       "75%         1.000000        0.000000        1.000000        1.000000   \n",
       "max         1.000000        1.000000        1.000000        1.000000   \n",
       "\n",
       "       creditRating_D  creditRating_E  creditRating_F  creditRating_G  \\\n",
       "count    12691.000000    12691.000000    12691.000000    12691.000000   \n",
       "mean         0.136553        0.088645        0.028445        0.005201   \n",
       "std          0.343389        0.284243        0.166248        0.071930   \n",
       "min          0.000000        0.000000        0.000000        0.000000   \n",
       "25%          0.000000        0.000000        0.000000        0.000000   \n",
       "50%          0.000000        0.000000        0.000000        0.000000   \n",
       "75%          0.000000        0.000000        0.000000        0.000000   \n",
       "max          1.000000        1.000000        1.000000        1.000000   \n",
       "\n",
       "       creditRating_New  \n",
       "count      12691.000000  \n",
       "mean           0.029548  \n",
       "std            0.169345  \n",
       "min            0.000000  \n",
       "25%            0.000000  \n",
       "50%            0.000000  \n",
       "75%            0.000000  \n",
       "max            1.000000  \n",
       "\n",
       "[8 rows x 31 columns]"
      ]
     },
     "execution_count": 32,
     "metadata": {},
     "output_type": "execute_result"
    }
   ],
   "source": [
    "'''\n",
    "Kind of like a Pivot Table in that it groups data together by\n",
    "different variable and subtotals (i.e., count, mean, standard deviation, etc.)\n",
    "''' \n",
    "df.describe() \n",
    "# all numerical\n",
    "\n"
   ]
  },
  {
   "cell_type": "markdown",
   "metadata": {},
   "source": [
    "# Robust scaler "
   ]
  },
  {
   "cell_type": "code",
   "execution_count": 33,
   "metadata": {},
   "outputs": [],
   "source": [
    "# the 3 continuous variables' ranges vary significantly, so need to standardize the data"
   ]
  },
  {
   "cell_type": "code",
   "execution_count": 34,
   "metadata": {},
   "outputs": [],
   "source": [
    "# Note that the max-min range of all 3 variables are very different from one another. \n",
    "# When we do further analysis, like multivariate linear regression, for example,\n",
    "# the attributed income will intrinsically influence the result more due to its larger value. \n",
    "# Hence, it is important to standardize and normalize the data to bring all variables to the same range.\n",
    "# \n",
    "# use Robust Scaler (QuantileTransformer): similar to normalization but it instead uses the interquartile range, so that it is robust to outliers."
   ]
  },
  {
   "cell_type": "code",
   "execution_count": 35,
   "metadata": {},
   "outputs": [],
   "source": [
    "\n",
    "qt = QuantileTransformer(output_distribution='normal')"
   ]
  },
  {
   "cell_type": "code",
   "execution_count": 36,
   "metadata": {},
   "outputs": [],
   "source": [
    "df['nAveSpend'] = qt.fit_transform(df[['aveSpend']].values.reshape(-1,1))\n",
    "df['nIncome'] = qt.fit_transform(df[['income']].values.reshape(-1,1))\n",
    "df['nAge'] = qt.fit_transform(df[['age']].values.reshape(-1,1))"
   ]
  },
  {
   "cell_type": "code",
   "execution_count": 37,
   "metadata": {},
   "outputs": [
    {
     "data": {
      "text/html": [
       "<div>\n",
       "<style scoped>\n",
       "    .dataframe tbody tr th:only-of-type {\n",
       "        vertical-align: middle;\n",
       "    }\n",
       "\n",
       "    .dataframe tbody tr th {\n",
       "        vertical-align: top;\n",
       "    }\n",
       "\n",
       "    .dataframe thead th {\n",
       "        text-align: right;\n",
       "    }\n",
       "</style>\n",
       "<table border=\"1\" class=\"dataframe\">\n",
       "  <thead>\n",
       "    <tr style=\"text-align: right;\">\n",
       "      <th></th>\n",
       "      <th>nAveSpend</th>\n",
       "      <th>nIncome</th>\n",
       "      <th>nAge</th>\n",
       "    </tr>\n",
       "  </thead>\n",
       "  <tbody>\n",
       "    <tr>\n",
       "      <th>count</th>\n",
       "      <td>12691.000000</td>\n",
       "      <td>12691.000000</td>\n",
       "      <td>12691.000000</td>\n",
       "    </tr>\n",
       "    <tr>\n",
       "      <th>mean</th>\n",
       "      <td>-0.013194</td>\n",
       "      <td>-0.000090</td>\n",
       "      <td>0.015339</td>\n",
       "    </tr>\n",
       "    <tr>\n",
       "      <th>std</th>\n",
       "      <td>1.065121</td>\n",
       "      <td>1.002134</td>\n",
       "      <td>1.079264</td>\n",
       "    </tr>\n",
       "    <tr>\n",
       "      <th>min</th>\n",
       "      <td>-5.199338</td>\n",
       "      <td>-5.199338</td>\n",
       "      <td>-5.199338</td>\n",
       "    </tr>\n",
       "    <tr>\n",
       "      <th>25%</th>\n",
       "      <td>-0.676002</td>\n",
       "      <td>-0.695908</td>\n",
       "      <td>-0.654930</td>\n",
       "    </tr>\n",
       "    <tr>\n",
       "      <th>50%</th>\n",
       "      <td>0.000635</td>\n",
       "      <td>-0.002509</td>\n",
       "      <td>0.038901</td>\n",
       "    </tr>\n",
       "    <tr>\n",
       "      <th>75%</th>\n",
       "      <td>0.674226</td>\n",
       "      <td>0.689529</td>\n",
       "      <td>0.668987</td>\n",
       "    </tr>\n",
       "    <tr>\n",
       "      <th>max</th>\n",
       "      <td>5.199338</td>\n",
       "      <td>5.199338</td>\n",
       "      <td>5.199338</td>\n",
       "    </tr>\n",
       "  </tbody>\n",
       "</table>\n",
       "</div>"
      ],
      "text/plain": [
       "          nAveSpend       nIncome          nAge\n",
       "count  12691.000000  12691.000000  12691.000000\n",
       "mean      -0.013194     -0.000090      0.015339\n",
       "std        1.065121      1.002134      1.079264\n",
       "min       -5.199338     -5.199338     -5.199338\n",
       "25%       -0.676002     -0.695908     -0.654930\n",
       "50%        0.000635     -0.002509      0.038901\n",
       "75%        0.674226      0.689529      0.668987\n",
       "max        5.199338      5.199338      5.199338"
      ]
     },
     "execution_count": 37,
     "metadata": {},
     "output_type": "execute_result"
    }
   ],
   "source": [
    "df[['nAveSpend','nIncome','nAge']].describe() \n",
    "# of similar range now\n",
    "# Note that this function greatly compresses the range from -20 min and 60 max to -5.199 min and 5.199 max"
   ]
  },
  {
   "cell_type": "code",
   "execution_count": 38,
   "metadata": {},
   "outputs": [
    {
     "name": "stdout",
     "output_type": "stream",
     "text": [
      "Plot for NAGE: total counts = 12691\n"
     ]
    },
    {
     "name": "stderr",
     "output_type": "stream",
     "text": [
      "E:\\Anaconda\\lib\\site-packages\\seaborn\\distributions.py:2557: FutureWarning: `distplot` is a deprecated function and will be removed in a future version. Please adapt your code to use either `displot` (a figure-level function with similar flexibility) or `histplot` (an axes-level function for histograms).\n",
      "  warnings.warn(msg, FutureWarning)\n",
      "<ipython-input-38-5a23e94f9b3c>:9: UserWarning: FixedFormatter should only be used together with FixedLocator\n",
      "  plot.set_xticklabels(plot.get_xticklabels(), rotation=45)\n"
     ]
    },
    {
     "data": {
      "image/png": "[encoded data removed]",
      "text/plain": [
       "<Figure size 720x360 with 1 Axes>"
      ]
     },
     "metadata": {},
     "output_type": "display_data"
    },
    {
     "name": "stdout",
     "output_type": "stream",
     "text": [
      "Plot for NINCOME: total counts = 12691\n"
     ]
    },
    {
     "name": "stderr",
     "output_type": "stream",
     "text": [
      "E:\\Anaconda\\lib\\site-packages\\seaborn\\distributions.py:2557: FutureWarning: `distplot` is a deprecated function and will be removed in a future version. Please adapt your code to use either `displot` (a figure-level function with similar flexibility) or `histplot` (an axes-level function for histograms).\n",
      "  warnings.warn(msg, FutureWarning)\n",
      "<ipython-input-38-5a23e94f9b3c>:9: UserWarning: FixedFormatter should only be used together with FixedLocator\n",
      "  plot.set_xticklabels(plot.get_xticklabels(), rotation=45)\n"
     ]
    },
    {
     "data": {
      "image/png": "[encoded data removed]",
      "text/plain": [
       "<Figure size 720x360 with 1 Axes>"
      ]
     },
     "metadata": {},
     "output_type": "display_data"
    },
    {
     "name": "stdout",
     "output_type": "stream",
     "text": [
      "Plot for NAVESPEND: total counts = 12691\n"
     ]
    },
    {
     "name": "stderr",
     "output_type": "stream",
     "text": [
      "E:\\Anaconda\\lib\\site-packages\\seaborn\\distributions.py:2557: FutureWarning: `distplot` is a deprecated function and will be removed in a future version. Please adapt your code to use either `displot` (a figure-level function with similar flexibility) or `histplot` (an axes-level function for histograms).\n",
      "  warnings.warn(msg, FutureWarning)\n",
      "<ipython-input-38-5a23e94f9b3c>:9: UserWarning: FixedFormatter should only be used together with FixedLocator\n",
      "  plot.set_xticklabels(plot.get_xticklabels(), rotation=45)\n"
     ]
    },
    {
     "data": {
      "image/png": "[encoded data removed]",
      "text/plain": [
       "<Figure size 720x360 with 1 Axes>"
      ]
     },
     "metadata": {},
     "output_type": "display_data"
    }
   ],
   "source": [
    "\n",
    "sns.set(style=\"whitegrid\")\n",
    "\n",
    "df_explore = df[['nAge', 'nIncome', 'nAveSpend']]\n",
    "for cat in df_explore:\n",
    "    cat_num = df_explore[cat]\n",
    "    print(\"Plot for %s: total counts = %d\" % (cat.upper(), len(cat_num)))\n",
    "    f, ax = plt.subplots(figsize=(10,5))\n",
    "    plot = sns.distplot(cat_num)\n",
    "    plot.set_xticklabels(plot.get_xticklabels(), rotation=45)\n",
    "    plt.show() # all look good"
   ]
  },
  {
   "cell_type": "markdown",
   "metadata": {},
   "source": [
    "# create target var"
   ]
  },
  {
   "cell_type": "code",
   "execution_count": 39,
   "metadata": {},
   "outputs": [
    {
     "data": {
      "text/plain": [
       "emailDestination                                                                                 2053\n",
       "emailDiscount                                                                                     826\n",
       "mailDiscount                                                                                      405\n",
       "emailDestination emailDestination                                                                 345\n",
       "smsDiscount                                                                                       337\n",
       "                                                                                                 ... \n",
       "smsDiscount mailDestination emailDestination                                                        1\n",
       "emailDiscount emailDestination emailDiscount smsGift smsDiscount emailDiscount emailDiscount        1\n",
       "emailDestination emailDiscount smsDiscount emailDestination emailDestination emailDestination       1\n",
       "emailDestination mailDiscount smsGift emailDiscount emailDiscount                                   1\n",
       "emailDiscount emailDiscount emailDiscount emailDiscount mailGift mailGift smsGift mailGift          1\n",
       "Name: touchpoints, Length: 978, dtype: int64"
      ]
     },
     "execution_count": 39,
     "metadata": {},
     "output_type": "execute_result"
    }
   ],
   "source": [
    "# assume the last touchpoint in the column is the most current one\n",
    "# the results indicate that email is the most common touchpoint, \n",
    "# suggesting that emails are the best method for the company to secure sales.\n",
    "df.touchpoints.value_counts()"
   ]
  },
  {
   "cell_type": "code",
   "execution_count": 42,
   "metadata": {},
   "outputs": [
    {
     "data": {
      "text/plain": [
       "0                        emailDestination mailDiscount\n",
       "1                            emailDestination mailGift\n",
       "2                 emailDiscount mailGift emailDiscount\n",
       "3                                         mailDiscount\n",
       "4    mailDestination emailDestination emailDestination\n",
       "Name: touchpoints, dtype: object"
      ]
     },
     "execution_count": 42,
     "metadata": {},
     "output_type": "execute_result"
    }
   ],
   "source": [
    "df.touchpoints.head()"
   ]
  },
  {
   "cell_type": "code",
   "execution_count": 49,
   "metadata": {},
   "outputs": [],
   "source": [
    "# use reverse split by delimiter \n",
    "# This function takes the last substring [which resembles a word separated by white space from the previous \"word\"]\n",
    "# and divides it\n",
    "# df1 = df[\"touchpoints\"].str.split(\" \", n = 1, expand = True) \n",
    "df['last_touchpoint'] = df['touchpoints'].str.split(' ').str[-1]\n"
   ]
  },
  {
   "cell_type": "code",
   "execution_count": 52,
   "metadata": {},
   "outputs": [
    {
     "data": {
      "text/html": [
       "<div>\n",
       "<style scoped>\n",
       "    .dataframe tbody tr th:only-of-type {\n",
       "        vertical-align: middle;\n",
       "    }\n",
       "\n",
       "    .dataframe tbody tr th {\n",
       "        vertical-align: top;\n",
       "    }\n",
       "\n",
       "    .dataframe thead th {\n",
       "        text-align: right;\n",
       "    }\n",
       "</style>\n",
       "<table border=\"1\" class=\"dataframe\">\n",
       "  <thead>\n",
       "    <tr style=\"text-align: right;\">\n",
       "      <th></th>\n",
       "      <th>touchpoints</th>\n",
       "    </tr>\n",
       "  </thead>\n",
       "  <tbody>\n",
       "    <tr>\n",
       "      <th>0</th>\n",
       "      <td>emailDestination mailDiscount</td>\n",
       "    </tr>\n",
       "    <tr>\n",
       "      <th>1</th>\n",
       "      <td>emailDestination mailGift</td>\n",
       "    </tr>\n",
       "    <tr>\n",
       "      <th>2</th>\n",
       "      <td>emailDiscount mailGift emailDiscount</td>\n",
       "    </tr>\n",
       "    <tr>\n",
       "      <th>3</th>\n",
       "      <td>mailDiscount</td>\n",
       "    </tr>\n",
       "    <tr>\n",
       "      <th>4</th>\n",
       "      <td>mailDestination emailDestination emailDestination</td>\n",
       "    </tr>\n",
       "    <tr>\n",
       "      <th>5</th>\n",
       "      <td>emailDestination</td>\n",
       "    </tr>\n",
       "    <tr>\n",
       "      <th>6</th>\n",
       "      <td>smsDiscount</td>\n",
       "    </tr>\n",
       "    <tr>\n",
       "      <th>7</th>\n",
       "      <td>emailDestination emailDiscount</td>\n",
       "    </tr>\n",
       "    <tr>\n",
       "      <th>8</th>\n",
       "      <td>emailDestination mailDiscount emailGift emailD...</td>\n",
       "    </tr>\n",
       "    <tr>\n",
       "      <th>9</th>\n",
       "      <td>emailDiscount mailDiscount</td>\n",
       "    </tr>\n",
       "  </tbody>\n",
       "</table>\n",
       "</div>"
      ],
      "text/plain": [
       "                                         touchpoints\n",
       "0                      emailDestination mailDiscount\n",
       "1                          emailDestination mailGift\n",
       "2               emailDiscount mailGift emailDiscount\n",
       "3                                       mailDiscount\n",
       "4  mailDestination emailDestination emailDestination\n",
       "5                                   emailDestination\n",
       "6                                        smsDiscount\n",
       "7                     emailDestination emailDiscount\n",
       "8  emailDestination mailDiscount emailGift emailD...\n",
       "9                         emailDiscount mailDiscount"
      ]
     },
     "execution_count": 52,
     "metadata": {},
     "output_type": "execute_result"
    }
   ],
   "source": [
    "df[['touchpoints']].head(10)"
   ]
  },
  {
   "cell_type": "code",
   "execution_count": 53,
   "metadata": {},
   "outputs": [
    {
     "data": {
      "text/html": [
       "<div>\n",
       "<style scoped>\n",
       "    .dataframe tbody tr th:only-of-type {\n",
       "        vertical-align: middle;\n",
       "    }\n",
       "\n",
       "    .dataframe tbody tr th {\n",
       "        vertical-align: top;\n",
       "    }\n",
       "\n",
       "    .dataframe thead th {\n",
       "        text-align: right;\n",
       "    }\n",
       "</style>\n",
       "<table border=\"1\" class=\"dataframe\">\n",
       "  <thead>\n",
       "    <tr style=\"text-align: right;\">\n",
       "      <th></th>\n",
       "      <th>last_touchpoint</th>\n",
       "    </tr>\n",
       "  </thead>\n",
       "  <tbody>\n",
       "    <tr>\n",
       "      <th>0</th>\n",
       "      <td>mailDiscount</td>\n",
       "    </tr>\n",
       "    <tr>\n",
       "      <th>1</th>\n",
       "      <td>mailGift</td>\n",
       "    </tr>\n",
       "    <tr>\n",
       "      <th>2</th>\n",
       "      <td>emailDiscount</td>\n",
       "    </tr>\n",
       "    <tr>\n",
       "      <th>3</th>\n",
       "      <td>mailDiscount</td>\n",
       "    </tr>\n",
       "    <tr>\n",
       "      <th>4</th>\n",
       "      <td>emailDestination</td>\n",
       "    </tr>\n",
       "    <tr>\n",
       "      <th>5</th>\n",
       "      <td>emailDestination</td>\n",
       "    </tr>\n",
       "    <tr>\n",
       "      <th>6</th>\n",
       "      <td>smsDiscount</td>\n",
       "    </tr>\n",
       "    <tr>\n",
       "      <th>7</th>\n",
       "      <td>emailDiscount</td>\n",
       "    </tr>\n",
       "    <tr>\n",
       "      <th>8</th>\n",
       "      <td>emailDestination</td>\n",
       "    </tr>\n",
       "    <tr>\n",
       "      <th>9</th>\n",
       "      <td>mailDiscount</td>\n",
       "    </tr>\n",
       "  </tbody>\n",
       "</table>\n",
       "</div>"
      ],
      "text/plain": [
       "    last_touchpoint\n",
       "0      mailDiscount\n",
       "1          mailGift\n",
       "2     emailDiscount\n",
       "3      mailDiscount\n",
       "4  emailDestination\n",
       "5  emailDestination\n",
       "6       smsDiscount\n",
       "7     emailDiscount\n",
       "8  emailDestination\n",
       "9      mailDiscount"
      ]
     },
     "execution_count": 53,
     "metadata": {},
     "output_type": "execute_result"
    }
   ],
   "source": [
    "# df1.head()\n",
    "df[['last_touchpoint']].head(10)"
   ]
  },
  {
   "cell_type": "code",
   "execution_count": 54,
   "metadata": {},
   "outputs": [
    {
     "data": {
      "text/plain": [
       "emailDestination    4708\n",
       "emailDiscount       2767\n",
       "mailDiscount        1529\n",
       "smsDiscount          994\n",
       "emailGift            591\n",
       "mailDestination      568\n",
       "mailGift             561\n",
       "smsGift              518\n",
       "smsDestination       455\n",
       "Name: last_touchpoint, dtype: int64"
      ]
     },
     "execution_count": 54,
     "metadata": {},
     "output_type": "execute_result"
    }
   ],
   "source": [
    "df.last_touchpoint.value_counts()"
   ]
  },
  {
   "cell_type": "code",
   "execution_count": 55,
   "metadata": {},
   "outputs": [],
   "source": [
    "# recode it as numerical values \n",
    "dic = {'emailDestination': 1, \n",
    "'emailDiscount'   :     2,\n",
    "'mailDiscount'    :    3, \n",
    "'smsDiscount'      :   4,\n",
    "'emailGift'         :  5,\n",
    "'smsDestination'    :  6,\n",
    "'smsGift'           :  7,\n",
    "'mailDestination':  8,\n",
    "'mailGift'          :  9}"
   ]
  },
  {
   "cell_type": "code",
   "execution_count": 56,
   "metadata": {},
   "outputs": [],
   "source": [
    "# maps the new value to the newly created column\n",
    "df['label'] = df['last_touchpoint'].map(dic)"
   ]
  },
  {
   "cell_type": "code",
   "execution_count": 57,
   "metadata": {},
   "outputs": [
    {
     "data": {
      "text/plain": [
       "1    4708\n",
       "2    2767\n",
       "3    1529\n",
       "4     994\n",
       "5     591\n",
       "8     568\n",
       "9     561\n",
       "7     518\n",
       "6     455\n",
       "Name: label, dtype: int64"
      ]
     },
     "execution_count": 57,
     "metadata": {},
     "output_type": "execute_result"
    }
   ],
   "source": [
    "df.label.value_counts()"
   ]
  },
  {
   "cell_type": "code",
   "execution_count": 58,
   "metadata": {},
   "outputs": [
    {
     "data": {
      "text/html": [
       "<div>\n",
       "<style scoped>\n",
       "    .dataframe tbody tr th:only-of-type {\n",
       "        vertical-align: middle;\n",
       "    }\n",
       "\n",
       "    .dataframe tbody tr th {\n",
       "        vertical-align: top;\n",
       "    }\n",
       "\n",
       "    .dataframe thead th {\n",
       "        text-align: right;\n",
       "    }\n",
       "</style>\n",
       "<table border=\"1\" class=\"dataframe\">\n",
       "  <thead>\n",
       "    <tr style=\"text-align: right;\">\n",
       "      <th></th>\n",
       "      <th>age</th>\n",
       "      <th>income</th>\n",
       "      <th>aveSpend</th>\n",
       "      <th>touchpoints</th>\n",
       "      <th>nTouchpoints</th>\n",
       "      <th>touchpoint_emailDestination</th>\n",
       "      <th>touchpoint_emailDiscount</th>\n",
       "      <th>touchpoint_emailGift</th>\n",
       "      <th>touchpoint_mailDestination</th>\n",
       "      <th>touchpoint_mailDiscount</th>\n",
       "      <th>...</th>\n",
       "      <th>creditRating_D</th>\n",
       "      <th>creditRating_E</th>\n",
       "      <th>creditRating_F</th>\n",
       "      <th>creditRating_G</th>\n",
       "      <th>creditRating_New</th>\n",
       "      <th>nAveSpend</th>\n",
       "      <th>nIncome</th>\n",
       "      <th>nAge</th>\n",
       "      <th>last_touchpoint</th>\n",
       "      <th>label</th>\n",
       "    </tr>\n",
       "  </thead>\n",
       "  <tbody>\n",
       "    <tr>\n",
       "      <th>11262</th>\n",
       "      <td>47</td>\n",
       "      <td>72000.0</td>\n",
       "      <td>102.24</td>\n",
       "      <td>mailDestination</td>\n",
       "      <td>1</td>\n",
       "      <td>0</td>\n",
       "      <td>0</td>\n",
       "      <td>0</td>\n",
       "      <td>1</td>\n",
       "      <td>0</td>\n",
       "      <td>...</td>\n",
       "      <td>0</td>\n",
       "      <td>1</td>\n",
       "      <td>0</td>\n",
       "      <td>0</td>\n",
       "      <td>0</td>\n",
       "      <td>0.07954</td>\n",
       "      <td>0.262686</td>\n",
       "      <td>0.754664</td>\n",
       "      <td>mailDestination</td>\n",
       "      <td>8</td>\n",
       "    </tr>\n",
       "  </tbody>\n",
       "</table>\n",
       "<p>1 rows × 37 columns</p>\n",
       "</div>"
      ],
      "text/plain": [
       "       age   income  aveSpend      touchpoints  nTouchpoints  \\\n",
       "11262   47  72000.0    102.24  mailDestination             1   \n",
       "\n",
       "       touchpoint_emailDestination  touchpoint_emailDiscount  \\\n",
       "11262                            0                         0   \n",
       "\n",
       "       touchpoint_emailGift  touchpoint_mailDestination  \\\n",
       "11262                     0                           1   \n",
       "\n",
       "       touchpoint_mailDiscount  ...  creditRating_D  creditRating_E  \\\n",
       "11262                        0  ...               0               1   \n",
       "\n",
       "       creditRating_F  creditRating_G  creditRating_New  nAveSpend   nIncome  \\\n",
       "11262               0               0                 0    0.07954  0.262686   \n",
       "\n",
       "           nAge  last_touchpoint  label  \n",
       "11262  0.754664  mailDestination      8  \n",
       "\n",
       "[1 rows x 37 columns]"
      ]
     },
     "execution_count": 58,
     "metadata": {},
     "output_type": "execute_result"
    }
   ],
   "source": [
    "df.sample() # so the label show up as the last column, numeric"
   ]
  },
  {
   "cell_type": "markdown",
   "metadata": {},
   "source": [
    "# defind x, y for modeling"
   ]
  },
  {
   "cell_type": "code",
   "execution_count": 59,
   "metadata": {},
   "outputs": [],
   "source": [
    "# stratified split -- define function"
   ]
  },
  {
   "cell_type": "code",
   "execution_count": 60,
   "metadata": {},
   "outputs": [],
   "source": [
    "def stratified_split(df, target, val_percent=0.2):\n",
    "    '''\n",
    "    Function to split a dataframe into train and validation sets, while preserving the ratio of the labels in the target variable\n",
    "    Inputs:\n",
    "    - df, the dataframe\n",
    "    - target, the target variable\n",
    "    - val_percent, the percentage of validation samples, default 0.2\n",
    "    Outputs:\n",
    "    - train_idxs, the indices of the training dataset\n",
    "    - val_idxs, the indices of the validation dataset\n",
    "    '''\n",
    "    classes=list(df[target].unique())\n",
    "    train_idxs, val_idxs = [], []\n",
    "    for c in classes:\n",
    "        idx=list(df[df[target]==c].index)\n",
    "        np.random.shuffle(idx)\n",
    "        val_size=int(len(idx)*val_percent)\n",
    "        val_idxs+=idx[:val_size]\n",
    "        train_idxs+=idx[val_size:]\n",
    "    return train_idxs, val_idxs\n",
    "\n",
    "\n",
    "train_idxs, val_idxs = stratified_split(df, 'label', val_percent=0.25)\n",
    "\n",
    "val_idxs, test_idxs = stratified_split(df[df.index.isin(val_idxs)], 'label', val_percent=0.5)"
   ]
  },
  {
   "cell_type": "code",
   "execution_count": 61,
   "metadata": {},
   "outputs": [],
   "source": [
    "def test_stratified(df, col):\n",
    "    '''\n",
    "    Analyzes the ratio of different classes in a categorical variable within a dataframe\n",
    "    Inputs:\n",
    "    - dataframe\n",
    "    - categorical column to be analyzed\n",
    "    Returns: None\n",
    "    '''\n",
    "    classes=list(df[col].unique())\n",
    "    \n",
    "    for c in classes:\n",
    "        print(f'Proportion of records with {c}: {len(df[df[col]==c])*1./len(df):0.2} ({len(df[df[col]==c])} / {len(df)})')"
   ]
  },
  {
   "cell_type": "code",
   "execution_count": 62,
   "metadata": {},
   "outputs": [
    {
     "name": "stdout",
     "output_type": "stream",
     "text": [
      "---------- STRATIFIED SAMPLING REPORT ----------\n",
      "-------- Label proportions in FULL data --------\n",
      "Proportion of records with 3: 0.12 (1529 / 12691)\n",
      "Proportion of records with 9: 0.044 (561 / 12691)\n",
      "Proportion of records with 2: 0.22 (2767 / 12691)\n",
      "Proportion of records with 1: 0.37 (4708 / 12691)\n",
      "Proportion of records with 4: 0.078 (994 / 12691)\n",
      "Proportion of records with 6: 0.036 (455 / 12691)\n",
      "Proportion of records with 5: 0.047 (591 / 12691)\n",
      "Proportion of records with 7: 0.041 (518 / 12691)\n",
      "Proportion of records with 8: 0.045 (568 / 12691)\n",
      "-------- Label proportions in TRAIN data --------\n",
      "Proportion of records with 9: 0.044 (421 / 9522)\n",
      "Proportion of records with 2: 0.22 (2076 / 9522)\n",
      "Proportion of records with 3: 0.12 (1147 / 9522)\n",
      "Proportion of records with 1: 0.37 (3531 / 9522)\n",
      "Proportion of records with 4: 0.078 (746 / 9522)\n",
      "Proportion of records with 6: 0.036 (342 / 9522)\n",
      "Proportion of records with 5: 0.047 (444 / 9522)\n",
      "Proportion of records with 7: 0.041 (389 / 9522)\n",
      "Proportion of records with 8: 0.045 (426 / 9522)\n",
      "------ Label proportions in VALIDATION data -----\n",
      "Proportion of records with 3: 0.12 (191 / 1587)\n",
      "Proportion of records with 1: 0.37 (589 / 1587)\n",
      "Proportion of records with 2: 0.22 (346 / 1587)\n",
      "Proportion of records with 7: 0.041 (65 / 1587)\n",
      "Proportion of records with 4: 0.078 (124 / 1587)\n",
      "Proportion of records with 8: 0.045 (71 / 1587)\n",
      "Proportion of records with 9: 0.044 (70 / 1587)\n",
      "Proportion of records with 5: 0.047 (74 / 1587)\n",
      "Proportion of records with 6: 0.036 (57 / 1587)\n",
      "-------- Label proportions in TEST data ---------\n",
      "Proportion of records with 4: 0.078 (124 / 1582)\n",
      "Proportion of records with 1: 0.37 (588 / 1582)\n",
      "Proportion of records with 2: 0.22 (345 / 1582)\n",
      "Proportion of records with 5: 0.046 (73 / 1582)\n",
      "Proportion of records with 3: 0.12 (191 / 1582)\n",
      "Proportion of records with 9: 0.044 (70 / 1582)\n",
      "Proportion of records with 8: 0.045 (71 / 1582)\n",
      "Proportion of records with 7: 0.04 (64 / 1582)\n",
      "Proportion of records with 6: 0.035 (56 / 1582)\n"
     ]
    }
   ],
   "source": [
    "print('---------- STRATIFIED SAMPLING REPORT ----------')\n",
    "print('-------- Label proportions in FULL data --------')\n",
    "test_stratified(df, 'label')\n",
    "print('-------- Label proportions in TRAIN data --------')\n",
    "test_stratified(df[df.index.isin(train_idxs)], 'label')\n",
    "print('------ Label proportions in VALIDATION data -----')\n",
    "test_stratified(df[df.index.isin(val_idxs)], 'label')\n",
    "print('-------- Label proportions in TEST data ---------')\n",
    "test_stratified(df[df.index.isin(test_idxs)], 'label')"
   ]
  },
  {
   "cell_type": "code",
   "execution_count": 63,
   "metadata": {},
   "outputs": [
    {
     "data": {
      "text/plain": [
       "Index(['age', 'income', 'aveSpend', 'touchpoints', 'nTouchpoints',\n",
       "       'touchpoint_emailDestination', 'touchpoint_emailDiscount',\n",
       "       'touchpoint_emailGift', 'touchpoint_mailDestination',\n",
       "       'touchpoint_mailDiscount', 'touchpoint_mailGift',\n",
       "       'touchpoint_smsDestination', 'touchpoint_smsDiscount',\n",
       "       'touchpoint_smsGift', 'marital_divorced', 'marital_married',\n",
       "       'marital_single', 'segment_P1', 'segment_P2', 'segment_P3',\n",
       "       'segment_P4', 'SocialMedia_N', 'SocialMedia_U', 'SocialMedia_Y',\n",
       "       'creditRating_A', 'creditRating_B', 'creditRating_C', 'creditRating_D',\n",
       "       'creditRating_E', 'creditRating_F', 'creditRating_G',\n",
       "       'creditRating_New', 'nAveSpend', 'nIncome', 'nAge', 'last_touchpoint',\n",
       "       'label'],\n",
       "      dtype='object')"
      ]
     },
     "execution_count": 63,
     "metadata": {},
     "output_type": "execute_result"
    }
   ],
   "source": [
    "df.columns"
   ]
  },
  {
   "cell_type": "code",
   "execution_count": 64,
   "metadata": {},
   "outputs": [],
   "source": [
    "df_select = df[['label',\n",
    "                'nTouchpoints',\n",
    "                'touchpoint_emailDestination', \n",
    "                'touchpoint_emailDiscount',\n",
    "                'touchpoint_emailGift', \n",
    "                'touchpoint_mailDestination',\n",
    "                'touchpoint_mailDiscount', \n",
    "                'touchpoint_mailGift',\n",
    "                'touchpoint_smsDestination', \n",
    "                'touchpoint_smsDiscount',\n",
    "                'touchpoint_smsGift', \n",
    "                'marital_divorced', \n",
    "                'marital_married',\n",
    "                'marital_single', \n",
    "                'segment_P1', \n",
    "                'segment_P2', \n",
    "                'segment_P3',\n",
    "                'segment_P4', \n",
    "                'SocialMedia_N', \n",
    "                'SocialMedia_U', \n",
    "                'SocialMedia_Y',\n",
    "                'creditRating_A', \n",
    "                'creditRating_B', \n",
    "                'creditRating_C', \n",
    "                'creditRating_D',\n",
    "                'creditRating_E', \n",
    "                'creditRating_F', \n",
    "                'creditRating_G',\n",
    "                'creditRating_New', \n",
    "                'nAveSpend', \n",
    "                'nIncome', \n",
    "                'nAge'\n",
    "                ]]"
   ]
  },
  {
   "cell_type": "code",
   "execution_count": 65,
   "metadata": {},
   "outputs": [
    {
     "name": "stdout",
     "output_type": "stream",
     "text": [
      "Retrieved Training Data\n"
     ]
    }
   ],
   "source": [
    "train_df = df_select[df_select.index.isin(train_idxs)]\n",
    "\n",
    "X_train =  train_df.drop('label',axis=1).values\n",
    "\n",
    "Y_train = train_df[['label']].values\n",
    "print('Retrieved Training Data')"
   ]
  },
  {
   "cell_type": "code",
   "execution_count": 66,
   "metadata": {},
   "outputs": [
    {
     "name": "stdout",
     "output_type": "stream",
     "text": [
      "Retrieved Validation Data\n"
     ]
    }
   ],
   "source": [
    "val_df = df_select[df_select.index.isin(val_idxs)]\n",
    "\n",
    "X_val = val_df.drop('label',axis=1).values\n",
    "\n",
    "Y_val = val_df[['label']].values\n",
    "print('Retrieved Validation Data')"
   ]
  },
  {
   "cell_type": "code",
   "execution_count": 67,
   "metadata": {},
   "outputs": [
    {
     "name": "stdout",
     "output_type": "stream",
     "text": [
      "Retrieved Test Data\n"
     ]
    }
   ],
   "source": [
    "test_df = df_select[df_select.index.isin(test_idxs)]\n",
    "X_test = test_df.drop('label',axis=1).values\n",
    "Y_test = test_df[['label']].values\n",
    "print('Retrieved Test Data')"
   ]
  },
  {
   "cell_type": "markdown",
   "metadata": {},
   "source": [
    "# modeling"
   ]
  },
  {
   "cell_type": "code",
   "execution_count": 68,
   "metadata": {},
   "outputs": [],
   "source": [
    "# store data, all in numpy arrays. \n",
    "training_data = {'X_train':X_train,'Y_train':Y_train,\n",
    "                 'X_val': X_val,   'Y_val':Y_val,\n",
    "                 'X_test': X_test, 'Y_test':Y_test}"
   ]
  },
  {
   "cell_type": "code",
   "execution_count": 69,
   "metadata": {},
   "outputs": [
    {
     "data": {
      "text/plain": [
       "{'X_train': array([[ 2.        ,  1.        ,  0.        , ..., -0.67843252,\n",
       "          0.90518882,  0.12199509],\n",
       "        [ 3.        ,  0.        ,  1.        , ...,  0.59512592,\n",
       "         -0.40880512,  0.28352193],\n",
       "        [ 1.        ,  0.        ,  0.        , ..., -0.35187273,\n",
       "          1.83177799,  5.19933758],\n",
       "        ...,\n",
       "        [ 6.        ,  1.        ,  1.        , ...,  1.38462826,\n",
       "         -0.05397265,  1.26966439],\n",
       "        [ 4.        ,  1.        ,  0.        , ...,  1.94270301,\n",
       "         -0.76135267, -0.98357337],\n",
       "        [ 2.        ,  1.        ,  0.        , ...,  0.8306756 ,\n",
       "          0.04392402,  0.03890144]]),\n",
       " 'Y_train': array([[9],\n",
       "        [2],\n",
       "        [3],\n",
       "        ...,\n",
       "        [3],\n",
       "        [3],\n",
       "        [3]], dtype=int64),\n",
       " 'X_val': array([[ 2.        ,  1.        ,  0.        , ...,  2.13226643,\n",
       "         -0.40880512,  0.03890144],\n",
       "        [ 2.        ,  0.        ,  1.        , ...,  0.28091085,\n",
       "          0.28054545, -0.98357337],\n",
       "        [ 1.        ,  1.        ,  0.        , ..., -1.73873105,\n",
       "          0.23808933, -1.1669186 ],\n",
       "        ...,\n",
       "        [ 7.        ,  1.        ,  0.        , ..., -0.3548223 ,\n",
       "          1.50574701,  1.60221032],\n",
       "        [ 2.        ,  1.        ,  0.        , ..., -0.16509543,\n",
       "         -1.40790515, -1.33101771],\n",
       "        [ 4.        ,  1.        ,  1.        , ...,  0.42280204,\n",
       "          0.83733836,  1.26966439]]),\n",
       " 'Y_val': array([[3],\n",
       "        [3],\n",
       "        [1],\n",
       "        ...,\n",
       "        [6],\n",
       "        [7],\n",
       "        [2]], dtype=int64),\n",
       " 'X_test': array([[ 2.        ,  0.        ,  0.        , ..., -0.47802469,\n",
       "         -0.11062728, -0.51492332],\n",
       "        [ 4.        ,  1.        ,  0.        , ...,  0.1152568 ,\n",
       "          0.28613494,  0.35883341],\n",
       "        [ 1.        ,  0.        ,  1.        , ..., -0.6895289 ,\n",
       "          0.57755653, -0.05146002],\n",
       "        ...,\n",
       "        [ 2.        ,  0.        ,  1.        , ...,  1.2809814 ,\n",
       "         -0.27178702, -1.47155479],\n",
       "        [ 1.        ,  1.        ,  0.        , ..., -0.62719636,\n",
       "         -0.88273887,  0.75466427],\n",
       "        [ 8.        ,  1.        ,  1.        , ...,  0.82206139,\n",
       "          0.23808933,  1.16940066]]),\n",
       " 'Y_test': array([[4],\n",
       "        [1],\n",
       "        [2],\n",
       "        ...,\n",
       "        [2],\n",
       "        [1],\n",
       "        [1]], dtype=int64)}"
      ]
     },
     "execution_count": 69,
     "metadata": {},
     "output_type": "execute_result"
    }
   ],
   "source": [
    "training_data"
   ]
  },
  {
   "cell_type": "markdown",
   "metadata": {},
   "source": [
    "## baseline model -- random forest"
   ]
  },
  {
   "cell_type": "code",
   "execution_count": 70,
   "metadata": {},
   "outputs": [
    {
     "name": "stderr",
     "output_type": "stream",
     "text": [
      "[Parallel(n_jobs=1)]: Using backend SequentialBackend with 1 concurrent workers.\n",
      "[Parallel(n_jobs=1)]: Done 100 out of 100 | elapsed:    0.6s finished\n"
     ]
    },
    {
     "data": {
      "text/plain": [
       "RandomForestClassifier(random_state=27, verbose=1)"
      ]
     },
     "execution_count": 70,
     "metadata": {},
     "output_type": "execute_result"
    }
   ],
   "source": [
    "clf = RandomForestClassifier(n_jobs=None,random_state=27,\n",
    "                       verbose=1)\n",
    "clf.fit(training_data['X_train'], training_data['Y_train'].reshape(training_data['Y_train'].shape[0],))"
   ]
  },
  {
   "cell_type": "code",
   "execution_count": 71,
   "metadata": {},
   "outputs": [
    {
     "name": "stderr",
     "output_type": "stream",
     "text": [
      "[Parallel(n_jobs=1)]: Using backend SequentialBackend with 1 concurrent workers.\n",
      "[Parallel(n_jobs=1)]: Done 100 out of 100 | elapsed:    0.0s finished\n"
     ]
    }
   ],
   "source": [
    "predicted_labels = clf.predict(training_data['X_test'])"
   ]
  },
  {
   "cell_type": "code",
   "execution_count": 72,
   "metadata": {},
   "outputs": [
    {
     "data": {
      "text/plain": [
       "0.9608091024020228"
      ]
     },
     "execution_count": 72,
     "metadata": {},
     "output_type": "execute_result"
    }
   ],
   "source": [
    "accuracy_score(training_data['Y_test'], predicted_labels)"
   ]
  },
  {
   "cell_type": "markdown",
   "metadata": {},
   "source": [
    "### tunning parameters"
   ]
  },
  {
   "cell_type": "code",
   "execution_count": 73,
   "metadata": {},
   "outputs": [
    {
     "name": "stdout",
     "output_type": "stream",
     "text": [
      "Fitting 5 folds for each of 40 candidates, totalling 200 fits\n"
     ]
    },
    {
     "name": "stderr",
     "output_type": "stream",
     "text": [
      "[Parallel(n_jobs=1)]: Using backend SequentialBackend with 1 concurrent workers.\n",
      "[Parallel(n_jobs=1)]: Done 450 out of 450 | elapsed:    2.6s finished\n"
     ]
    },
    {
     "data": {
      "text/plain": [
       "GridSearchCV(cv=5, estimator=RandomForestClassifier(random_state=27, verbose=1),\n",
       "             n_jobs=-1,\n",
       "             param_grid={'criterion': ['gini'], 'max_depth': [8, 9, 10, 11, 12],\n",
       "                         'max_features': ['auto'],\n",
       "                         'n_estimators': range(100, 500, 50)},\n",
       "             scoring='f1_micro', verbose=10)"
      ]
     },
     "execution_count": 73,
     "metadata": {},
     "output_type": "execute_result"
    }
   ],
   "source": [
    "params = {\n",
    "    'n_estimators'      : range(100,500,50),\n",
    "    'max_depth'         : [8, 9, 10, 11, 12],\n",
    "    'max_features': ['auto'],\n",
    "    'criterion' :['gini']\n",
    "}\n",
    "#metrics to consider: f1_micro, f1_macro, roc_auc_ovr\n",
    "gsearch1 = GridSearchCV(estimator = clf, param_grid = params, scoring='f1_micro',n_jobs=-1,verbose = 10, cv=5)\n",
    "gsearch1.fit(training_data['X_train'], training_data['Y_train'].reshape(training_data['Y_train'].shape[0],))"
   ]
  },
  {
   "cell_type": "code",
   "execution_count": 74,
   "metadata": {},
   "outputs": [],
   "source": [
    "# based on gridsearchCV\n",
    "def getTrainScores(gs):\n",
    "    results = {}\n",
    "    runs = 0\n",
    "    for x,y in zip(list(gs.cv_results_['mean_test_score']), gs.cv_results_['params']):\n",
    "        results[runs] = 'mean:' + str(x) + 'params' + str(y)\n",
    "        runs += 1\n",
    "    best = {'best_mean': gs.best_score_, \"best_param\":gs.best_params_}\n",
    "    return results, best"
   ]
  },
  {
   "cell_type": "code",
   "execution_count": 75,
   "metadata": {},
   "outputs": [
    {
     "data": {
      "text/plain": [
       "({0: \"mean:0.7965752442709368params{'criterion': 'gini', 'max_depth': 8, 'max_features': 'auto', 'n_estimators': 100}\",\n",
       "  1: \"mean:0.796049813626238params{'criterion': 'gini', 'max_depth': 8, 'max_features': 'auto', 'n_estimators': 150}\",\n",
       "  2: \"mean:0.796785659145548params{'criterion': 'gini', 'max_depth': 8, 'max_features': 'auto', 'n_estimators': 200}\",\n",
       "  3: \"mean:0.7955252652241999params{'criterion': 'gini', 'max_depth': 8, 'max_features': 'auto', 'n_estimators': 250}\",\n",
       "  4: \"mean:0.7965752442709367params{'criterion': 'gini', 'max_depth': 8, 'max_features': 'auto', 'n_estimators': 300}\",\n",
       "  5: \"mean:0.797100785195968params{'criterion': 'gini', 'max_depth': 8, 'max_features': 'auto', 'n_estimators': 350}\",\n",
       "  6: \"mean:0.7963659321996516params{'criterion': 'gini', 'max_depth': 8, 'max_features': 'auto', 'n_estimators': 400}\",\n",
       "  7: \"mean:0.7973109795099141params{'criterion': 'gini', 'max_depth': 8, 'max_features': 'auto', 'n_estimators': 450}\",\n",
       "  8: \"mean:0.8317566554180728params{'criterion': 'gini', 'max_depth': 9, 'max_features': 'auto', 'n_estimators': 100}\",\n",
       "  9: \"mean:0.831967456273848params{'criterion': 'gini', 'max_depth': 9, 'max_features': 'auto', 'n_estimators': 150}\",\n",
       "  10: \"mean:0.8354331811464742params{'criterion': 'gini', 'max_depth': 9, 'max_features': 'auto', 'n_estimators': 200}\",\n",
       "  11: \"mean:0.8366934647874897params{'criterion': 'gini', 'max_depth': 9, 'max_features': 'auto', 'n_estimators': 250}\",\n",
       "  12: \"mean:0.8361684752641214params{'criterion': 'gini', 'max_depth': 9, 'max_features': 'auto', 'n_estimators': 300}\",\n",
       "  13: \"mean:0.8366931339464919params{'criterion': 'gini', 'max_depth': 9, 'max_features': 'auto', 'n_estimators': 350}\",\n",
       "  14: \"mean:0.8381631707801231params{'criterion': 'gini', 'max_depth': 9, 'max_features': 'auto', 'n_estimators': 400}\",\n",
       "  15: \"mean:0.8377434989743928params{'criterion': 'gini', 'max_depth': 9, 'max_features': 'auto', 'n_estimators': 450}\",\n",
       "  16: \"mean:0.863682977127859params{'criterion': 'gini', 'max_depth': 10, 'max_features': 'auto', 'n_estimators': 100}\",\n",
       "  17: \"mean:0.8648388252938972params{'criterion': 'gini', 'max_depth': 10, 'max_features': 'auto', 'n_estimators': 150}\",\n",
       "  18: \"mean:0.8658889146209667params{'criterion': 'gini', 'max_depth': 10, 'max_features': 'auto', 'n_estimators': 200}\",\n",
       "  19: \"mean:0.8673590617349302params{'criterion': 'gini', 'max_depth': 10, 'max_features': 'auto', 'n_estimators': 250}\",\n",
       "  20: \"mean:0.8679888727144401params{'criterion': 'gini', 'max_depth': 10, 'max_features': 'auto', 'n_estimators': 300}\",\n",
       "  21: \"mean:0.8690390171816758params{'criterion': 'gini', 'max_depth': 10, 'max_features': 'auto', 'n_estimators': 350}\",\n",
       "  22: \"mean:0.8697742010189904params{'criterion': 'gini', 'max_depth': 10, 'max_features': 'auto', 'n_estimators': 400}\",\n",
       "  23: \"mean:0.8706142063124463params{'criterion': 'gini', 'max_depth': 10, 'max_features': 'auto', 'n_estimators': 450}\",\n",
       "  24: \"mean:0.8864736760846071params{'criterion': 'gini', 'max_depth': 11, 'max_features': 'auto', 'n_estimators': 100}\",\n",
       "  25: \"mean:0.8894145217141975params{'criterion': 'gini', 'max_depth': 11, 'max_features': 'auto', 'n_estimators': 150}\",\n",
       "  26: \"mean:0.8922502150466487params{'criterion': 'gini', 'max_depth': 11, 'max_features': 'auto', 'n_estimators': 200}\",\n",
       "  27: \"mean:0.8916199629458083params{'criterion': 'gini', 'max_depth': 11, 'max_features': 'auto', 'n_estimators': 250}\",\n",
       "  28: \"mean:0.8899396215178985params{'criterion': 'gini', 'max_depth': 11, 'max_features': 'auto', 'n_estimators': 300}\",\n",
       "  29: \"mean:0.8899392906769007params{'criterion': 'gini', 'max_depth': 11, 'max_features': 'auto', 'n_estimators': 350}\",\n",
       "  30: \"mean:0.8913046163347229params{'criterion': 'gini', 'max_depth': 11, 'max_features': 'auto', 'n_estimators': 400}\",\n",
       "  31: \"mean:0.8907795716711882params{'criterion': 'gini', 'max_depth': 11, 'max_features': 'auto', 'n_estimators': 450}\",\n",
       "  32: \"mean:0.9028567017358125params{'criterion': 'gini', 'max_depth': 12, 'max_features': 'auto', 'n_estimators': 100}\",\n",
       "  33: \"mean:0.9056924502084298params{'criterion': 'gini', 'max_depth': 12, 'max_features': 'auto', 'n_estimators': 150}\",\n",
       "  34: \"mean:0.9069524581486137params{'criterion': 'gini', 'max_depth': 12, 'max_features': 'auto', 'n_estimators': 200}\",\n",
       "  35: \"mean:0.9059025342420431params{'criterion': 'gini', 'max_depth': 12, 'max_features': 'auto', 'n_estimators': 250}\",\n",
       "  36: \"mean:0.90684796753347params{'criterion': 'gini', 'max_depth': 12, 'max_features': 'auto', 'n_estimators': 300}\",\n",
       "  37: \"mean:0.9075829859502855params{'criterion': 'gini', 'max_depth': 12, 'max_features': 'auto', 'n_estimators': 350}\",\n",
       "  38: \"mean:0.9074779439334788params{'criterion': 'gini', 'max_depth': 12, 'max_features': 'auto', 'n_estimators': 400}\",\n",
       "  39: \"mean:0.9085280884007145params{'criterion': 'gini', 'max_depth': 12, 'max_features': 'auto', 'n_estimators': 450}\"},\n",
       " {'best_mean': 0.9085280884007145,\n",
       "  'best_param': {'criterion': 'gini',\n",
       "   'max_depth': 12,\n",
       "   'max_features': 'auto',\n",
       "   'n_estimators': 450}})"
      ]
     },
     "execution_count": 75,
     "metadata": {},
     "output_type": "execute_result"
    }
   ],
   "source": [
    "getTrainScores(gsearch1)"
   ]
  },
  {
   "cell_type": "code",
   "execution_count": 76,
   "metadata": {},
   "outputs": [
    {
     "name": "stdout",
     "output_type": "stream",
     "text": [
      "Fitting 5 folds for each of 9 candidates, totalling 45 fits\n"
     ]
    },
    {
     "name": "stderr",
     "output_type": "stream",
     "text": [
      "[Parallel(n_jobs=1)]: Using backend SequentialBackend with 1 concurrent workers.\n",
      "[Parallel(n_jobs=1)]: Done 300 out of 300 | elapsed:    1.8s finished\n"
     ]
    },
    {
     "data": {
      "text/plain": [
       "GridSearchCV(cv=5,\n",
       "             estimator=RandomForestClassifier(max_depth=12, n_estimators=450,\n",
       "                                              random_state=27, verbose=1),\n",
       "             n_jobs=-1,\n",
       "             param_grid={'max_depth': [11, 12, 13],\n",
       "                         'n_estimators': range(300, 450, 50)},\n",
       "             scoring='f1_micro', verbose=10)"
      ]
     },
     "execution_count": 76,
     "metadata": {},
     "output_type": "execute_result"
    }
   ],
   "source": [
    "clf2 = gsearch1.best_estimator_\n",
    "''' {'best_mean': 0.9039915966386555,\n",
    "  'best_param': {'criterion': 'gini',\n",
    "   'max_depth': 12,\n",
    "   'max_features': 'auto',\n",
    "   'n_estimators': 450}})'''\n",
    "\n",
    "params1 = {\n",
    "    'n_estimators'      : range(300,450,50),\n",
    "    'max_depth'         : [11, 12,13]\n",
    "}\n",
    "#metrics to consider: f1_micro, f1_macro, roc_auc_ovr\n",
    "gsearch2 = GridSearchCV(estimator = clf2, param_grid = params1, scoring='f1_micro',n_jobs=-1,verbose = 10, cv=5)\n",
    "gsearch2.fit(training_data['X_train'], training_data['Y_train'].reshape(training_data['Y_train'].shape[0],))"
   ]
  },
  {
   "cell_type": "code",
   "execution_count": 77,
   "metadata": {},
   "outputs": [
    {
     "data": {
      "text/plain": [
       "({0: \"mean:0.8899396215178985params{'max_depth': 11, 'n_estimators': 300}\",\n",
       "  1: \"mean:0.8899392906769007params{'max_depth': 11, 'n_estimators': 350}\",\n",
       "  2: \"mean:0.8913046163347229params{'max_depth': 11, 'n_estimators': 400}\",\n",
       "  3: \"mean:0.90684796753347params{'max_depth': 12, 'n_estimators': 300}\",\n",
       "  4: \"mean:0.9075829859502855params{'max_depth': 12, 'n_estimators': 350}\",\n",
       "  5: \"mean:0.9074779439334788params{'max_depth': 12, 'n_estimators': 400}\",\n",
       "  6: \"mean:0.9215505414764331params{'max_depth': 13, 'n_estimators': 300}\",\n",
       "  7: \"mean:0.9213404574428197params{'max_depth': 13, 'n_estimators': 350}\",\n",
       "  8: \"mean:0.9214454994596263params{'max_depth': 13, 'n_estimators': 400}\"},\n",
       " {'best_mean': 0.9215505414764331,\n",
       "  'best_param': {'max_depth': 13, 'n_estimators': 300}})"
      ]
     },
     "execution_count": 77,
     "metadata": {},
     "output_type": "execute_result"
    }
   ],
   "source": [
    "getTrainScores(gsearch2)"
   ]
  },
  {
   "cell_type": "code",
   "execution_count": 78,
   "metadata": {},
   "outputs": [
    {
     "name": "stdout",
     "output_type": "stream",
     "text": [
      "Fitting 5 folds for each of 15 candidates, totalling 75 fits\n"
     ]
    },
    {
     "name": "stderr",
     "output_type": "stream",
     "text": [
      "[Parallel(n_jobs=1)]: Using backend SequentialBackend with 1 concurrent workers.\n",
      "[Parallel(n_jobs=1)]: Done 280 out of 280 | elapsed:    1.9s finished\n"
     ]
    },
    {
     "data": {
      "text/plain": [
       "GridSearchCV(cv=5,\n",
       "             estimator=RandomForestClassifier(max_depth=13, n_estimators=300,\n",
       "                                              random_state=27, verbose=1),\n",
       "             n_jobs=-1,\n",
       "             param_grid={'max_depth': [12, 13, 14],\n",
       "                         'n_estimators': range(200, 300, 20)},\n",
       "             scoring='f1_micro', verbose=10)"
      ]
     },
     "execution_count": 78,
     "metadata": {},
     "output_type": "execute_result"
    }
   ],
   "source": [
    "clf3 = gsearch2.best_estimator_ # best depth 13, n_est = 300\n",
    "\n",
    "params2 = {\n",
    "    'n_estimators'      : range(200,300,20),\n",
    "    'max_depth'         : [12,13,14]\n",
    "}\n",
    "#metrics to consider: f1_micro, f1_macro, roc_auc_ovr\n",
    "gsearch3 = GridSearchCV(estimator = clf3, param_grid = params2, scoring='f1_micro',n_jobs=-1,verbose = 10, cv=5)\n",
    "gsearch3.fit(training_data['X_train'], training_data['Y_train'].reshape(training_data['Y_train'].shape[0],))"
   ]
  },
  {
   "cell_type": "code",
   "execution_count": 79,
   "metadata": {},
   "outputs": [
    {
     "data": {
      "text/plain": [
       "({0: \"mean:0.9069524581486137params{'max_depth': 12, 'n_estimators': 200}\",\n",
       "  1: \"mean:0.9071629281633913params{'max_depth': 12, 'n_estimators': 220}\",\n",
       "  2: \"mean:0.9054826418756479params{'max_depth': 12, 'n_estimators': 240}\",\n",
       "  3: \"mean:0.9056923950682634params{'max_depth': 12, 'n_estimators': 260}\",\n",
       "  4: \"mean:0.9070579964269172params{'max_depth': 12, 'n_estimators': 280}\",\n",
       "  5: \"mean:0.9208153576391187params{'max_depth': 13, 'n_estimators': 200}\",\n",
       "  6: \"mean:0.9209203445157591params{'max_depth': 13, 'n_estimators': 220}\",\n",
       "  7: \"mean:0.921025607093231params{'max_depth': 13, 'n_estimators': 240}\",\n",
       "  8: \"mean:0.9216555834932398params{'max_depth': 13, 'n_estimators': 260}\",\n",
       "  9: \"mean:0.9215504863362668params{'max_depth': 13, 'n_estimators': 280}\",\n",
       "  10: \"mean:0.9270115132667239params{'max_depth': 14, 'n_estimators': 200}\",\n",
       "  11: \"mean:0.9275366682105914params{'max_depth': 14, 'n_estimators': 220}\",\n",
       "  12: \"mean:0.9272214318798386params{'max_depth': 14, 'n_estimators': 240}\",\n",
       "  13: \"mean:0.9276414345265666params{'max_depth': 14, 'n_estimators': 260}\",\n",
       "  14: \"mean:0.9286916341339685params{'max_depth': 14, 'n_estimators': 280}\"},\n",
       " {'best_mean': 0.9286916341339685,\n",
       "  'best_param': {'max_depth': 14, 'n_estimators': 280}})"
      ]
     },
     "execution_count": 79,
     "metadata": {},
     "output_type": "execute_result"
    }
   ],
   "source": [
    "getTrainScores(gsearch3)"
   ]
  },
  {
   "cell_type": "code",
   "execution_count": 80,
   "metadata": {},
   "outputs": [
    {
     "name": "stdout",
     "output_type": "stream",
     "text": [
      "Fitting 5 folds for each of 96 candidates, totalling 480 fits\n"
     ]
    },
    {
     "name": "stderr",
     "output_type": "stream",
     "text": [
      "[Parallel(n_jobs=1)]: Using backend SequentialBackend with 1 concurrent workers.\n",
      "[Parallel(n_jobs=1)]: Done 270 out of 270 | elapsed:    2.0s finished\n"
     ]
    },
    {
     "data": {
      "text/plain": [
       "GridSearchCV(cv=5,\n",
       "             estimator=RandomForestClassifier(max_depth=14, n_estimators=280,\n",
       "                                              random_state=27, verbose=1),\n",
       "             n_jobs=-1,\n",
       "             param_grid={'max_depth': range(14, 20),\n",
       "                         'n_estimators': range(200, 280, 5)},\n",
       "             scoring='f1_micro', verbose=10)"
      ]
     },
     "execution_count": 80,
     "metadata": {},
     "output_type": "execute_result"
    }
   ],
   "source": [
    "clf4 = gsearch3.best_estimator_ # gsearch3 best: depth 14, n 280, \n",
    "\n",
    "params3 = {\n",
    "    'n_estimators'      : range(200,280,5),\n",
    "    'max_depth'         : range(14,20,1),\n",
    "    \n",
    "}\n",
    "#metrics to consider: f1_micro, f1_macro, roc_auc_ovr\n",
    "gsearch4 = GridSearchCV(estimator = clf4, param_grid = params3, scoring='f1_micro',n_jobs=-1,verbose = 10, cv=5)\n",
    "gsearch4.fit(training_data['X_train'], training_data['Y_train'].reshape(training_data['Y_train'].shape[0],))"
   ]
  },
  {
   "cell_type": "code",
   "execution_count": 81,
   "metadata": {},
   "outputs": [
    {
     "data": {
      "text/plain": [
       "({0: \"mean:0.9270115132667239params{'max_depth': 14, 'n_estimators': 200}\",\n",
       "  1: \"mean:0.9278518494011777params{'max_depth': 14, 'n_estimators': 205}\",\n",
       "  2: \"mean:0.9283768940647125params{'max_depth': 14, 'n_estimators': 210}\",\n",
       "  3: \"mean:0.9279567259974856params{'max_depth': 14, 'n_estimators': 215}\",\n",
       "  4: \"mean:0.9275366682105914params{'max_depth': 14, 'n_estimators': 220}\",\n",
       "  5: \"mean:0.9275364476499262params{'max_depth': 14, 'n_estimators': 225}\",\n",
       "  6: \"mean:0.9273265290368116params{'max_depth': 14, 'n_estimators': 230}\",\n",
       "  7: \"mean:0.927221542160171params{'max_depth': 14, 'n_estimators': 235}\",\n",
       "  8: \"mean:0.9272214318798386params{'max_depth': 14, 'n_estimators': 240}\",\n",
       "  9: \"mean:0.9270113478462252params{'max_depth': 14, 'n_estimators': 245}\",\n",
       "  10: \"mean:0.9280614923134609params{'max_depth': 14, 'n_estimators': 250}\",\n",
       "  11: \"mean:0.9277462008425417params{'max_depth': 14, 'n_estimators': 255}\",\n",
       "  12: \"mean:0.9276414345265666params{'max_depth': 14, 'n_estimators': 260}\",\n",
       "  13: \"mean:0.9281665343302675params{'max_depth': 14, 'n_estimators': 265}\",\n",
       "  14: \"mean:0.9290067601843888params{'max_depth': 14, 'n_estimators': 270}\",\n",
       "  15: \"mean:0.9291116919208628params{'max_depth': 14, 'n_estimators': 275}\",\n",
       "  16: \"mean:0.9324717682348531params{'max_depth': 15, 'n_estimators': 200}\",\n",
       "  17: \"mean:0.9321566973245992params{'max_depth': 15, 'n_estimators': 205}\",\n",
       "  18: \"mean:0.9324719336553517params{'max_depth': 15, 'n_estimators': 210}\",\n",
       "  19: \"mean:0.9327868942852732params{'max_depth': 15, 'n_estimators': 215}\",\n",
       "  20: \"mean:0.9323667813582126params{'max_depth': 15, 'n_estimators': 220}\",\n",
       "  21: \"mean:0.9326818522684664params{'max_depth': 15, 'n_estimators': 225}\",\n",
       "  22: \"mean:0.9321569178852643params{'max_depth': 15, 'n_estimators': 230}\",\n",
       "  23: \"mean:0.9326821831094643params{'max_depth': 15, 'n_estimators': 235}\",\n",
       "  24: \"mean:0.9327871699861048params{'max_depth': 15, 'n_estimators': 240}\",\n",
       "  25: \"mean:0.933312324929972params{'max_depth': 15, 'n_estimators': 245}\",\n",
       "  26: \"mean:0.933417422086945params{'max_depth': 15, 'n_estimators': 250}\",\n",
       "  27: \"mean:0.9337325481373652params{'max_depth': 15, 'n_estimators': 255}\",\n",
       "  28: \"mean:0.9345727188513202params{'max_depth': 15, 'n_estimators': 260}\",\n",
       "  29: \"mean:0.9343626348177066params{'max_depth': 15, 'n_estimators': 265}\",\n",
       "  30: \"mean:0.9341524956439269params{'max_depth': 15, 'n_estimators': 270}\",\n",
       "  31: \"mean:0.9335224089635854params{'max_depth': 15, 'n_estimators': 275}\",\n",
       "  32: \"mean:0.9373030393259667params{'max_depth': 16, 'n_estimators': 200}\",\n",
       "  33: \"mean:0.9384581155296765params{'max_depth': 16, 'n_estimators': 205}\",\n",
       "  34: \"mean:0.9387734621407617params{'max_depth': 16, 'n_estimators': 210}\",\n",
       "  35: \"mean:0.9389833807538764params{'max_depth': 16, 'n_estimators': 215}\",\n",
       "  36: \"mean:0.9379330708661417params{'max_depth': 16, 'n_estimators': 220}\",\n",
       "  37: \"mean:0.9380381128829484params{'max_depth': 16, 'n_estimators': 225}\",\n",
       "  38: \"mean:0.9387732967202629params{'max_depth': 16, 'n_estimators': 230}\",\n",
       "  39: \"mean:0.9383532389333686params{'max_depth': 16, 'n_estimators': 235}\",\n",
       "  40: \"mean:0.9387734070005955params{'max_depth': 16, 'n_estimators': 240}\",\n",
       "  41: \"mean:0.9384581706698427params{'max_depth': 16, 'n_estimators': 245}\",\n",
       "  42: \"mean:0.938353294073535params{'max_depth': 16, 'n_estimators': 250}\",\n",
       "  43: \"mean:0.9385632678268159params{'max_depth': 16, 'n_estimators': 255}\",\n",
       "  44: \"mean:0.9379331260063081params{'max_depth': 16, 'n_estimators': 260}\",\n",
       "  45: \"mean:0.9383532389333686params{'max_depth': 16, 'n_estimators': 265}\",\n",
       "  46: \"mean:0.9384583360903417params{'max_depth': 16, 'n_estimators': 270}\",\n",
       "  47: \"mean:0.9382483071968946params{'max_depth': 16, 'n_estimators': 275}\",\n",
       "  48: \"mean:0.9400335252211122params{'max_depth': 17, 'n_estimators': 200}\",\n",
       "  49: \"mean:0.9400335252211122params{'max_depth': 17, 'n_estimators': 205}\",\n",
       "  50: \"mean:0.9390882573501841params{'max_depth': 17, 'n_estimators': 210}\",\n",
       "  51: \"mean:0.9398233860473322params{'max_depth': 17, 'n_estimators': 215}\",\n",
       "  52: \"mean:0.9406637773219524params{'max_depth': 17, 'n_estimators': 220}\",\n",
       "  53: \"mean:0.9399285934846379params{'max_depth': 17, 'n_estimators': 225}\",\n",
       "  54: \"mean:0.9403484858510331params{'max_depth': 17, 'n_estimators': 230}\",\n",
       "  55: \"mean:0.9407684884977613params{'max_depth': 17, 'n_estimators': 235}\",\n",
       "  56: \"mean:0.9402434438342265params{'max_depth': 17, 'n_estimators': 240}\",\n",
       "  57: \"mean:0.9404534727276737params{'max_depth': 17, 'n_estimators': 245}\",\n",
       "  58: \"mean:0.9403484858510334params{'max_depth': 17, 'n_estimators': 250}\",\n",
       "  59: \"mean:0.9403484307108669params{'max_depth': 17, 'n_estimators': 255}\",\n",
       "  60: \"mean:0.9410836696883477params{'max_depth': 17, 'n_estimators': 260}\",\n",
       "  61: \"mean:0.9407687090584265params{'max_depth': 17, 'n_estimators': 265}\",\n",
       "  62: \"mean:0.9406635567612872params{'max_depth': 17, 'n_estimators': 270}\",\n",
       "  63: \"mean:0.9405583493239815params{'max_depth': 17, 'n_estimators': 275}\",\n",
       "  64: \"mean:0.9408743576170625params{'max_depth': 18, 'n_estimators': 200}\",\n",
       "  65: \"mean:0.942449712168332params{'max_depth': 18, 'n_estimators': 205}\",\n",
       "  66: \"mean:0.9423448355720241params{'max_depth': 18, 'n_estimators': 210}\",\n",
       "  67: \"mean:0.9428698250953925params{'max_depth': 18, 'n_estimators': 215}\",\n",
       "  68: \"mean:0.9427646727982533params{'max_depth': 18, 'n_estimators': 220}\",\n",
       "  69: \"mean:0.9420295992412713params{'max_depth': 18, 'n_estimators': 225}\",\n",
       "  70: \"mean:0.9429747568318666params{'max_depth': 18, 'n_estimators': 230}\",\n",
       "  71: \"mean:0.9424496570281656params{'max_depth': 18, 'n_estimators': 235}\",\n",
       "  72: \"mean:0.9426595205011139params{'max_depth': 18, 'n_estimators': 240}\",\n",
       "  73: \"mean:0.9428696596748937params{'max_depth': 18, 'n_estimators': 245}\",\n",
       "  74: \"mean:0.9426597962019454params{'max_depth': 18, 'n_estimators': 250}\",\n",
       "  75: \"mean:0.943184785725314params{'max_depth': 18, 'n_estimators': 255}\",\n",
       "  76: \"mean:0.9429747016917004params{'max_depth': 18, 'n_estimators': 260}\",\n",
       "  77: \"mean:0.943289552041289params{'max_depth': 18, 'n_estimators': 265}\",\n",
       "  78: \"mean:0.9432896623216216params{'max_depth': 18, 'n_estimators': 270}\",\n",
       "  79: \"mean:0.9426594653609476params{'max_depth': 18, 'n_estimators': 275}\",\n",
       "  80: \"mean:0.9410846622113412params{'max_depth': 19, 'n_estimators': 200}\",\n",
       "  81: \"mean:0.9415046648580692params{'max_depth': 19, 'n_estimators': 205}\",\n",
       "  82: \"mean:0.9409795650543682params{'max_depth': 19, 'n_estimators': 210}\",\n",
       "  83: \"mean:0.9406645492842806params{'max_depth': 19, 'n_estimators': 215}\",\n",
       "  84: \"mean:0.9411894836674828params{'max_depth': 19, 'n_estimators': 220}\",\n",
       "  85: \"mean:0.9416094311740444params{'max_depth': 19, 'n_estimators': 225}\",\n",
       "  86: \"mean:0.9409795650543682params{'max_depth': 19, 'n_estimators': 230}\",\n",
       "  87: \"mean:0.9413995125609299params{'max_depth': 19, 'n_estimators': 235}\",\n",
       "  88: \"mean:0.9409795650543682params{'max_depth': 19, 'n_estimators': 240}\",\n",
       "  89: \"mean:0.9412945256842894params{'max_depth': 19, 'n_estimators': 245}\",\n",
       "  90: \"mean:0.9417146937515163params{'max_depth': 19, 'n_estimators': 250}\",\n",
       "  91: \"mean:0.9413995125609299params{'max_depth': 19, 'n_estimators': 255}\",\n",
       "  92: \"mean:0.9410846070711749params{'max_depth': 19, 'n_estimators': 260}\",\n",
       "  93: \"mean:0.9415046648580692params{'max_depth': 19, 'n_estimators': 265}\",\n",
       "  94: \"mean:0.9410847724916739params{'max_depth': 19, 'n_estimators': 270}\",\n",
       "  95: \"mean:0.9406646595646132params{'max_depth': 19, 'n_estimators': 275}\"},\n",
       " {'best_mean': 0.9432896623216216,\n",
       "  'best_param': {'max_depth': 18, 'n_estimators': 270}})"
      ]
     },
     "execution_count": 81,
     "metadata": {},
     "output_type": "execute_result"
    }
   ],
   "source": [
    "getTrainScores(gsearch4)"
   ]
  },
  {
   "cell_type": "code",
   "execution_count": 84,
   "metadata": {},
   "outputs": [
    {
     "name": "stdout",
     "output_type": "stream",
     "text": [
      "Fitting 5 folds for each of 28 candidates, totalling 140 fits\n"
     ]
    },
    {
     "name": "stderr",
     "output_type": "stream",
     "text": [
      "[Parallel(n_jobs=1)]: Using backend SequentialBackend with 1 concurrent workers.\n",
      "[Parallel(n_jobs=1)]: Done 260 out of 260 | elapsed:    2.1s finished\n"
     ]
    },
    {
     "data": {
      "text/plain": [
       "GridSearchCV(cv=5,\n",
       "             estimator=RandomForestClassifier(max_depth=18, n_estimators=270,\n",
       "                                              random_state=27, verbose=1),\n",
       "             n_jobs=-1,\n",
       "             param_grid={'max_depth': range(18, 22),\n",
       "                         'n_estimators': range(200, 270, 10)},\n",
       "             scoring='f1_micro', verbose=10)"
      ]
     },
     "execution_count": 84,
     "metadata": {},
     "output_type": "execute_result"
    }
   ],
   "source": [
    "clf5 = gsearch4.best_estimator_ # \n",
    "\n",
    "params4 = {\n",
    "    'n_estimators'       : range(200,270,10) ,\n",
    "    'max_depth'         : range(18,22,1)\n",
    "}\n",
    "#metrics to consider: f1_micro, f1_macro, roc_auc_ovr\n",
    "gsearch5 = GridSearchCV(estimator = clf5, param_grid = params4, scoring='f1_micro',n_jobs=-1,verbose = 10, cv=5)\n",
    "gsearch5.fit(training_data['X_train'], training_data['Y_train'].reshape(training_data['Y_train'].shape[0],))"
   ]
  },
  {
   "cell_type": "code",
   "execution_count": 85,
   "metadata": {},
   "outputs": [
    {
     "data": {
      "text/plain": [
       "({0: \"mean:0.9408743576170625params{'max_depth': 18, 'n_estimators': 200}\",\n",
       "  1: \"mean:0.9423448355720241params{'max_depth': 18, 'n_estimators': 210}\",\n",
       "  2: \"mean:0.9427646727982533params{'max_depth': 18, 'n_estimators': 220}\",\n",
       "  3: \"mean:0.9429747568318666params{'max_depth': 18, 'n_estimators': 230}\",\n",
       "  4: \"mean:0.9426595205011139params{'max_depth': 18, 'n_estimators': 240}\",\n",
       "  5: \"mean:0.9426597962019454params{'max_depth': 18, 'n_estimators': 250}\",\n",
       "  6: \"mean:0.9429747016917004params{'max_depth': 18, 'n_estimators': 260}\",\n",
       "  7: \"mean:0.9410846622113412params{'max_depth': 19, 'n_estimators': 200}\",\n",
       "  8: \"mean:0.9409795650543682params{'max_depth': 19, 'n_estimators': 210}\",\n",
       "  9: \"mean:0.9411894836674828params{'max_depth': 19, 'n_estimators': 220}\",\n",
       "  10: \"mean:0.9409795650543682params{'max_depth': 19, 'n_estimators': 230}\",\n",
       "  11: \"mean:0.9409795650543682params{'max_depth': 19, 'n_estimators': 240}\",\n",
       "  12: \"mean:0.9417146937515163params{'max_depth': 19, 'n_estimators': 250}\",\n",
       "  13: \"mean:0.9410846070711749params{'max_depth': 19, 'n_estimators': 260}\",\n",
       "  14: \"mean:0.9432893314806238params{'max_depth': 20, 'n_estimators': 200}\",\n",
       "  15: \"mean:0.9431840689031518params{'max_depth': 20, 'n_estimators': 210}\",\n",
       "  16: \"mean:0.9434992500937384params{'max_depth': 20, 'n_estimators': 220}\",\n",
       "  17: \"mean:0.9431838483424866params{'max_depth': 20, 'n_estimators': 230}\",\n",
       "  18: \"mean:0.9434990295330732params{'max_depth': 20, 'n_estimators': 240}\",\n",
       "  19: \"mean:0.943604292110545params{'max_depth': 20, 'n_estimators': 250}\",\n",
       "  20: \"mean:0.9440243498974393params{'max_depth': 20, 'n_estimators': 260}\",\n",
       "  21: \"mean:0.9441292264937472params{'max_depth': 21, 'n_estimators': 200}\",\n",
       "  22: \"mean:0.9442344339310527params{'max_depth': 21, 'n_estimators': 210}\",\n",
       "  23: \"mean:0.944129226493747params{'max_depth': 21, 'n_estimators': 220}\",\n",
       "  24: \"mean:0.9443393105273605params{'max_depth': 21, 'n_estimators': 230}\",\n",
       "  25: \"mean:0.9437093892675179params{'max_depth': 21, 'n_estimators': 240}\",\n",
       "  26: \"mean:0.9440243498974393params{'max_depth': 21, 'n_estimators': 250}\",\n",
       "  27: \"mean:0.9445496151216393params{'max_depth': 21, 'n_estimators': 260}\"},\n",
       " {'best_mean': 0.9445496151216393,\n",
       "  'best_param': {'max_depth': 21, 'n_estimators': 260}})"
      ]
     },
     "execution_count": 85,
     "metadata": {},
     "output_type": "execute_result"
    }
   ],
   "source": [
    "getTrainScores(gsearch5)"
   ]
  },
  {
   "cell_type": "code",
   "execution_count": 86,
   "metadata": {},
   "outputs": [
    {
     "name": "stdout",
     "output_type": "stream",
     "text": [
      "Fitting 5 folds for each of 49 candidates, totalling 245 fits\n"
     ]
    },
    {
     "name": "stderr",
     "output_type": "stream",
     "text": [
      "[Parallel(n_jobs=1)]: Using backend SequentialBackend with 1 concurrent workers.\n",
      "[Parallel(n_jobs=1)]: Done 230 out of 230 | elapsed:    1.8s finished\n"
     ]
    },
    {
     "data": {
      "text/plain": [
       "GridSearchCV(cv=5,\n",
       "             estimator=RandomForestClassifier(max_depth=21, n_estimators=260,\n",
       "                                              random_state=27, verbose=1),\n",
       "             n_jobs=-1,\n",
       "             param_grid={'max_depth': range(21, 28),\n",
       "                         'n_estimators': range(190, 260, 10)},\n",
       "             scoring='f1_micro', verbose=10)"
      ]
     },
     "execution_count": 86,
     "metadata": {},
     "output_type": "execute_result"
    }
   ],
   "source": [
    "clf6 = gsearch5.best_estimator_ #  best depth18\n",
    "\n",
    "params5 = {\n",
    "    'n_estimators'      : range(190,260,10),\n",
    "    'max_depth'         : range(21,28,1)\n",
    "}\n",
    "#metrics to consider: f1_micro, f1_macro, roc_auc_ovr\n",
    "gsearch6 = GridSearchCV(estimator = clf6, param_grid = params5, scoring='f1_micro',n_jobs=-1,verbose = 10, cv=5)\n",
    "gsearch6.fit(training_data['X_train'], training_data['Y_train'].reshape(training_data['Y_train'].shape[0],))"
   ]
  },
  {
   "cell_type": "code",
   "execution_count": null,
   "metadata": {},
   "outputs": [],
   "source": []
  },
  {
   "cell_type": "code",
   "execution_count": 87,
   "metadata": {},
   "outputs": [
    {
     "data": {
      "text/plain": [
       "({0: \"mean:0.943814265863826params{'max_depth': 21, 'n_estimators': 190}\",\n",
       "  1: \"mean:0.9441292264937472params{'max_depth': 21, 'n_estimators': 200}\",\n",
       "  2: \"mean:0.9442344339310527params{'max_depth': 21, 'n_estimators': 210}\",\n",
       "  3: \"mean:0.944129226493747params{'max_depth': 21, 'n_estimators': 220}\",\n",
       "  4: \"mean:0.9443393105273605params{'max_depth': 21, 'n_estimators': 230}\",\n",
       "  5: \"mean:0.9437093892675179params{'max_depth': 21, 'n_estimators': 240}\",\n",
       "  6: \"mean:0.9440243498974393params{'max_depth': 21, 'n_estimators': 250}\",\n",
       "  7: \"mean:0.9416094311740444params{'max_depth': 22, 'n_estimators': 190}\",\n",
       "  8: \"mean:0.9429745914113677params{'max_depth': 22, 'n_estimators': 200}\",\n",
       "  9: \"mean:0.9429745914113677params{'max_depth': 22, 'n_estimators': 210}\",\n",
       "  10: \"mean:0.9428694942543947params{'max_depth': 22, 'n_estimators': 220}\",\n",
       "  11: \"mean:0.9434995809347362params{'max_depth': 22, 'n_estimators': 230}\",\n",
       "  12: \"mean:0.9439196387216302params{'max_depth': 22, 'n_estimators': 240}\",\n",
       "  13: \"mean:0.9432895520412888params{'max_depth': 22, 'n_estimators': 250}\",\n",
       "  14: \"mean:0.9439193630207988params{'max_depth': 23, 'n_estimators': 190}\",\n",
       "  15: \"mean:0.9447593683142548params{'max_depth': 23, 'n_estimators': 200}\",\n",
       "  16: \"mean:0.9447592580339222params{'max_depth': 23, 'n_estimators': 210}\",\n",
       "  17: \"mean:0.9445492291404751params{'max_depth': 23, 'n_estimators': 220}\",\n",
       "  18: \"mean:0.9450743289441761params{'max_depth': 23, 'n_estimators': 230}\",\n",
       "  19: \"mean:0.9447594234544212params{'max_depth': 23, 'n_estimators': 240}\",\n",
       "  20: \"mean:0.9448644103310617params{'max_depth': 23, 'n_estimators': 250}\",\n",
       "  21: \"mean:0.9433943734974305params{'max_depth': 24, 'n_estimators': 190}\",\n",
       "  22: \"mean:0.944444848805664params{'max_depth': 24, 'n_estimators': 200}\",\n",
       "  23: \"mean:0.9441297227552438params{'max_depth': 24, 'n_estimators': 210}\",\n",
       "  24: \"mean:0.9441295021945788params{'max_depth': 24, 'n_estimators': 220}\",\n",
       "  25: \"mean:0.9445497254019717params{'max_depth': 24, 'n_estimators': 230}\",\n",
       "  26: \"mean:0.9442345442113853params{'max_depth': 24, 'n_estimators': 240}\",\n",
       "  27: \"mean:0.9433944286375968params{'max_depth': 24, 'n_estimators': 250}\",\n",
       "  28: \"mean:0.9428693839740621params{'max_depth': 25, 'n_estimators': 190}\",\n",
       "  29: \"mean:0.942764286817089params{'max_depth': 25, 'n_estimators': 200}\",\n",
       "  30: \"mean:0.9436045678113766params{'max_depth': 25, 'n_estimators': 210}\",\n",
       "  31: \"mean:0.9438146518449899params{'max_depth': 25, 'n_estimators': 220}\",\n",
       "  32: \"mean:0.9440244601777719params{'max_depth': 25, 'n_estimators': 230}\",\n",
       "  33: \"mean:0.9439194733011315params{'max_depth': 25, 'n_estimators': 240}\",\n",
       "  34: \"mean:0.9440245704581045params{'max_depth': 25, 'n_estimators': 250}\",\n",
       "  35: \"mean:0.9413992920002647params{'max_depth': 26, 'n_estimators': 190}\",\n",
       "  36: \"mean:0.9419242815236331params{'max_depth': 26, 'n_estimators': 200}\",\n",
       "  37: \"mean:0.9432893314806238params{'max_depth': 26, 'n_estimators': 210}\",\n",
       "  38: \"mean:0.9430793025871766params{'max_depth': 26, 'n_estimators': 220}\",\n",
       "  39: \"mean:0.9438143210039922params{'max_depth': 26, 'n_estimators': 230}\",\n",
       "  40: \"mean:0.9434994155142373params{'max_depth': 26, 'n_estimators': 240}\",\n",
       "  41: \"mean:0.9426590793797833params{'max_depth': 26, 'n_estimators': 250}\",\n",
       "  42: \"mean:0.9422390767330555params{'max_depth': 27, 'n_estimators': 190}\",\n",
       "  43: \"mean:0.9420292132601071params{'max_depth': 27, 'n_estimators': 200}\",\n",
       "  44: \"mean:0.9425540925031429params{'max_depth': 27, 'n_estimators': 210}\",\n",
       "  45: \"mean:0.9421338692957498params{'max_depth': 27, 'n_estimators': 220}\",\n",
       "  46: \"mean:0.9430791371666778params{'max_depth': 27, 'n_estimators': 230}\",\n",
       "  47: \"mean:0.9436041818302124params{'max_depth': 27, 'n_estimators': 240}\",\n",
       "  48: \"mean:0.9432892212002912params{'max_depth': 27, 'n_estimators': 250}\"},\n",
       " {'best_mean': 0.9450743289441761,\n",
       "  'best_param': {'max_depth': 23, 'n_estimators': 230}})"
      ]
     },
     "execution_count": 87,
     "metadata": {},
     "output_type": "execute_result"
    }
   ],
   "source": [
    "getTrainScores(gsearch6)"
   ]
  },
  {
   "cell_type": "code",
   "execution_count": 88,
   "metadata": {},
   "outputs": [
    {
     "name": "stdout",
     "output_type": "stream",
     "text": [
      "Fitting 5 folds for each of 49 candidates, totalling 245 fits\n"
     ]
    },
    {
     "name": "stderr",
     "output_type": "stream",
     "text": [
      "[Parallel(n_jobs=1)]: Using backend SequentialBackend with 1 concurrent workers.\n",
      "[Parallel(n_jobs=1)]: Done 170 out of 170 | elapsed:    1.5s finished\n"
     ]
    },
    {
     "data": {
      "text/plain": [
       "({0: \"mean:0.9452845232581222params{'max_depth': 23, 'n_estimators': 160}\",\n",
       "  1: \"mean:0.9457047464655153params{'max_depth': 23, 'n_estimators': 170}\",\n",
       "  2: \"mean:0.9445493945609739params{'max_depth': 23, 'n_estimators': 180}\",\n",
       "  3: \"mean:0.9439193630207988params{'max_depth': 23, 'n_estimators': 190}\",\n",
       "  4: \"mean:0.9447593683142548params{'max_depth': 23, 'n_estimators': 200}\",\n",
       "  5: \"mean:0.9447592580339222params{'max_depth': 23, 'n_estimators': 210}\",\n",
       "  6: \"mean:0.9445492291404751params{'max_depth': 23, 'n_estimators': 220}\",\n",
       "  7: \"mean:0.9437093341273517params{'max_depth': 24, 'n_estimators': 160}\",\n",
       "  8: \"mean:0.9439196938617969params{'max_depth': 24, 'n_estimators': 170}\",\n",
       "  9: \"mean:0.9437093341273517params{'max_depth': 24, 'n_estimators': 180}\",\n",
       "  10: \"mean:0.9433943734974305params{'max_depth': 24, 'n_estimators': 190}\",\n",
       "  11: \"mean:0.944444848805664params{'max_depth': 24, 'n_estimators': 200}\",\n",
       "  12: \"mean:0.9441297227552438params{'max_depth': 24, 'n_estimators': 210}\",\n",
       "  13: \"mean:0.9441295021945788params{'max_depth': 24, 'n_estimators': 220}\",\n",
       "  14: \"mean:0.9436045678113765params{'max_depth': 25, 'n_estimators': 160}\",\n",
       "  15: \"mean:0.9423441738900286params{'max_depth': 25, 'n_estimators': 170}\",\n",
       "  16: \"mean:0.9426594102207811params{'max_depth': 25, 'n_estimators': 180}\",\n",
       "  17: \"mean:0.9428693839740621params{'max_depth': 25, 'n_estimators': 190}\",\n",
       "  18: \"mean:0.942764286817089params{'max_depth': 25, 'n_estimators': 200}\",\n",
       "  19: \"mean:0.9436045678113766params{'max_depth': 25, 'n_estimators': 210}\",\n",
       "  20: \"mean:0.9438146518449899params{'max_depth': 25, 'n_estimators': 220}\",\n",
       "  21: \"mean:0.9419242815236331params{'max_depth': 26, 'n_estimators': 160}\",\n",
       "  22: \"mean:0.9416092106133792params{'max_depth': 26, 'n_estimators': 170}\",\n",
       "  23: \"mean:0.9419242815236331params{'max_depth': 26, 'n_estimators': 180}\",\n",
       "  24: \"mean:0.9413992920002647params{'max_depth': 26, 'n_estimators': 190}\",\n",
       "  25: \"mean:0.9419242815236331params{'max_depth': 26, 'n_estimators': 200}\",\n",
       "  26: \"mean:0.9432893314806238params{'max_depth': 26, 'n_estimators': 210}\",\n",
       "  27: \"mean:0.9430793025871766params{'max_depth': 26, 'n_estimators': 220}\",\n",
       "  28: \"mean:0.9419243918039657params{'max_depth': 27, 'n_estimators': 160}\",\n",
       "  29: \"mean:0.941609155473213params{'max_depth': 27, 'n_estimators': 170}\",\n",
       "  30: \"mean:0.9410840005293455params{'max_depth': 27, 'n_estimators': 180}\",\n",
       "  31: \"mean:0.9422390767330555params{'max_depth': 27, 'n_estimators': 190}\",\n",
       "  32: \"mean:0.9420292132601071params{'max_depth': 27, 'n_estimators': 200}\",\n",
       "  33: \"mean:0.9425540925031429params{'max_depth': 27, 'n_estimators': 210}\",\n",
       "  34: \"mean:0.9421338692957498params{'max_depth': 27, 'n_estimators': 220}\",\n",
       "  35: \"mean:0.9424493813273342params{'max_depth': 28, 'n_estimators': 160}\",\n",
       "  36: \"mean:0.9429743708507026params{'max_depth': 28, 'n_estimators': 170}\",\n",
       "  37: \"mean:0.9424492710470014params{'max_depth': 28, 'n_estimators': 180}\",\n",
       "  38: \"mean:0.9424492159068352params{'max_depth': 28, 'n_estimators': 190}\",\n",
       "  39: \"mean:0.9423442841703611params{'max_depth': 28, 'n_estimators': 200}\",\n",
       "  40: \"mean:0.9434993052339046params{'max_depth': 28, 'n_estimators': 210}\",\n",
       "  41: \"mean:0.9438141555834931params{'max_depth': 28, 'n_estimators': 220}\",\n",
       "  42: \"mean:0.9433943734974305params{'max_depth': 29, 'n_estimators': 160}\",\n",
       "  43: \"mean:0.9430793577273431params{'max_depth': 29, 'n_estimators': 170}\",\n",
       "  44: \"mean:0.9428692185535631params{'max_depth': 29, 'n_estimators': 180}\",\n",
       "  45: \"mean:0.9425543682039745params{'max_depth': 29, 'n_estimators': 190}\",\n",
       "  46: \"mean:0.9427643970974217params{'max_depth': 29, 'n_estimators': 200}\",\n",
       "  47: \"mean:0.9439194181609653params{'max_depth': 29, 'n_estimators': 210}\",\n",
       "  48: \"mean:0.9444442422638346params{'max_depth': 29, 'n_estimators': 220}\"},\n",
       " {'best_mean': 0.9457047464655153,\n",
       "  'best_param': {'max_depth': 23, 'n_estimators': 170}})"
      ]
     },
     "execution_count": 88,
     "metadata": {},
     "output_type": "execute_result"
    }
   ],
   "source": [
    "clf7 = gsearch6.best_estimator_ #  best depth18\n",
    "\n",
    "params6 = {\n",
    "    'n_estimators'      : range(160,230,10),\n",
    "    'max_depth'         : range(23,30,1)\n",
    "}\n",
    "#metrics to consider: f1_micro, f1_macro, roc_auc_ovr\n",
    "gsearch7 = GridSearchCV(estimator = clf7, param_grid = params6, scoring='f1_micro',n_jobs=-1,verbose = 10, cv=5)\n",
    "gsearch7.fit(training_data['X_train'], training_data['Y_train'].reshape(training_data['Y_train'].shape[0],))\n",
    "\n",
    "getTrainScores(gsearch7)"
   ]
  },
  {
   "cell_type": "code",
   "execution_count": 89,
   "metadata": {},
   "outputs": [
    {
     "name": "stdout",
     "output_type": "stream",
     "text": [
      "Fitting 5 folds for each of 7 candidates, totalling 35 fits\n"
     ]
    },
    {
     "name": "stderr",
     "output_type": "stream",
     "text": [
      "[Parallel(n_jobs=1)]: Using backend SequentialBackend with 1 concurrent workers.\n",
      "[Parallel(n_jobs=1)]: Done 160 out of 160 | elapsed:    1.3s finished\n"
     ]
    },
    {
     "data": {
      "text/plain": [
       "({0: \"mean:0.9422394075740534params{'n_estimators': 100}\",\n",
       "  1: \"mean:0.9430796885683407params{'n_estimators': 110}\",\n",
       "  2: \"mean:0.9434995257945697params{'n_estimators': 120}\",\n",
       "  3: \"mean:0.9436046229515428params{'n_estimators': 130}\",\n",
       "  4: \"mean:0.9439198592822956params{'n_estimators': 140}\",\n",
       "  5: \"mean:0.9442345993515516params{'n_estimators': 150}\",\n",
       "  6: \"mean:0.9452845232581222params{'n_estimators': 160}\"},\n",
       " {'best_mean': 0.9452845232581222, 'best_param': {'n_estimators': 160}})"
      ]
     },
     "execution_count": 89,
     "metadata": {},
     "output_type": "execute_result"
    }
   ],
   "source": [
    "clf8 = gsearch7.best_estimator_ #  best depth18\n",
    "\n",
    "params7 = {\n",
    "    'n_estimators'      : range(100,170,10),\n",
    "}\n",
    "#metrics to consider: f1_micro, f1_macro, roc_auc_ovr\n",
    "gsearch8 = GridSearchCV(estimator = clf8, param_grid = params7, scoring='f1_micro',n_jobs=-1,verbose = 10, cv=5)\n",
    "gsearch8.fit(training_data['X_train'], training_data['Y_train'].reshape(training_data['Y_train'].shape[0],))\n",
    "\n",
    "getTrainScores(gsearch8)"
   ]
  },
  {
   "cell_type": "code",
   "execution_count": 90,
   "metadata": {},
   "outputs": [
    {
     "name": "stdout",
     "output_type": "stream",
     "text": [
      "Fitting 5 folds for each of 7 candidates, totalling 35 fits\n"
     ]
    },
    {
     "name": "stderr",
     "output_type": "stream",
     "text": [
      "[Parallel(n_jobs=1)]: Using backend SequentialBackend with 1 concurrent workers.\n",
      "[Parallel(n_jobs=1)]: Done 150 out of 150 | elapsed:    1.4s finished\n"
     ]
    },
    {
     "data": {
      "text/plain": [
       "({0: \"mean:0.9415043340170713params{'n_estimators': 90}\",\n",
       "  1: \"mean:0.9422394075740534params{'n_estimators': 100}\",\n",
       "  2: \"mean:0.9430796885683407params{'n_estimators': 110}\",\n",
       "  3: \"mean:0.9434995257945697params{'n_estimators': 120}\",\n",
       "  4: \"mean:0.9436046229515428params{'n_estimators': 130}\",\n",
       "  5: \"mean:0.9439198592822956params{'n_estimators': 140}\",\n",
       "  6: \"mean:0.9442345993515516params{'n_estimators': 150}\"},\n",
       " {'best_mean': 0.9442345993515516, 'best_param': {'n_estimators': 150}})"
      ]
     },
     "execution_count": 90,
     "metadata": {},
     "output_type": "execute_result"
    }
   ],
   "source": [
    "clf9 = gsearch8.best_estimator_ #  best depth18\n",
    "\n",
    "params8 = {\n",
    "    'n_estimators'      : range(90,160,10),\n",
    "}\n",
    "#metrics to consider: f1_micro, f1_macro, roc_auc_ovr\n",
    "gsearch9 = GridSearchCV(estimator = clf9, param_grid = params8, scoring='f1_micro',n_jobs=-1,verbose = 10, cv=5)\n",
    "gsearch9.fit(training_data['X_train'], training_data['Y_train'].reshape(training_data['Y_train'].shape[0],))\n",
    "\n",
    "getTrainScores(gsearch9)"
   ]
  },
  {
   "cell_type": "code",
   "execution_count": 91,
   "metadata": {},
   "outputs": [
    {
     "name": "stdout",
     "output_type": "stream",
     "text": [
      "Fitting 5 folds for each of 14 candidates, totalling 70 fits\n"
     ]
    },
    {
     "name": "stderr",
     "output_type": "stream",
     "text": [
      "[Parallel(n_jobs=1)]: Using backend SequentialBackend with 1 concurrent workers.\n",
      "[Parallel(n_jobs=1)]: Done 135 out of 135 | elapsed:    1.2s finished\n"
     ]
    },
    {
     "data": {
      "text/plain": [
       "({0: \"mean:0.9400343523236065params{'n_estimators': 80}\",\n",
       "  1: \"mean:0.9416093760338782params{'n_estimators': 85}\",\n",
       "  2: \"mean:0.9415043340170713params{'n_estimators': 90}\",\n",
       "  3: \"mean:0.9426594653609476params{'n_estimators': 95}\",\n",
       "  4: \"mean:0.9422394075740534params{'n_estimators': 100}\",\n",
       "  5: \"mean:0.9427644522375879params{'n_estimators': 105}\",\n",
       "  6: \"mean:0.9430796885683407params{'n_estimators': 110}\",\n",
       "  7: \"mean:0.9431845651646485params{'n_estimators': 115}\",\n",
       "  8: \"mean:0.9434995257945697params{'n_estimators': 120}\",\n",
       "  9: \"mean:0.943604457531044params{'n_estimators': 125}\",\n",
       "  10: \"mean:0.9436046229515428params{'n_estimators': 130}\",\n",
       "  11: \"mean:0.9443397516486909params{'n_estimators': 135}\",\n",
       "  12: \"mean:0.9439198592822956params{'n_estimators': 140}\",\n",
       "  13: \"mean:0.9430794128675093params{'n_estimators': 145}\"},\n",
       " {'best_mean': 0.9443397516486909, 'best_param': {'n_estimators': 135}})"
      ]
     },
     "execution_count": 91,
     "metadata": {},
     "output_type": "execute_result"
    }
   ],
   "source": [
    "clf10 = gsearch9.best_estimator_ #  best depth18\n",
    "\n",
    "params9 = {\n",
    "    'n_estimators'      : range(80,150,5),\n",
    "}\n",
    "#metrics to consider: f1_micro, f1_macro, roc_auc_ovr\n",
    "gsearch10 = GridSearchCV(estimator = clf10, param_grid = params9, scoring='f1_micro',n_jobs=-1,verbose = 10, cv=5)\n",
    "gsearch10.fit(training_data['X_train'], training_data['Y_train'].reshape(training_data['Y_train'].shape[0],))\n",
    "\n",
    "getTrainScores(gsearch10)"
   ]
  },
  {
   "cell_type": "code",
   "execution_count": 92,
   "metadata": {},
   "outputs": [
    {
     "name": "stdout",
     "output_type": "stream",
     "text": [
      "Fitting 5 folds for each of 14 candidates, totalling 70 fits\n"
     ]
    },
    {
     "name": "stderr",
     "output_type": "stream",
     "text": [
      "[Parallel(n_jobs=1)]: Using backend SequentialBackend with 1 concurrent workers.\n",
      "[Parallel(n_jobs=1)]: Done 130 out of 130 | elapsed:    1.1s finished\n"
     ]
    },
    {
     "data": {
      "text/plain": [
       "({0: \"mean:0.9394041553629325params{'n_estimators': 65}\",\n",
       "  1: \"mean:0.9403493680936942params{'n_estimators': 70}\",\n",
       "  2: \"mean:0.9408744127572289params{'n_estimators': 75}\",\n",
       "  3: \"mean:0.9400343523236065params{'n_estimators': 80}\",\n",
       "  4: \"mean:0.9416093760338782params{'n_estimators': 85}\",\n",
       "  5: \"mean:0.9415043340170713params{'n_estimators': 90}\",\n",
       "  6: \"mean:0.9426594653609476params{'n_estimators': 95}\",\n",
       "  7: \"mean:0.9422394075740534params{'n_estimators': 100}\",\n",
       "  8: \"mean:0.9427644522375879params{'n_estimators': 105}\",\n",
       "  9: \"mean:0.9430796885683407params{'n_estimators': 110}\",\n",
       "  10: \"mean:0.9431845651646485params{'n_estimators': 115}\",\n",
       "  11: \"mean:0.9434995257945697params{'n_estimators': 120}\",\n",
       "  12: \"mean:0.943604457531044params{'n_estimators': 125}\",\n",
       "  13: \"mean:0.9436046229515428params{'n_estimators': 130}\"},\n",
       " {'best_mean': 0.9436046229515428, 'best_param': {'n_estimators': 130}})"
      ]
     },
     "execution_count": 92,
     "metadata": {},
     "output_type": "execute_result"
    }
   ],
   "source": [
    "clf11 = gsearch10.best_estimator_ #  best depth18\n",
    "\n",
    "params10 = {\n",
    "    'n_estimators'      : range(65,135,5),\n",
    "}\n",
    "#metrics to consider: f1_micro, f1_macro, roc_auc_ovr\n",
    "gsearch11 = GridSearchCV(estimator = clf11, param_grid = params10, scoring='f1_micro',n_jobs=-1,verbose = 10, cv=5)\n",
    "gsearch11.fit(training_data['X_train'], training_data['Y_train'].reshape(training_data['Y_train'].shape[0],))\n",
    "\n",
    "getTrainScores(gsearch11)"
   ]
  },
  {
   "cell_type": "code",
   "execution_count": 93,
   "metadata": {},
   "outputs": [
    {
     "name": "stdout",
     "output_type": "stream",
     "text": [
      "Fitting 5 folds for each of 13 candidates, totalling 65 fits\n"
     ]
    },
    {
     "name": "stderr",
     "output_type": "stream",
     "text": [
      "[Parallel(n_jobs=1)]: Using backend SequentialBackend with 1 concurrent workers.\n",
      "[Parallel(n_jobs=1)]: Done 125 out of 125 | elapsed:    1.1s finished\n"
     ]
    },
    {
     "data": {
      "text/plain": [
       "({0: \"mean:0.9394041553629325params{'n_estimators': 65}\",\n",
       "  1: \"mean:0.9403493680936942params{'n_estimators': 70}\",\n",
       "  2: \"mean:0.9408744127572289params{'n_estimators': 75}\",\n",
       "  3: \"mean:0.9400343523236065params{'n_estimators': 80}\",\n",
       "  4: \"mean:0.9416093760338782params{'n_estimators': 85}\",\n",
       "  5: \"mean:0.9415043340170713params{'n_estimators': 90}\",\n",
       "  6: \"mean:0.9426594653609476params{'n_estimators': 95}\",\n",
       "  7: \"mean:0.9422394075740534params{'n_estimators': 100}\",\n",
       "  8: \"mean:0.9427644522375879params{'n_estimators': 105}\",\n",
       "  9: \"mean:0.9430796885683407params{'n_estimators': 110}\",\n",
       "  10: \"mean:0.9431845651646485params{'n_estimators': 115}\",\n",
       "  11: \"mean:0.9434995257945697params{'n_estimators': 120}\",\n",
       "  12: \"mean:0.943604457531044params{'n_estimators': 125}\"},\n",
       " {'best_mean': 0.943604457531044, 'best_param': {'n_estimators': 125}})"
      ]
     },
     "execution_count": 93,
     "metadata": {},
     "output_type": "execute_result"
    }
   ],
   "source": [
    "clf12 = gsearch11.best_estimator_ #  best depth18\n",
    "\n",
    "params11 = {\n",
    "    'n_estimators'      : range(65,130,5),\n",
    "}\n",
    "#metrics to consider: f1_micro, f1_macro, roc_auc_ovr\n",
    "gsearch12 = GridSearchCV(estimator = clf12, param_grid = params11, scoring='f1_micro',n_jobs=-1,verbose = 10, cv=5)\n",
    "gsearch12.fit(training_data['X_train'], training_data['Y_train'].reshape(training_data['Y_train'].shape[0],))\n",
    "\n",
    "getTrainScores(gsearch12)"
   ]
  },
  {
   "cell_type": "code",
   "execution_count": 94,
   "metadata": {},
   "outputs": [
    {
     "name": "stdout",
     "output_type": "stream",
     "text": [
      "Fitting 5 folds for each of 12 candidates, totalling 60 fits\n"
     ]
    },
    {
     "name": "stderr",
     "output_type": "stream",
     "text": [
      "[Parallel(n_jobs=1)]: Using backend SequentialBackend with 1 concurrent workers.\n",
      "[Parallel(n_jobs=1)]: Done 120 out of 120 | elapsed:    1.1s finished\n"
     ]
    },
    {
     "data": {
      "text/plain": [
       "({0: \"mean:0.9394041553629325params{'n_estimators': 65}\",\n",
       "  1: \"mean:0.9403493680936942params{'n_estimators': 70}\",\n",
       "  2: \"mean:0.9408744127572289params{'n_estimators': 75}\",\n",
       "  3: \"mean:0.9400343523236065params{'n_estimators': 80}\",\n",
       "  4: \"mean:0.9416093760338782params{'n_estimators': 85}\",\n",
       "  5: \"mean:0.9415043340170713params{'n_estimators': 90}\",\n",
       "  6: \"mean:0.9426594653609476params{'n_estimators': 95}\",\n",
       "  7: \"mean:0.9422394075740534params{'n_estimators': 100}\",\n",
       "  8: \"mean:0.9427644522375879params{'n_estimators': 105}\",\n",
       "  9: \"mean:0.9430796885683407params{'n_estimators': 110}\",\n",
       "  10: \"mean:0.9431845651646485params{'n_estimators': 115}\",\n",
       "  11: \"mean:0.9434995257945697params{'n_estimators': 120}\"},\n",
       " {'best_mean': 0.9434995257945697, 'best_param': {'n_estimators': 120}})"
      ]
     },
     "execution_count": 94,
     "metadata": {},
     "output_type": "execute_result"
    }
   ],
   "source": [
    "clf13 = gsearch12.best_estimator_ #  best depth18\n",
    "\n",
    "params12 = {\n",
    "    'n_estimators'      : range(65,125,5),\n",
    "}\n",
    "#metrics to consider: f1_micro, f1_macro, roc_auc_ovr\n",
    "gsearch13 = GridSearchCV(estimator = clf13, param_grid = params12, scoring='f1_micro',n_jobs=-1,verbose = 10, cv=5)\n",
    "gsearch13.fit(training_data['X_train'], training_data['Y_train'].reshape(training_data['Y_train'].shape[0],))\n",
    "\n",
    "getTrainScores(gsearch13)"
   ]
  },
  {
   "cell_type": "code",
   "execution_count": 95,
   "metadata": {},
   "outputs": [
    {
     "name": "stdout",
     "output_type": "stream",
     "text": [
      "Fitting 5 folds for each of 11 candidates, totalling 55 fits\n"
     ]
    },
    {
     "name": "stderr",
     "output_type": "stream",
     "text": [
      "[Parallel(n_jobs=1)]: Using backend SequentialBackend with 1 concurrent workers.\n",
      "[Parallel(n_jobs=1)]: Done 115 out of 115 | elapsed:    1.4s finished\n"
     ]
    },
    {
     "data": {
      "text/plain": [
       "({0: \"mean:0.9394041553629325params{'n_estimators': 65}\",\n",
       "  1: \"mean:0.9403493680936942params{'n_estimators': 70}\",\n",
       "  2: \"mean:0.9408744127572289params{'n_estimators': 75}\",\n",
       "  3: \"mean:0.9400343523236065params{'n_estimators': 80}\",\n",
       "  4: \"mean:0.9416093760338782params{'n_estimators': 85}\",\n",
       "  5: \"mean:0.9415043340170713params{'n_estimators': 90}\",\n",
       "  6: \"mean:0.9426594653609476params{'n_estimators': 95}\",\n",
       "  7: \"mean:0.9422394075740534params{'n_estimators': 100}\",\n",
       "  8: \"mean:0.9427644522375879params{'n_estimators': 105}\",\n",
       "  9: \"mean:0.9430796885683407params{'n_estimators': 110}\",\n",
       "  10: \"mean:0.9431845651646485params{'n_estimators': 115}\"},\n",
       " {'best_mean': 0.9431845651646485, 'best_param': {'n_estimators': 115}})"
      ]
     },
     "execution_count": 95,
     "metadata": {},
     "output_type": "execute_result"
    }
   ],
   "source": [
    "clf14 = gsearch13.best_estimator_ #  best depth18\n",
    "\n",
    "params13 = {\n",
    "    'n_estimators'      : range(65,120,5),\n",
    "}\n",
    "#metrics to consider: f1_micro, f1_macro, roc_auc_ovr\n",
    "gsearch14 = GridSearchCV(estimator = clf14, param_grid = params13, scoring='f1_micro',n_jobs=-1,verbose = 10, cv=5)\n",
    "gsearch14.fit(training_data['X_train'], training_data['Y_train'].reshape(training_data['Y_train'].shape[0],))\n",
    "\n",
    "getTrainScores(gsearch14)"
   ]
  },
  {
   "cell_type": "code",
   "execution_count": 96,
   "metadata": {},
   "outputs": [
    {
     "name": "stdout",
     "output_type": "stream",
     "text": [
      "Fitting 5 folds for each of 10 candidates, totalling 50 fits\n"
     ]
    },
    {
     "name": "stderr",
     "output_type": "stream",
     "text": [
      "[Parallel(n_jobs=1)]: Using backend SequentialBackend with 1 concurrent workers.\n",
      "[Parallel(n_jobs=1)]: Done 110 out of 110 | elapsed:    1.0s finished\n"
     ]
    },
    {
     "data": {
      "text/plain": [
       "({0: \"mean:0.9394041553629325params{'n_estimators': 65}\",\n",
       "  1: \"mean:0.9403493680936942params{'n_estimators': 70}\",\n",
       "  2: \"mean:0.9408744127572289params{'n_estimators': 75}\",\n",
       "  3: \"mean:0.9400343523236065params{'n_estimators': 80}\",\n",
       "  4: \"mean:0.9416093760338782params{'n_estimators': 85}\",\n",
       "  5: \"mean:0.9415043340170713params{'n_estimators': 90}\",\n",
       "  6: \"mean:0.9426594653609476params{'n_estimators': 95}\",\n",
       "  7: \"mean:0.9422394075740534params{'n_estimators': 100}\",\n",
       "  8: \"mean:0.9427644522375879params{'n_estimators': 105}\",\n",
       "  9: \"mean:0.9430796885683407params{'n_estimators': 110}\"},\n",
       " {'best_mean': 0.9430796885683407, 'best_param': {'n_estimators': 110}})"
      ]
     },
     "execution_count": 96,
     "metadata": {},
     "output_type": "execute_result"
    }
   ],
   "source": [
    "clf15 = gsearch14.best_estimator_ #  best depth18\n",
    "\n",
    "params14 = {\n",
    "    'n_estimators'      : range(65,115,5),\n",
    "}\n",
    "#metrics to consider: f1_micro, f1_macro, roc_auc_ovr\n",
    "gsearch15 = GridSearchCV(estimator = clf15, param_grid = params14, scoring='f1_micro',n_jobs=-1,verbose = 10, cv=5)\n",
    "gsearch15.fit(training_data['X_train'], training_data['Y_train'].reshape(training_data['Y_train'].shape[0],))\n",
    "\n",
    "getTrainScores(gsearch15)"
   ]
  },
  {
   "cell_type": "code",
   "execution_count": 97,
   "metadata": {},
   "outputs": [
    {
     "name": "stdout",
     "output_type": "stream",
     "text": [
      "Fitting 5 folds for each of 9 candidates, totalling 45 fits\n"
     ]
    },
    {
     "name": "stderr",
     "output_type": "stream",
     "text": [
      "[Parallel(n_jobs=1)]: Using backend SequentialBackend with 1 concurrent workers.\n",
      "[Parallel(n_jobs=1)]: Done 105 out of 105 | elapsed:    1.1s finished\n"
     ]
    },
    {
     "data": {
      "text/plain": [
       "({0: \"mean:0.9394041553629325params{'n_estimators': 65}\",\n",
       "  1: \"mean:0.9403493680936942params{'n_estimators': 70}\",\n",
       "  2: \"mean:0.9408744127572289params{'n_estimators': 75}\",\n",
       "  3: \"mean:0.9400343523236065params{'n_estimators': 80}\",\n",
       "  4: \"mean:0.9416093760338782params{'n_estimators': 85}\",\n",
       "  5: \"mean:0.9415043340170713params{'n_estimators': 90}\",\n",
       "  6: \"mean:0.9426594653609476params{'n_estimators': 95}\",\n",
       "  7: \"mean:0.9422394075740534params{'n_estimators': 100}\",\n",
       "  8: \"mean:0.9427644522375879params{'n_estimators': 105}\"},\n",
       " {'best_mean': 0.9427644522375879, 'best_param': {'n_estimators': 105}})"
      ]
     },
     "execution_count": 97,
     "metadata": {},
     "output_type": "execute_result"
    }
   ],
   "source": [
    "clf16 = gsearch15.best_estimator_ #  best depth18\n",
    "\n",
    "params15 = {\n",
    "    'n_estimators'      : range(65,110,5),\n",
    "}\n",
    "#metrics to consider: f1_micro, f1_macro, roc_auc_ovr\n",
    "gsearch16 = GridSearchCV(estimator = clf16, param_grid = params15, scoring='f1_micro',n_jobs=-1,verbose = 10, cv=5)\n",
    "gsearch16.fit(training_data['X_train'], training_data['Y_train'].reshape(training_data['Y_train'].shape[0],))\n",
    "\n",
    "getTrainScores(gsearch16)"
   ]
  },
  {
   "cell_type": "code",
   "execution_count": 98,
   "metadata": {},
   "outputs": [
    {
     "name": "stdout",
     "output_type": "stream",
     "text": [
      "Fitting 5 folds for each of 20 candidates, totalling 100 fits\n"
     ]
    },
    {
     "name": "stderr",
     "output_type": "stream",
     "text": [
      "[Parallel(n_jobs=1)]: Using backend SequentialBackend with 1 concurrent workers.\n",
      "[Parallel(n_jobs=1)]: Done  93 out of  93 | elapsed:    0.9s finished\n"
     ]
    },
    {
     "data": {
      "text/plain": [
       "({0: \"mean:0.9394041553629325params{'n_estimators': 65}\",\n",
       "  1: \"mean:0.9398239925891616params{'n_estimators': 67}\",\n",
       "  2: \"mean:0.9398239925891616params{'n_estimators': 69}\",\n",
       "  3: \"mean:0.9392991133461258params{'n_estimators': 71}\",\n",
       "  4: \"mean:0.9403493680936942params{'n_estimators': 73}\",\n",
       "  5: \"mean:0.9408744127572289params{'n_estimators': 75}\",\n",
       "  6: \"mean:0.9406647147047795params{'n_estimators': 77}\",\n",
       "  7: \"mean:0.9403494232338604params{'n_estimators': 79}\",\n",
       "  8: \"mean:0.9412944705441232params{'n_estimators': 81}\",\n",
       "  9: \"mean:0.9418195152076578params{'n_estimators': 83}\",\n",
       "  10: \"mean:0.9416093760338782params{'n_estimators': 85}\",\n",
       "  11: \"mean:0.9412943602637907params{'n_estimators': 87}\",\n",
       "  12: \"mean:0.9417144731908511params{'n_estimators': 89}\",\n",
       "  13: \"mean:0.942449381327334params{'n_estimators': 91}\",\n",
       "  14: \"mean:0.9429747016917004params{'n_estimators': 93}\",\n",
       "  15: \"mean:0.9426594653609476params{'n_estimators': 95}\",\n",
       "  16: \"mean:0.9428693288338957params{'n_estimators': 97}\",\n",
       "  17: \"mean:0.9426592448002822params{'n_estimators': 99}\",\n",
       "  18: \"mean:0.9424494916076668params{'n_estimators': 101}\",\n",
       "  19: \"mean:0.9427646727982533params{'n_estimators': 103}\"},\n",
       " {'best_mean': 0.9429747016917004, 'best_param': {'n_estimators': 93}})"
      ]
     },
     "execution_count": 98,
     "metadata": {},
     "output_type": "execute_result"
    }
   ],
   "source": [
    "clf17 = gsearch16.best_estimator_ #  best depth18\n",
    "\n",
    "params16 = {\n",
    "    'n_estimators'      : range(65,105,2),\n",
    "}\n",
    "#metrics to consider: f1_micro, f1_macro, roc_auc_ovr\n",
    "gsearch17 = GridSearchCV(estimator = clf17, param_grid = params16, scoring='f1_micro',n_jobs=-1,verbose = 10, cv=5)\n",
    "gsearch17.fit(training_data['X_train'], training_data['Y_train'].reshape(training_data['Y_train'].shape[0],))\n",
    "\n",
    "getTrainScores(gsearch17)"
   ]
  },
  {
   "cell_type": "code",
   "execution_count": 99,
   "metadata": {},
   "outputs": [],
   "source": [
    "# best depth still at 18, so this is final!! \n",
    "\n",
    "final_clf = gsearch17.best_estimator_"
   ]
  },
  {
   "cell_type": "code",
   "execution_count": 100,
   "metadata": {},
   "outputs": [
    {
     "name": "stderr",
     "output_type": "stream",
     "text": [
      "[Parallel(n_jobs=1)]: Using backend SequentialBackend with 1 concurrent workers.\n",
      "[Parallel(n_jobs=1)]: Done  93 out of  93 | elapsed:    0.8s finished\n",
      "[Parallel(n_jobs=1)]: Using backend SequentialBackend with 1 concurrent workers.\n",
      "[Parallel(n_jobs=1)]: Done  93 out of  93 | elapsed:    0.0s finished\n",
      "[Parallel(n_jobs=1)]: Using backend SequentialBackend with 1 concurrent workers.\n"
     ]
    },
    {
     "name": "stdout",
     "output_type": "stream",
     "text": [
      "Train Accuracy:1.0\n",
      "Train F1-Score(Micro):1.0\n",
      "Train F1-Score(Micro):1.0\n",
      "Train F1-Score(Micro):1.0\n",
      "------\n",
      "Test Accuracy:0.9627054361567636\n",
      "Test F1-Score(Micro):0.9627054361567636\n",
      "Test F1-Score(Micro):0.9664213078843787\n",
      "Test F1-Score(Micro):0.9627070099815368\n"
     ]
    },
    {
     "name": "stderr",
     "output_type": "stream",
     "text": [
      "[Parallel(n_jobs=1)]: Done  93 out of  93 | elapsed:    0.1s finished\n"
     ]
    }
   ],
   "source": [
    "final_clf.fit(training_data['X_train'], training_data['Y_train'].reshape(training_data['Y_train'].shape[0],))\n",
    "predicted_labels = final_clf.predict(training_data['X_test'])\n",
    "train_pred = final_clf.predict(training_data['X_train'])\n",
    "print('Train Accuracy:'+str(accuracy_score(training_data['Y_train'], train_pred)))\n",
    "print('Train F1-Score(Micro):'+str(f1_score(training_data['Y_train'], train_pred,average='micro')))\n",
    "print('Train F1-Score(Micro):'+str(f1_score(training_data['Y_train'], train_pred,average='macro')))\n",
    "print('Train F1-Score(Micro):'+str(f1_score(training_data['Y_train'], train_pred,average='weighted')))\n",
    "\n",
    "\n",
    "\n",
    "print('------')\n",
    "print('Test Accuracy:'+str(accuracy_score(training_data['Y_test'], predicted_labels)))\n",
    "print('Test F1-Score(Micro):'+str(f1_score(training_data['Y_test'], predicted_labels,average='micro')))\n",
    "print('Test F1-Score(Micro):'+str(f1_score(training_data['Y_test'], predicted_labels,average='macro')))\n",
    "print('Test F1-Score(Micro):'+str(f1_score(training_data['Y_test'], predicted_labels,average='weighted')))"
   ]
  },
  {
   "cell_type": "markdown",
   "metadata": {},
   "source": [
    "## the F1-score reaches 0.95 for test, 1 for Train --- overfitting? !!!!--- use some controls in xgboost"
   ]
  },
  {
   "cell_type": "code",
   "execution_count": 101,
   "metadata": {},
   "outputs": [
    {
     "data": {
      "text/plain": [
       "Index(['label', 'nTouchpoints', 'touchpoint_emailDestination',\n",
       "       'touchpoint_emailDiscount', 'touchpoint_emailGift',\n",
       "       'touchpoint_mailDestination', 'touchpoint_mailDiscount',\n",
       "       'touchpoint_mailGift', 'touchpoint_smsDestination',\n",
       "       'touchpoint_smsDiscount', 'touchpoint_smsGift', 'marital_divorced',\n",
       "       'marital_married', 'marital_single', 'segment_P1', 'segment_P2',\n",
       "       'segment_P3', 'segment_P4', 'SocialMedia_N', 'SocialMedia_U',\n",
       "       'SocialMedia_Y', 'creditRating_A', 'creditRating_B', 'creditRating_C',\n",
       "       'creditRating_D', 'creditRating_E', 'creditRating_F', 'creditRating_G',\n",
       "       'creditRating_New', 'nAveSpend', 'nIncome', 'nAge'],\n",
       "      dtype='object')"
      ]
     },
     "execution_count": 101,
     "metadata": {},
     "output_type": "execute_result"
    }
   ],
   "source": [
    "df_select.columns"
   ]
  },
  {
   "cell_type": "code",
   "execution_count": 102,
   "metadata": {},
   "outputs": [
    {
     "data": {
      "image/png": "[encoded data removed]",
      "text/plain": [
       "<Figure size 720x360 with 1 Axes>"
      ]
     },
     "metadata": {},
     "output_type": "display_data"
    }
   ],
   "source": [
    "f, ax = plt.subplots(figsize=(10,5))\n",
    "features = ['nTouchpoints', 'touchpoint_emailDestination',\n",
    "       'touchpoint_emailDiscount', 'touchpoint_emailGift',\n",
    "       'touchpoint_mailDestination', 'touchpoint_mailDiscount',\n",
    "       'touchpoint_mailGift', 'touchpoint_smsDestination',\n",
    "       'touchpoint_smsDiscount', 'touchpoint_smsGift', 'marital_divorced',\n",
    "       'marital_married', 'marital_single', 'segment_P1', 'segment_P2',\n",
    "       'segment_P3', 'segment_P4', 'SocialMedia_N', 'SocialMedia_U',\n",
    "       'SocialMedia_Y', 'creditRating_A', 'creditRating_B', 'creditRating_C',\n",
    "       'creditRating_D', 'creditRating_E', 'creditRating_F', 'creditRating_G',\n",
    "       'creditRating_New', 'nAveSpend', 'nIncome', 'nAge']\n",
    "\n",
    "plot = sns.barplot(x=features, y=final_clf.feature_importances_)\n",
    "ax.set_title('Feature Importance')\n",
    "plot.set_xticklabels(plot.get_xticklabels(),rotation='vertical')\n",
    "plt.show()\n",
    "\n",
    "# marital, creditrating, and socialmedia have relatively low importance! "
   ]
  },
  {
   "cell_type": "markdown",
   "metadata": {},
   "source": [
    "## xgboost "
   ]
  },
  {
   "cell_type": "code",
   "execution_count": 103,
   "metadata": {},
   "outputs": [],
   "source": [
    "#allow logloss and classification error plots for each iteraetion of xgb model\n",
    "def plot_compare(metrics,eval_results,epochs):\n",
    "    for m in metrics:\n",
    "        test_score = eval_results['val'][m]\n",
    "        train_score = eval_results['train'][m]\n",
    "        rang = range(0, epochs)\n",
    "        plt.rcParams[\"figure.figsize\"] = [6,6]\n",
    "        plt.plot(rang, test_score,\"c\", label=\"Val\")\n",
    "        plt.plot(rang, train_score,\"orange\", label=\"Train\")\n",
    "        title_name = m + \" plot\"\n",
    "        plt.title(title_name)\n",
    "        plt.xlabel('Iterations')\n",
    "        plt.ylabel(m)\n",
    "        lgd = plt.legend()\n",
    "        plt.show()"
   ]
  },
  {
   "cell_type": "code",
   "execution_count": 104,
   "metadata": {},
   "outputs": [],
   "source": [
    "def fitXgb(sk_model, training_data=training_data,epochs=300):\n",
    "    print('Fitting model...')\n",
    "    sk_model.fit(training_data['X_train'], training_data['Y_train'].reshape(training_data['Y_train'].shape[0],))\n",
    "    print('Fitting done!')\n",
    "    train = xgb.DMatrix(training_data['X_train'], label=training_data['Y_train'])\n",
    "    val = xgb.DMatrix(training_data['X_val'], label=training_data['Y_val'])\n",
    "    params = sk_model.get_xgb_params()\n",
    "    metrics = ['mlogloss','merror']\n",
    "    params['eval_metric'] = metrics\n",
    "    store = {}\n",
    "    evallist = [(val, 'val'),(train,'train')]\n",
    "    xgb_model = xgb.train(params, train, epochs, evallist,  evals_result=store, verbose_eval=100)\n",
    "    print('-- Model Report --')\n",
    "    print('XGBoost Accuracy: '+str(accuracy_score(sk_model.predict(training_data['X_test']), training_data['Y_test'])))\n",
    "    print('XGBoost F1-Score (Micro): '+str(f1_score(sk_model.predict(training_data['X_test']),training_data['Y_test'],average='micro')))\n",
    "    plot_compare(metrics,store,epochs)\n",
    "    features = ['nTouchpoints', 'touchpoint_emailDestination',\n",
    "       'touchpoint_emailDiscount', 'touchpoint_emailGift',\n",
    "       'touchpoint_mailDestination', 'touchpoint_mailDiscount',\n",
    "       'touchpoint_mailGift', 'touchpoint_smsDestination',\n",
    "       'touchpoint_smsDiscount', 'touchpoint_smsGift', 'marital_divorced',\n",
    "       'marital_married', 'marital_single', 'segment_P1', 'segment_P2',\n",
    "       'segment_P3', 'segment_P4', 'SocialMedia_N', 'SocialMedia_U',\n",
    "       'SocialMedia_Y', 'creditRating_A', 'creditRating_B', 'creditRating_C',\n",
    "       'creditRating_D', 'creditRating_E', 'creditRating_F', 'creditRating_G',\n",
    "       'creditRating_New', 'nAveSpend', 'nIncome', 'nAge']\n",
    "    f, ax = plt.subplots(figsize=(10,5))\n",
    "    plot = sns.barplot(x=features, y=sk_model.feature_importances_)\n",
    "    ax.set_title('Feature Importance')\n",
    "    plot.set_xticklabels(plot.get_xticklabels(),rotation='vertical')\n",
    "    plt.show()"
   ]
  },
  {
   "cell_type": "markdown",
   "metadata": {},
   "source": [
    "## xgb and hyperparameter tuning "
   ]
  },
  {
   "cell_type": "code",
   "execution_count": 105,
   "metadata": {},
   "outputs": [],
   "source": [
    "# # parameter explaination\n",
    "# reference: https://towardsdatascience.com/fine-tuning-xgboost-in-python-like-a-boss-b4543ed8b1e\n",
    "\n",
    "# learning_rate: usually between 0.1 and 0.01. If you’re focused on performance and have enough time, decrease incrementally the learning rate while increasing the number of trees.\n",
    "# n_estimators: 100 if the size of your data is high, 1000 is if it is medium-low\n",
    "# max_depth: the maximum number of different features used in each tree.suggest start with low numbers, then change 1 each time, stop when no performance gains \n",
    "# subsample: 0.8,which is for each tree the % of rows taken to build the tree. I recommend not taking out too many rows, as performance will drop a lot. \n",
    "# colsample_bytree: take out some col for each tree to avoid overfitting. use Values from 0.3 to 0.8 if you have many columns (especially if you did one-hot encoding), or 0.8 to 1 if you only have a few columns.\n",
    "# gamma: 1. acts as a regularization parameter. Either 0, 1 or 5.\n",
    "\n"
   ]
  },
  {
   "cell_type": "code",
   "execution_count": 106,
   "metadata": {},
   "outputs": [],
   "source": [
    " \n",
    "#initial model\n",
    "xgb1 = XGBClassifier(learning_rate=0.1,\n",
    "                    n_estimators=1000, # start with 100 if dataset is large, use 1000 for small-mid sized data\n",
    "                    max_depth=5, \n",
    "                    min_child_weight=1,\n",
    "                    gamma=0,\n",
    "                    subsample=0.8,\n",
    "                    colsample_bytree=0.8,\n",
    "                    objective='multi:softmax',  # this is the obj for multi-classificaiton\n",
    "                    nthread=4,\n",
    "                    num_class=9, # need to specify num \n",
    "                    seed=27)"
   ]
  },
  {
   "cell_type": "code",
   "execution_count": 107,
   "metadata": {},
   "outputs": [
    {
     "name": "stderr",
     "output_type": "stream",
     "text": [
      "E:\\Anaconda\\lib\\site-packages\\xgboost\\sklearn.py:1224: UserWarning: The use of label encoder in XGBClassifier is deprecated and will be removed in a future release. To remove this warning, do the following: 1) Pass option use_label_encoder=False when constructing XGBClassifier object; and 2) Encode your labels (y) as integers starting with 0, i.e. 0, 1, 2, ..., [num_class - 1].\n",
      "  warnings.warn(label_encoder_deprecation_msg, UserWarning)\n"
     ]
    },
    {
     "name": "stdout",
     "output_type": "stream",
     "text": [
      "[21:46:35] WARNING: C:/Users/Administrator/workspace/xgboost-win64_release_1.5.1/src/learner.cc:1115: Starting in XGBoost 1.3.0, the default evaluation metric used with the objective 'multi:softprob' was changed from 'merror' to 'mlogloss'. Explicitly set eval_metric if you'd like to restore the old behavior.\n",
      "[0]\tvalidation_0-mlogloss:1.95238\tvalidation_1-mlogloss:1.95659\n",
      "[1]\tvalidation_0-mlogloss:1.75579\tvalidation_1-mlogloss:1.76390\n",
      "[2]\tvalidation_0-mlogloss:1.60838\tvalidation_1-mlogloss:1.61831\n",
      "[3]\tvalidation_0-mlogloss:1.48398\tvalidation_1-mlogloss:1.49621\n",
      "[4]\tvalidation_0-mlogloss:1.38854\tvalidation_1-mlogloss:1.40301\n"
     ]
    },
    {
     "name": "stderr",
     "output_type": "stream",
     "text": [
      "E:\\Anaconda\\lib\\site-packages\\sklearn\\utils\\validation.py:63: DataConversionWarning: A column-vector y was passed when a 1d array was expected. Please change the shape of y to (n_samples, ), for example using ravel().\n",
      "  return f(*args, **kwargs)\n"
     ]
    },
    {
     "name": "stdout",
     "output_type": "stream",
     "text": [
      "[5]\tvalidation_0-mlogloss:1.29791\tvalidation_1-mlogloss:1.31554\n",
      "[6]\tvalidation_0-mlogloss:1.23198\tvalidation_1-mlogloss:1.25315\n",
      "[7]\tvalidation_0-mlogloss:1.15664\tvalidation_1-mlogloss:1.17907\n",
      "[8]\tvalidation_0-mlogloss:1.10018\tvalidation_1-mlogloss:1.12441\n",
      "[9]\tvalidation_0-mlogloss:1.05377\tvalidation_1-mlogloss:1.08041\n",
      "[10]\tvalidation_0-mlogloss:1.00002\tvalidation_1-mlogloss:1.02851\n",
      "[11]\tvalidation_0-mlogloss:0.95835\tvalidation_1-mlogloss:0.98916\n",
      "[12]\tvalidation_0-mlogloss:0.91444\tvalidation_1-mlogloss:0.94819\n",
      "[13]\tvalidation_0-mlogloss:0.87879\tvalidation_1-mlogloss:0.91334\n",
      "[14]\tvalidation_0-mlogloss:0.84260\tvalidation_1-mlogloss:0.87796\n",
      "[15]\tvalidation_0-mlogloss:0.80913\tvalidation_1-mlogloss:0.84595\n",
      "[16]\tvalidation_0-mlogloss:0.77945\tvalidation_1-mlogloss:0.81731\n",
      "[17]\tvalidation_0-mlogloss:0.75184\tvalidation_1-mlogloss:0.79126\n",
      "[18]\tvalidation_0-mlogloss:0.72369\tvalidation_1-mlogloss:0.76403\n",
      "[19]\tvalidation_0-mlogloss:0.70056\tvalidation_1-mlogloss:0.74163\n",
      "[20]\tvalidation_0-mlogloss:0.67963\tvalidation_1-mlogloss:0.72134\n",
      "[21]\tvalidation_0-mlogloss:0.65947\tvalidation_1-mlogloss:0.70173\n",
      "[22]\tvalidation_0-mlogloss:0.63931\tvalidation_1-mlogloss:0.68263\n",
      "[23]\tvalidation_0-mlogloss:0.62118\tvalidation_1-mlogloss:0.66553\n",
      "[24]\tvalidation_0-mlogloss:0.60406\tvalidation_1-mlogloss:0.64919\n",
      "[25]\tvalidation_0-mlogloss:0.58878\tvalidation_1-mlogloss:0.63465\n",
      "[26]\tvalidation_0-mlogloss:0.57621\tvalidation_1-mlogloss:0.62282\n",
      "[27]\tvalidation_0-mlogloss:0.56231\tvalidation_1-mlogloss:0.60955\n",
      "[28]\tvalidation_0-mlogloss:0.54946\tvalidation_1-mlogloss:0.59730\n",
      "[29]\tvalidation_0-mlogloss:0.53768\tvalidation_1-mlogloss:0.58610\n",
      "[30]\tvalidation_0-mlogloss:0.52604\tvalidation_1-mlogloss:0.57471\n",
      "[31]\tvalidation_0-mlogloss:0.51458\tvalidation_1-mlogloss:0.56361\n",
      "[32]\tvalidation_0-mlogloss:0.50493\tvalidation_1-mlogloss:0.55423\n",
      "[33]\tvalidation_0-mlogloss:0.49452\tvalidation_1-mlogloss:0.54405\n",
      "[34]\tvalidation_0-mlogloss:0.48632\tvalidation_1-mlogloss:0.53605\n",
      "[35]\tvalidation_0-mlogloss:0.47741\tvalidation_1-mlogloss:0.52784\n",
      "[36]\tvalidation_0-mlogloss:0.46975\tvalidation_1-mlogloss:0.52109\n",
      "[37]\tvalidation_0-mlogloss:0.46186\tvalidation_1-mlogloss:0.51355\n",
      "[38]\tvalidation_0-mlogloss:0.45457\tvalidation_1-mlogloss:0.50669\n",
      "[39]\tvalidation_0-mlogloss:0.44776\tvalidation_1-mlogloss:0.50015\n",
      "[40]\tvalidation_0-mlogloss:0.44024\tvalidation_1-mlogloss:0.49357\n",
      "[41]\tvalidation_0-mlogloss:0.43406\tvalidation_1-mlogloss:0.48811\n",
      "[42]\tvalidation_0-mlogloss:0.42786\tvalidation_1-mlogloss:0.48250\n",
      "[43]\tvalidation_0-mlogloss:0.42192\tvalidation_1-mlogloss:0.47673\n",
      "[44]\tvalidation_0-mlogloss:0.41607\tvalidation_1-mlogloss:0.47159\n",
      "[45]\tvalidation_0-mlogloss:0.41103\tvalidation_1-mlogloss:0.46658\n",
      "[46]\tvalidation_0-mlogloss:0.40641\tvalidation_1-mlogloss:0.46269\n",
      "[47]\tvalidation_0-mlogloss:0.40080\tvalidation_1-mlogloss:0.45736\n",
      "[48]\tvalidation_0-mlogloss:0.39620\tvalidation_1-mlogloss:0.45314\n",
      "[49]\tvalidation_0-mlogloss:0.39135\tvalidation_1-mlogloss:0.44811\n",
      "[50]\tvalidation_0-mlogloss:0.38670\tvalidation_1-mlogloss:0.44386\n",
      "[51]\tvalidation_0-mlogloss:0.38209\tvalidation_1-mlogloss:0.43965\n",
      "[52]\tvalidation_0-mlogloss:0.37809\tvalidation_1-mlogloss:0.43555\n",
      "[53]\tvalidation_0-mlogloss:0.37363\tvalidation_1-mlogloss:0.43140\n",
      "[54]\tvalidation_0-mlogloss:0.36934\tvalidation_1-mlogloss:0.42743\n",
      "[55]\tvalidation_0-mlogloss:0.36518\tvalidation_1-mlogloss:0.42342\n",
      "[56]\tvalidation_0-mlogloss:0.36097\tvalidation_1-mlogloss:0.41987\n",
      "[57]\tvalidation_0-mlogloss:0.35638\tvalidation_1-mlogloss:0.41594\n",
      "[58]\tvalidation_0-mlogloss:0.35272\tvalidation_1-mlogloss:0.41226\n",
      "[59]\tvalidation_0-mlogloss:0.34895\tvalidation_1-mlogloss:0.40835\n",
      "[60]\tvalidation_0-mlogloss:0.34525\tvalidation_1-mlogloss:0.40533\n",
      "[61]\tvalidation_0-mlogloss:0.34139\tvalidation_1-mlogloss:0.40201\n",
      "[62]\tvalidation_0-mlogloss:0.33738\tvalidation_1-mlogloss:0.39846\n",
      "[63]\tvalidation_0-mlogloss:0.33375\tvalidation_1-mlogloss:0.39503\n",
      "[64]\tvalidation_0-mlogloss:0.33020\tvalidation_1-mlogloss:0.39209\n",
      "[65]\tvalidation_0-mlogloss:0.32744\tvalidation_1-mlogloss:0.38922\n",
      "[66]\tvalidation_0-mlogloss:0.32494\tvalidation_1-mlogloss:0.38678\n",
      "[67]\tvalidation_0-mlogloss:0.32214\tvalidation_1-mlogloss:0.38388\n",
      "[68]\tvalidation_0-mlogloss:0.31984\tvalidation_1-mlogloss:0.38208\n",
      "[69]\tvalidation_0-mlogloss:0.31671\tvalidation_1-mlogloss:0.37883\n",
      "[70]\tvalidation_0-mlogloss:0.31401\tvalidation_1-mlogloss:0.37661\n",
      "[71]\tvalidation_0-mlogloss:0.31130\tvalidation_1-mlogloss:0.37406\n",
      "[72]\tvalidation_0-mlogloss:0.30902\tvalidation_1-mlogloss:0.37233\n",
      "[73]\tvalidation_0-mlogloss:0.30665\tvalidation_1-mlogloss:0.37013\n",
      "[74]\tvalidation_0-mlogloss:0.30417\tvalidation_1-mlogloss:0.36820\n",
      "[75]\tvalidation_0-mlogloss:0.30104\tvalidation_1-mlogloss:0.36541\n",
      "[76]\tvalidation_0-mlogloss:0.29810\tvalidation_1-mlogloss:0.36289\n",
      "[77]\tvalidation_0-mlogloss:0.29545\tvalidation_1-mlogloss:0.36065\n",
      "[78]\tvalidation_0-mlogloss:0.29299\tvalidation_1-mlogloss:0.35842\n",
      "[79]\tvalidation_0-mlogloss:0.28995\tvalidation_1-mlogloss:0.35575\n",
      "[80]\tvalidation_0-mlogloss:0.28723\tvalidation_1-mlogloss:0.35346\n",
      "[81]\tvalidation_0-mlogloss:0.28425\tvalidation_1-mlogloss:0.35029\n",
      "[82]\tvalidation_0-mlogloss:0.28212\tvalidation_1-mlogloss:0.34830\n",
      "[83]\tvalidation_0-mlogloss:0.27924\tvalidation_1-mlogloss:0.34543\n",
      "[84]\tvalidation_0-mlogloss:0.27625\tvalidation_1-mlogloss:0.34289\n",
      "[85]\tvalidation_0-mlogloss:0.27420\tvalidation_1-mlogloss:0.34079\n",
      "[86]\tvalidation_0-mlogloss:0.27127\tvalidation_1-mlogloss:0.33796\n",
      "[87]\tvalidation_0-mlogloss:0.26928\tvalidation_1-mlogloss:0.33595\n",
      "[88]\tvalidation_0-mlogloss:0.26718\tvalidation_1-mlogloss:0.33386\n",
      "[89]\tvalidation_0-mlogloss:0.26491\tvalidation_1-mlogloss:0.33187\n",
      "[90]\tvalidation_0-mlogloss:0.26283\tvalidation_1-mlogloss:0.32990\n",
      "[91]\tvalidation_0-mlogloss:0.26030\tvalidation_1-mlogloss:0.32770\n",
      "[92]\tvalidation_0-mlogloss:0.25822\tvalidation_1-mlogloss:0.32592\n",
      "[93]\tvalidation_0-mlogloss:0.25629\tvalidation_1-mlogloss:0.32434\n",
      "[94]\tvalidation_0-mlogloss:0.25408\tvalidation_1-mlogloss:0.32243\n",
      "[95]\tvalidation_0-mlogloss:0.25189\tvalidation_1-mlogloss:0.32023\n",
      "[96]\tvalidation_0-mlogloss:0.24991\tvalidation_1-mlogloss:0.31832\n",
      "[97]\tvalidation_0-mlogloss:0.24778\tvalidation_1-mlogloss:0.31642\n",
      "[98]\tvalidation_0-mlogloss:0.24615\tvalidation_1-mlogloss:0.31484\n",
      "[99]\tvalidation_0-mlogloss:0.24456\tvalidation_1-mlogloss:0.31350\n",
      "[100]\tvalidation_0-mlogloss:0.24268\tvalidation_1-mlogloss:0.31182\n",
      "[101]\tvalidation_0-mlogloss:0.24060\tvalidation_1-mlogloss:0.31009\n",
      "[102]\tvalidation_0-mlogloss:0.23881\tvalidation_1-mlogloss:0.30862\n",
      "[103]\tvalidation_0-mlogloss:0.23701\tvalidation_1-mlogloss:0.30681\n",
      "[104]\tvalidation_0-mlogloss:0.23504\tvalidation_1-mlogloss:0.30493\n",
      "[105]\tvalidation_0-mlogloss:0.23273\tvalidation_1-mlogloss:0.30258\n",
      "[106]\tvalidation_0-mlogloss:0.23113\tvalidation_1-mlogloss:0.30109\n",
      "[107]\tvalidation_0-mlogloss:0.22923\tvalidation_1-mlogloss:0.29940\n",
      "[108]\tvalidation_0-mlogloss:0.22728\tvalidation_1-mlogloss:0.29732\n",
      "[109]\tvalidation_0-mlogloss:0.22530\tvalidation_1-mlogloss:0.29553\n",
      "[110]\tvalidation_0-mlogloss:0.22383\tvalidation_1-mlogloss:0.29431\n",
      "[111]\tvalidation_0-mlogloss:0.22203\tvalidation_1-mlogloss:0.29260\n",
      "[112]\tvalidation_0-mlogloss:0.22041\tvalidation_1-mlogloss:0.29128\n",
      "[113]\tvalidation_0-mlogloss:0.21860\tvalidation_1-mlogloss:0.28925\n",
      "[114]\tvalidation_0-mlogloss:0.21699\tvalidation_1-mlogloss:0.28791\n",
      "[115]\tvalidation_0-mlogloss:0.21454\tvalidation_1-mlogloss:0.28561\n",
      "[116]\tvalidation_0-mlogloss:0.21305\tvalidation_1-mlogloss:0.28434\n",
      "[117]\tvalidation_0-mlogloss:0.21114\tvalidation_1-mlogloss:0.28290\n",
      "[118]\tvalidation_0-mlogloss:0.20967\tvalidation_1-mlogloss:0.28160\n",
      "[119]\tvalidation_0-mlogloss:0.20834\tvalidation_1-mlogloss:0.28071\n",
      "[120]\tvalidation_0-mlogloss:0.20714\tvalidation_1-mlogloss:0.27960\n",
      "[121]\tvalidation_0-mlogloss:0.20557\tvalidation_1-mlogloss:0.27793\n",
      "[122]\tvalidation_0-mlogloss:0.20441\tvalidation_1-mlogloss:0.27654\n",
      "[123]\tvalidation_0-mlogloss:0.20330\tvalidation_1-mlogloss:0.27555\n",
      "[124]\tvalidation_0-mlogloss:0.20175\tvalidation_1-mlogloss:0.27396\n",
      "[125]\tvalidation_0-mlogloss:0.19974\tvalidation_1-mlogloss:0.27202\n",
      "[126]\tvalidation_0-mlogloss:0.19797\tvalidation_1-mlogloss:0.27052\n",
      "[127]\tvalidation_0-mlogloss:0.19681\tvalidation_1-mlogloss:0.26975\n",
      "[128]\tvalidation_0-mlogloss:0.19521\tvalidation_1-mlogloss:0.26849\n",
      "[129]\tvalidation_0-mlogloss:0.19340\tvalidation_1-mlogloss:0.26684\n",
      "[130]\tvalidation_0-mlogloss:0.19186\tvalidation_1-mlogloss:0.26549\n",
      "[131]\tvalidation_0-mlogloss:0.19030\tvalidation_1-mlogloss:0.26395\n",
      "[132]\tvalidation_0-mlogloss:0.18893\tvalidation_1-mlogloss:0.26264\n",
      "[133]\tvalidation_0-mlogloss:0.18749\tvalidation_1-mlogloss:0.26133\n",
      "[134]\tvalidation_0-mlogloss:0.18588\tvalidation_1-mlogloss:0.25960\n",
      "[135]\tvalidation_0-mlogloss:0.18443\tvalidation_1-mlogloss:0.25822\n",
      "[136]\tvalidation_0-mlogloss:0.18280\tvalidation_1-mlogloss:0.25643\n",
      "[137]\tvalidation_0-mlogloss:0.18162\tvalidation_1-mlogloss:0.25519\n",
      "[138]\tvalidation_0-mlogloss:0.18059\tvalidation_1-mlogloss:0.25467\n",
      "[139]\tvalidation_0-mlogloss:0.17936\tvalidation_1-mlogloss:0.25349\n",
      "[140]\tvalidation_0-mlogloss:0.17800\tvalidation_1-mlogloss:0.25221\n",
      "[141]\tvalidation_0-mlogloss:0.17655\tvalidation_1-mlogloss:0.25123\n",
      "[142]\tvalidation_0-mlogloss:0.17515\tvalidation_1-mlogloss:0.25002\n",
      "[143]\tvalidation_0-mlogloss:0.17345\tvalidation_1-mlogloss:0.24807\n",
      "[144]\tvalidation_0-mlogloss:0.17194\tvalidation_1-mlogloss:0.24661\n",
      "[145]\tvalidation_0-mlogloss:0.17064\tvalidation_1-mlogloss:0.24528\n",
      "[146]\tvalidation_0-mlogloss:0.16953\tvalidation_1-mlogloss:0.24424\n",
      "[147]\tvalidation_0-mlogloss:0.16855\tvalidation_1-mlogloss:0.24328\n",
      "[148]\tvalidation_0-mlogloss:0.16717\tvalidation_1-mlogloss:0.24206\n",
      "[149]\tvalidation_0-mlogloss:0.16598\tvalidation_1-mlogloss:0.24138\n",
      "[150]\tvalidation_0-mlogloss:0.16482\tvalidation_1-mlogloss:0.24042\n",
      "[151]\tvalidation_0-mlogloss:0.16368\tvalidation_1-mlogloss:0.23921\n",
      "[152]\tvalidation_0-mlogloss:0.16241\tvalidation_1-mlogloss:0.23799\n",
      "[153]\tvalidation_0-mlogloss:0.16090\tvalidation_1-mlogloss:0.23642\n",
      "[154]\tvalidation_0-mlogloss:0.15965\tvalidation_1-mlogloss:0.23523\n",
      "[155]\tvalidation_0-mlogloss:0.15838\tvalidation_1-mlogloss:0.23413\n",
      "[156]\tvalidation_0-mlogloss:0.15727\tvalidation_1-mlogloss:0.23287\n",
      "[157]\tvalidation_0-mlogloss:0.15609\tvalidation_1-mlogloss:0.23185\n",
      "[158]\tvalidation_0-mlogloss:0.15523\tvalidation_1-mlogloss:0.23098\n",
      "[159]\tvalidation_0-mlogloss:0.15409\tvalidation_1-mlogloss:0.22970\n",
      "[160]\tvalidation_0-mlogloss:0.15323\tvalidation_1-mlogloss:0.22858\n",
      "[161]\tvalidation_0-mlogloss:0.15204\tvalidation_1-mlogloss:0.22737\n",
      "[162]\tvalidation_0-mlogloss:0.15106\tvalidation_1-mlogloss:0.22622\n",
      "[163]\tvalidation_0-mlogloss:0.15002\tvalidation_1-mlogloss:0.22537\n",
      "[164]\tvalidation_0-mlogloss:0.14917\tvalidation_1-mlogloss:0.22451\n",
      "[165]\tvalidation_0-mlogloss:0.14826\tvalidation_1-mlogloss:0.22360\n",
      "[166]\tvalidation_0-mlogloss:0.14697\tvalidation_1-mlogloss:0.22262\n",
      "[167]\tvalidation_0-mlogloss:0.14592\tvalidation_1-mlogloss:0.22169\n",
      "[168]\tvalidation_0-mlogloss:0.14497\tvalidation_1-mlogloss:0.22068\n",
      "[169]\tvalidation_0-mlogloss:0.14397\tvalidation_1-mlogloss:0.21969\n",
      "[170]\tvalidation_0-mlogloss:0.14251\tvalidation_1-mlogloss:0.21817\n",
      "[171]\tvalidation_0-mlogloss:0.14161\tvalidation_1-mlogloss:0.21742\n",
      "[172]\tvalidation_0-mlogloss:0.14062\tvalidation_1-mlogloss:0.21648\n",
      "[173]\tvalidation_0-mlogloss:0.13960\tvalidation_1-mlogloss:0.21583\n",
      "[174]\tvalidation_0-mlogloss:0.13828\tvalidation_1-mlogloss:0.21441\n",
      "[175]\tvalidation_0-mlogloss:0.13714\tvalidation_1-mlogloss:0.21330\n",
      "[176]\tvalidation_0-mlogloss:0.13618\tvalidation_1-mlogloss:0.21191\n",
      "[177]\tvalidation_0-mlogloss:0.13521\tvalidation_1-mlogloss:0.21088\n",
      "[178]\tvalidation_0-mlogloss:0.13427\tvalidation_1-mlogloss:0.20973\n",
      "[179]\tvalidation_0-mlogloss:0.13329\tvalidation_1-mlogloss:0.20862\n",
      "[180]\tvalidation_0-mlogloss:0.13226\tvalidation_1-mlogloss:0.20755\n",
      "[181]\tvalidation_0-mlogloss:0.13146\tvalidation_1-mlogloss:0.20693\n",
      "[182]\tvalidation_0-mlogloss:0.13050\tvalidation_1-mlogloss:0.20592\n",
      "[183]\tvalidation_0-mlogloss:0.12955\tvalidation_1-mlogloss:0.20504\n",
      "[184]\tvalidation_0-mlogloss:0.12867\tvalidation_1-mlogloss:0.20418\n",
      "[185]\tvalidation_0-mlogloss:0.12787\tvalidation_1-mlogloss:0.20326\n",
      "[186]\tvalidation_0-mlogloss:0.12712\tvalidation_1-mlogloss:0.20263\n",
      "[187]\tvalidation_0-mlogloss:0.12634\tvalidation_1-mlogloss:0.20182\n",
      "[188]\tvalidation_0-mlogloss:0.12551\tvalidation_1-mlogloss:0.20096\n",
      "[189]\tvalidation_0-mlogloss:0.12444\tvalidation_1-mlogloss:0.19999\n",
      "[190]\tvalidation_0-mlogloss:0.12377\tvalidation_1-mlogloss:0.19943\n",
      "[191]\tvalidation_0-mlogloss:0.12285\tvalidation_1-mlogloss:0.19837\n",
      "[192]\tvalidation_0-mlogloss:0.12198\tvalidation_1-mlogloss:0.19710\n",
      "[193]\tvalidation_0-mlogloss:0.12120\tvalidation_1-mlogloss:0.19655\n",
      "[194]\tvalidation_0-mlogloss:0.12012\tvalidation_1-mlogloss:0.19519\n",
      "[195]\tvalidation_0-mlogloss:0.11909\tvalidation_1-mlogloss:0.19429\n",
      "[196]\tvalidation_0-mlogloss:0.11825\tvalidation_1-mlogloss:0.19348\n",
      "[197]\tvalidation_0-mlogloss:0.11744\tvalidation_1-mlogloss:0.19259\n",
      "[198]\tvalidation_0-mlogloss:0.11671\tvalidation_1-mlogloss:0.19162\n",
      "[199]\tvalidation_0-mlogloss:0.11560\tvalidation_1-mlogloss:0.19018\n",
      "[200]\tvalidation_0-mlogloss:0.11465\tvalidation_1-mlogloss:0.18899\n",
      "[201]\tvalidation_0-mlogloss:0.11399\tvalidation_1-mlogloss:0.18850\n",
      "[202]\tvalidation_0-mlogloss:0.11330\tvalidation_1-mlogloss:0.18751\n",
      "[203]\tvalidation_0-mlogloss:0.11255\tvalidation_1-mlogloss:0.18693\n",
      "[204]\tvalidation_0-mlogloss:0.11159\tvalidation_1-mlogloss:0.18592\n",
      "[205]\tvalidation_0-mlogloss:0.11095\tvalidation_1-mlogloss:0.18530\n",
      "[206]\tvalidation_0-mlogloss:0.11016\tvalidation_1-mlogloss:0.18432\n",
      "[207]\tvalidation_0-mlogloss:0.10944\tvalidation_1-mlogloss:0.18358\n",
      "[208]\tvalidation_0-mlogloss:0.10853\tvalidation_1-mlogloss:0.18246\n",
      "[209]\tvalidation_0-mlogloss:0.10787\tvalidation_1-mlogloss:0.18184\n",
      "[210]\tvalidation_0-mlogloss:0.10717\tvalidation_1-mlogloss:0.18104\n",
      "[211]\tvalidation_0-mlogloss:0.10647\tvalidation_1-mlogloss:0.18030\n",
      "[212]\tvalidation_0-mlogloss:0.10593\tvalidation_1-mlogloss:0.17972\n",
      "[213]\tvalidation_0-mlogloss:0.10535\tvalidation_1-mlogloss:0.17907\n",
      "[214]\tvalidation_0-mlogloss:0.10481\tvalidation_1-mlogloss:0.17851\n",
      "[215]\tvalidation_0-mlogloss:0.10406\tvalidation_1-mlogloss:0.17761\n",
      "[216]\tvalidation_0-mlogloss:0.10335\tvalidation_1-mlogloss:0.17675\n",
      "[217]\tvalidation_0-mlogloss:0.10270\tvalidation_1-mlogloss:0.17604\n",
      "[218]\tvalidation_0-mlogloss:0.10207\tvalidation_1-mlogloss:0.17538\n",
      "[219]\tvalidation_0-mlogloss:0.10138\tvalidation_1-mlogloss:0.17466\n",
      "[220]\tvalidation_0-mlogloss:0.10078\tvalidation_1-mlogloss:0.17409\n",
      "[221]\tvalidation_0-mlogloss:0.09993\tvalidation_1-mlogloss:0.17312\n",
      "[222]\tvalidation_0-mlogloss:0.09946\tvalidation_1-mlogloss:0.17255\n",
      "[223]\tvalidation_0-mlogloss:0.09867\tvalidation_1-mlogloss:0.17179\n",
      "[224]\tvalidation_0-mlogloss:0.09806\tvalidation_1-mlogloss:0.17112\n",
      "[225]\tvalidation_0-mlogloss:0.09740\tvalidation_1-mlogloss:0.17042\n",
      "[226]\tvalidation_0-mlogloss:0.09662\tvalidation_1-mlogloss:0.16946\n",
      "[227]\tvalidation_0-mlogloss:0.09561\tvalidation_1-mlogloss:0.16836\n",
      "[228]\tvalidation_0-mlogloss:0.09499\tvalidation_1-mlogloss:0.16770\n",
      "[229]\tvalidation_0-mlogloss:0.09426\tvalidation_1-mlogloss:0.16698\n",
      "[230]\tvalidation_0-mlogloss:0.09366\tvalidation_1-mlogloss:0.16629\n",
      "[231]\tvalidation_0-mlogloss:0.09294\tvalidation_1-mlogloss:0.16552\n",
      "[232]\tvalidation_0-mlogloss:0.09237\tvalidation_1-mlogloss:0.16481\n",
      "[233]\tvalidation_0-mlogloss:0.09173\tvalidation_1-mlogloss:0.16407\n",
      "[234]\tvalidation_0-mlogloss:0.09134\tvalidation_1-mlogloss:0.16360\n",
      "[235]\tvalidation_0-mlogloss:0.09093\tvalidation_1-mlogloss:0.16317\n",
      "[236]\tvalidation_0-mlogloss:0.09030\tvalidation_1-mlogloss:0.16251\n",
      "[237]\tvalidation_0-mlogloss:0.08980\tvalidation_1-mlogloss:0.16201\n",
      "[238]\tvalidation_0-mlogloss:0.08934\tvalidation_1-mlogloss:0.16156\n",
      "[239]\tvalidation_0-mlogloss:0.08854\tvalidation_1-mlogloss:0.16068\n",
      "[240]\tvalidation_0-mlogloss:0.08774\tvalidation_1-mlogloss:0.15983\n",
      "[241]\tvalidation_0-mlogloss:0.08697\tvalidation_1-mlogloss:0.15910\n",
      "[242]\tvalidation_0-mlogloss:0.08623\tvalidation_1-mlogloss:0.15832\n",
      "[243]\tvalidation_0-mlogloss:0.08553\tvalidation_1-mlogloss:0.15763\n",
      "[244]\tvalidation_0-mlogloss:0.08503\tvalidation_1-mlogloss:0.15718\n",
      "[245]\tvalidation_0-mlogloss:0.08447\tvalidation_1-mlogloss:0.15656\n",
      "[246]\tvalidation_0-mlogloss:0.08397\tvalidation_1-mlogloss:0.15597\n",
      "[247]\tvalidation_0-mlogloss:0.08328\tvalidation_1-mlogloss:0.15510\n",
      "[248]\tvalidation_0-mlogloss:0.08277\tvalidation_1-mlogloss:0.15470\n",
      "[249]\tvalidation_0-mlogloss:0.08212\tvalidation_1-mlogloss:0.15393\n",
      "[250]\tvalidation_0-mlogloss:0.08163\tvalidation_1-mlogloss:0.15340\n",
      "[251]\tvalidation_0-mlogloss:0.08111\tvalidation_1-mlogloss:0.15287\n",
      "[252]\tvalidation_0-mlogloss:0.08067\tvalidation_1-mlogloss:0.15258\n",
      "[253]\tvalidation_0-mlogloss:0.08010\tvalidation_1-mlogloss:0.15182\n",
      "[254]\tvalidation_0-mlogloss:0.07955\tvalidation_1-mlogloss:0.15119\n",
      "[255]\tvalidation_0-mlogloss:0.07894\tvalidation_1-mlogloss:0.15050\n",
      "[256]\tvalidation_0-mlogloss:0.07827\tvalidation_1-mlogloss:0.14970\n",
      "[257]\tvalidation_0-mlogloss:0.07777\tvalidation_1-mlogloss:0.14908\n",
      "[258]\tvalidation_0-mlogloss:0.07734\tvalidation_1-mlogloss:0.14870\n",
      "[259]\tvalidation_0-mlogloss:0.07689\tvalidation_1-mlogloss:0.14813\n",
      "[260]\tvalidation_0-mlogloss:0.07630\tvalidation_1-mlogloss:0.14752\n",
      "[261]\tvalidation_0-mlogloss:0.07588\tvalidation_1-mlogloss:0.14717\n",
      "[262]\tvalidation_0-mlogloss:0.07532\tvalidation_1-mlogloss:0.14650\n",
      "[263]\tvalidation_0-mlogloss:0.07487\tvalidation_1-mlogloss:0.14601\n",
      "[264]\tvalidation_0-mlogloss:0.07452\tvalidation_1-mlogloss:0.14574\n",
      "[265]\tvalidation_0-mlogloss:0.07404\tvalidation_1-mlogloss:0.14518\n",
      "[266]\tvalidation_0-mlogloss:0.07354\tvalidation_1-mlogloss:0.14462\n",
      "[267]\tvalidation_0-mlogloss:0.07311\tvalidation_1-mlogloss:0.14424\n",
      "[268]\tvalidation_0-mlogloss:0.07268\tvalidation_1-mlogloss:0.14367\n",
      "[269]\tvalidation_0-mlogloss:0.07224\tvalidation_1-mlogloss:0.14319\n",
      "[270]\tvalidation_0-mlogloss:0.07185\tvalidation_1-mlogloss:0.14266\n",
      "[271]\tvalidation_0-mlogloss:0.07138\tvalidation_1-mlogloss:0.14212\n",
      "[272]\tvalidation_0-mlogloss:0.07107\tvalidation_1-mlogloss:0.14183\n",
      "[273]\tvalidation_0-mlogloss:0.07071\tvalidation_1-mlogloss:0.14158\n",
      "[274]\tvalidation_0-mlogloss:0.07025\tvalidation_1-mlogloss:0.14109\n",
      "[275]\tvalidation_0-mlogloss:0.06978\tvalidation_1-mlogloss:0.14061\n",
      "[276]\tvalidation_0-mlogloss:0.06929\tvalidation_1-mlogloss:0.14002\n",
      "[277]\tvalidation_0-mlogloss:0.06893\tvalidation_1-mlogloss:0.13951\n",
      "[278]\tvalidation_0-mlogloss:0.06849\tvalidation_1-mlogloss:0.13891\n",
      "[279]\tvalidation_0-mlogloss:0.06814\tvalidation_1-mlogloss:0.13862\n",
      "[280]\tvalidation_0-mlogloss:0.06764\tvalidation_1-mlogloss:0.13792\n",
      "[281]\tvalidation_0-mlogloss:0.06718\tvalidation_1-mlogloss:0.13726\n",
      "[282]\tvalidation_0-mlogloss:0.06682\tvalidation_1-mlogloss:0.13691\n",
      "[283]\tvalidation_0-mlogloss:0.06647\tvalidation_1-mlogloss:0.13644\n",
      "[284]\tvalidation_0-mlogloss:0.06602\tvalidation_1-mlogloss:0.13600\n",
      "[285]\tvalidation_0-mlogloss:0.06564\tvalidation_1-mlogloss:0.13545\n",
      "[286]\tvalidation_0-mlogloss:0.06522\tvalidation_1-mlogloss:0.13498\n",
      "[287]\tvalidation_0-mlogloss:0.06487\tvalidation_1-mlogloss:0.13460\n",
      "[288]\tvalidation_0-mlogloss:0.06452\tvalidation_1-mlogloss:0.13418\n",
      "[289]\tvalidation_0-mlogloss:0.06410\tvalidation_1-mlogloss:0.13375\n",
      "[290]\tvalidation_0-mlogloss:0.06374\tvalidation_1-mlogloss:0.13327\n",
      "[291]\tvalidation_0-mlogloss:0.06350\tvalidation_1-mlogloss:0.13296\n",
      "[292]\tvalidation_0-mlogloss:0.06321\tvalidation_1-mlogloss:0.13259\n",
      "[293]\tvalidation_0-mlogloss:0.06277\tvalidation_1-mlogloss:0.13206\n",
      "[294]\tvalidation_0-mlogloss:0.06241\tvalidation_1-mlogloss:0.13153\n",
      "[295]\tvalidation_0-mlogloss:0.06207\tvalidation_1-mlogloss:0.13103\n",
      "[296]\tvalidation_0-mlogloss:0.06173\tvalidation_1-mlogloss:0.13056\n",
      "[297]\tvalidation_0-mlogloss:0.06147\tvalidation_1-mlogloss:0.13027\n",
      "[298]\tvalidation_0-mlogloss:0.06115\tvalidation_1-mlogloss:0.12997\n",
      "[299]\tvalidation_0-mlogloss:0.06079\tvalidation_1-mlogloss:0.12934\n",
      "[300]\tvalidation_0-mlogloss:0.06050\tvalidation_1-mlogloss:0.12895\n",
      "[301]\tvalidation_0-mlogloss:0.06015\tvalidation_1-mlogloss:0.12862\n",
      "[302]\tvalidation_0-mlogloss:0.05972\tvalidation_1-mlogloss:0.12802\n",
      "[303]\tvalidation_0-mlogloss:0.05935\tvalidation_1-mlogloss:0.12755\n",
      "[304]\tvalidation_0-mlogloss:0.05896\tvalidation_1-mlogloss:0.12702\n",
      "[305]\tvalidation_0-mlogloss:0.05862\tvalidation_1-mlogloss:0.12664\n",
      "[306]\tvalidation_0-mlogloss:0.05823\tvalidation_1-mlogloss:0.12616\n",
      "[307]\tvalidation_0-mlogloss:0.05784\tvalidation_1-mlogloss:0.12581\n",
      "[308]\tvalidation_0-mlogloss:0.05756\tvalidation_1-mlogloss:0.12551\n",
      "[309]\tvalidation_0-mlogloss:0.05713\tvalidation_1-mlogloss:0.12511\n",
      "[310]\tvalidation_0-mlogloss:0.05681\tvalidation_1-mlogloss:0.12492\n",
      "[311]\tvalidation_0-mlogloss:0.05650\tvalidation_1-mlogloss:0.12447\n",
      "[312]\tvalidation_0-mlogloss:0.05606\tvalidation_1-mlogloss:0.12404\n",
      "[313]\tvalidation_0-mlogloss:0.05567\tvalidation_1-mlogloss:0.12366\n",
      "[314]\tvalidation_0-mlogloss:0.05540\tvalidation_1-mlogloss:0.12320\n",
      "[315]\tvalidation_0-mlogloss:0.05509\tvalidation_1-mlogloss:0.12287\n",
      "[316]\tvalidation_0-mlogloss:0.05472\tvalidation_1-mlogloss:0.12228\n",
      "[317]\tvalidation_0-mlogloss:0.05436\tvalidation_1-mlogloss:0.12186\n",
      "[318]\tvalidation_0-mlogloss:0.05404\tvalidation_1-mlogloss:0.12161\n",
      "[319]\tvalidation_0-mlogloss:0.05363\tvalidation_1-mlogloss:0.12107\n",
      "[320]\tvalidation_0-mlogloss:0.05332\tvalidation_1-mlogloss:0.12070\n",
      "[321]\tvalidation_0-mlogloss:0.05300\tvalidation_1-mlogloss:0.12047\n",
      "[322]\tvalidation_0-mlogloss:0.05271\tvalidation_1-mlogloss:0.12022\n",
      "[323]\tvalidation_0-mlogloss:0.05233\tvalidation_1-mlogloss:0.11964\n",
      "[324]\tvalidation_0-mlogloss:0.05208\tvalidation_1-mlogloss:0.11940\n",
      "[325]\tvalidation_0-mlogloss:0.05182\tvalidation_1-mlogloss:0.11908\n",
      "[326]\tvalidation_0-mlogloss:0.05155\tvalidation_1-mlogloss:0.11856\n",
      "[327]\tvalidation_0-mlogloss:0.05120\tvalidation_1-mlogloss:0.11813\n",
      "[328]\tvalidation_0-mlogloss:0.05090\tvalidation_1-mlogloss:0.11789\n",
      "[329]\tvalidation_0-mlogloss:0.05057\tvalidation_1-mlogloss:0.11741\n",
      "[330]\tvalidation_0-mlogloss:0.05016\tvalidation_1-mlogloss:0.11675\n",
      "[331]\tvalidation_0-mlogloss:0.04983\tvalidation_1-mlogloss:0.11640\n",
      "[332]\tvalidation_0-mlogloss:0.04955\tvalidation_1-mlogloss:0.11610\n",
      "[333]\tvalidation_0-mlogloss:0.04930\tvalidation_1-mlogloss:0.11574\n",
      "[334]\tvalidation_0-mlogloss:0.04905\tvalidation_1-mlogloss:0.11554\n",
      "[335]\tvalidation_0-mlogloss:0.04882\tvalidation_1-mlogloss:0.11529\n",
      "[336]\tvalidation_0-mlogloss:0.04854\tvalidation_1-mlogloss:0.11486\n",
      "[337]\tvalidation_0-mlogloss:0.04827\tvalidation_1-mlogloss:0.11451\n",
      "[338]\tvalidation_0-mlogloss:0.04797\tvalidation_1-mlogloss:0.11427\n",
      "[339]\tvalidation_0-mlogloss:0.04766\tvalidation_1-mlogloss:0.11383\n",
      "[340]\tvalidation_0-mlogloss:0.04737\tvalidation_1-mlogloss:0.11352\n",
      "[341]\tvalidation_0-mlogloss:0.04702\tvalidation_1-mlogloss:0.11322\n",
      "[342]\tvalidation_0-mlogloss:0.04673\tvalidation_1-mlogloss:0.11295\n",
      "[343]\tvalidation_0-mlogloss:0.04652\tvalidation_1-mlogloss:0.11267\n",
      "[344]\tvalidation_0-mlogloss:0.04621\tvalidation_1-mlogloss:0.11234\n",
      "[345]\tvalidation_0-mlogloss:0.04602\tvalidation_1-mlogloss:0.11213\n",
      "[346]\tvalidation_0-mlogloss:0.04578\tvalidation_1-mlogloss:0.11177\n",
      "[347]\tvalidation_0-mlogloss:0.04555\tvalidation_1-mlogloss:0.11149\n",
      "[348]\tvalidation_0-mlogloss:0.04531\tvalidation_1-mlogloss:0.11127\n",
      "[349]\tvalidation_0-mlogloss:0.04506\tvalidation_1-mlogloss:0.11096\n",
      "[350]\tvalidation_0-mlogloss:0.04485\tvalidation_1-mlogloss:0.11079\n",
      "[351]\tvalidation_0-mlogloss:0.04452\tvalidation_1-mlogloss:0.11039\n",
      "[352]\tvalidation_0-mlogloss:0.04424\tvalidation_1-mlogloss:0.11009\n",
      "[353]\tvalidation_0-mlogloss:0.04400\tvalidation_1-mlogloss:0.10981\n",
      "[354]\tvalidation_0-mlogloss:0.04375\tvalidation_1-mlogloss:0.10957\n",
      "[355]\tvalidation_0-mlogloss:0.04356\tvalidation_1-mlogloss:0.10937\n",
      "[356]\tvalidation_0-mlogloss:0.04338\tvalidation_1-mlogloss:0.10916\n",
      "[357]\tvalidation_0-mlogloss:0.04316\tvalidation_1-mlogloss:0.10873\n",
      "[358]\tvalidation_0-mlogloss:0.04291\tvalidation_1-mlogloss:0.10845\n",
      "[359]\tvalidation_0-mlogloss:0.04269\tvalidation_1-mlogloss:0.10828\n",
      "[360]\tvalidation_0-mlogloss:0.04244\tvalidation_1-mlogloss:0.10796\n",
      "[361]\tvalidation_0-mlogloss:0.04224\tvalidation_1-mlogloss:0.10767\n",
      "[362]\tvalidation_0-mlogloss:0.04205\tvalidation_1-mlogloss:0.10733\n",
      "[363]\tvalidation_0-mlogloss:0.04184\tvalidation_1-mlogloss:0.10705\n",
      "[364]\tvalidation_0-mlogloss:0.04165\tvalidation_1-mlogloss:0.10682\n",
      "[365]\tvalidation_0-mlogloss:0.04135\tvalidation_1-mlogloss:0.10659\n",
      "[366]\tvalidation_0-mlogloss:0.04118\tvalidation_1-mlogloss:0.10638\n",
      "[367]\tvalidation_0-mlogloss:0.04095\tvalidation_1-mlogloss:0.10615\n",
      "[368]\tvalidation_0-mlogloss:0.04072\tvalidation_1-mlogloss:0.10591\n",
      "[369]\tvalidation_0-mlogloss:0.04045\tvalidation_1-mlogloss:0.10546\n",
      "[370]\tvalidation_0-mlogloss:0.04027\tvalidation_1-mlogloss:0.10522\n",
      "[371]\tvalidation_0-mlogloss:0.03998\tvalidation_1-mlogloss:0.10494\n",
      "[372]\tvalidation_0-mlogloss:0.03982\tvalidation_1-mlogloss:0.10487\n",
      "[373]\tvalidation_0-mlogloss:0.03959\tvalidation_1-mlogloss:0.10461\n",
      "[374]\tvalidation_0-mlogloss:0.03940\tvalidation_1-mlogloss:0.10452\n",
      "[375]\tvalidation_0-mlogloss:0.03928\tvalidation_1-mlogloss:0.10437\n",
      "[376]\tvalidation_0-mlogloss:0.03908\tvalidation_1-mlogloss:0.10403\n",
      "[377]\tvalidation_0-mlogloss:0.03891\tvalidation_1-mlogloss:0.10381\n",
      "[378]\tvalidation_0-mlogloss:0.03877\tvalidation_1-mlogloss:0.10369\n",
      "[379]\tvalidation_0-mlogloss:0.03862\tvalidation_1-mlogloss:0.10344\n",
      "[380]\tvalidation_0-mlogloss:0.03845\tvalidation_1-mlogloss:0.10315\n",
      "[381]\tvalidation_0-mlogloss:0.03828\tvalidation_1-mlogloss:0.10284\n",
      "[382]\tvalidation_0-mlogloss:0.03809\tvalidation_1-mlogloss:0.10270\n",
      "[383]\tvalidation_0-mlogloss:0.03794\tvalidation_1-mlogloss:0.10255\n",
      "[384]\tvalidation_0-mlogloss:0.03768\tvalidation_1-mlogloss:0.10213\n",
      "[385]\tvalidation_0-mlogloss:0.03747\tvalidation_1-mlogloss:0.10191\n",
      "[386]\tvalidation_0-mlogloss:0.03726\tvalidation_1-mlogloss:0.10165\n",
      "[387]\tvalidation_0-mlogloss:0.03707\tvalidation_1-mlogloss:0.10140\n",
      "[388]\tvalidation_0-mlogloss:0.03694\tvalidation_1-mlogloss:0.10136\n",
      "[389]\tvalidation_0-mlogloss:0.03679\tvalidation_1-mlogloss:0.10123\n",
      "[390]\tvalidation_0-mlogloss:0.03670\tvalidation_1-mlogloss:0.10117\n",
      "[391]\tvalidation_0-mlogloss:0.03653\tvalidation_1-mlogloss:0.10105\n",
      "[392]\tvalidation_0-mlogloss:0.03635\tvalidation_1-mlogloss:0.10075\n",
      "[393]\tvalidation_0-mlogloss:0.03616\tvalidation_1-mlogloss:0.10035\n",
      "[394]\tvalidation_0-mlogloss:0.03595\tvalidation_1-mlogloss:0.10012\n",
      "[395]\tvalidation_0-mlogloss:0.03579\tvalidation_1-mlogloss:0.09993\n",
      "[396]\tvalidation_0-mlogloss:0.03561\tvalidation_1-mlogloss:0.09972\n",
      "[397]\tvalidation_0-mlogloss:0.03546\tvalidation_1-mlogloss:0.09953\n",
      "[398]\tvalidation_0-mlogloss:0.03529\tvalidation_1-mlogloss:0.09918\n",
      "[399]\tvalidation_0-mlogloss:0.03508\tvalidation_1-mlogloss:0.09889\n",
      "[400]\tvalidation_0-mlogloss:0.03487\tvalidation_1-mlogloss:0.09862\n",
      "[401]\tvalidation_0-mlogloss:0.03474\tvalidation_1-mlogloss:0.09847\n",
      "[402]\tvalidation_0-mlogloss:0.03458\tvalidation_1-mlogloss:0.09820\n",
      "[403]\tvalidation_0-mlogloss:0.03441\tvalidation_1-mlogloss:0.09815\n",
      "[404]\tvalidation_0-mlogloss:0.03423\tvalidation_1-mlogloss:0.09798\n",
      "[405]\tvalidation_0-mlogloss:0.03396\tvalidation_1-mlogloss:0.09762\n",
      "[406]\tvalidation_0-mlogloss:0.03378\tvalidation_1-mlogloss:0.09739\n",
      "[407]\tvalidation_0-mlogloss:0.03363\tvalidation_1-mlogloss:0.09716\n",
      "[408]\tvalidation_0-mlogloss:0.03344\tvalidation_1-mlogloss:0.09694\n",
      "[409]\tvalidation_0-mlogloss:0.03329\tvalidation_1-mlogloss:0.09675\n",
      "[410]\tvalidation_0-mlogloss:0.03311\tvalidation_1-mlogloss:0.09659\n",
      "[411]\tvalidation_0-mlogloss:0.03300\tvalidation_1-mlogloss:0.09646\n",
      "[412]\tvalidation_0-mlogloss:0.03288\tvalidation_1-mlogloss:0.09635\n",
      "[413]\tvalidation_0-mlogloss:0.03269\tvalidation_1-mlogloss:0.09610\n",
      "[414]\tvalidation_0-mlogloss:0.03251\tvalidation_1-mlogloss:0.09582\n",
      "[415]\tvalidation_0-mlogloss:0.03235\tvalidation_1-mlogloss:0.09560\n",
      "[416]\tvalidation_0-mlogloss:0.03218\tvalidation_1-mlogloss:0.09530\n",
      "[417]\tvalidation_0-mlogloss:0.03193\tvalidation_1-mlogloss:0.09503\n",
      "[418]\tvalidation_0-mlogloss:0.03181\tvalidation_1-mlogloss:0.09490\n",
      "[419]\tvalidation_0-mlogloss:0.03168\tvalidation_1-mlogloss:0.09469\n",
      "[420]\tvalidation_0-mlogloss:0.03157\tvalidation_1-mlogloss:0.09459\n",
      "[421]\tvalidation_0-mlogloss:0.03146\tvalidation_1-mlogloss:0.09450\n",
      "[422]\tvalidation_0-mlogloss:0.03133\tvalidation_1-mlogloss:0.09439\n",
      "[423]\tvalidation_0-mlogloss:0.03116\tvalidation_1-mlogloss:0.09409\n",
      "[424]\tvalidation_0-mlogloss:0.03102\tvalidation_1-mlogloss:0.09381\n",
      "[425]\tvalidation_0-mlogloss:0.03084\tvalidation_1-mlogloss:0.09350\n",
      "[426]\tvalidation_0-mlogloss:0.03067\tvalidation_1-mlogloss:0.09339\n",
      "[427]\tvalidation_0-mlogloss:0.03048\tvalidation_1-mlogloss:0.09312\n",
      "[428]\tvalidation_0-mlogloss:0.03032\tvalidation_1-mlogloss:0.09283\n",
      "[429]\tvalidation_0-mlogloss:0.03017\tvalidation_1-mlogloss:0.09257\n",
      "[430]\tvalidation_0-mlogloss:0.02998\tvalidation_1-mlogloss:0.09237\n",
      "[431]\tvalidation_0-mlogloss:0.02985\tvalidation_1-mlogloss:0.09211\n",
      "[432]\tvalidation_0-mlogloss:0.02972\tvalidation_1-mlogloss:0.09191\n",
      "[433]\tvalidation_0-mlogloss:0.02959\tvalidation_1-mlogloss:0.09174\n",
      "[434]\tvalidation_0-mlogloss:0.02940\tvalidation_1-mlogloss:0.09152\n",
      "[435]\tvalidation_0-mlogloss:0.02926\tvalidation_1-mlogloss:0.09138\n",
      "[436]\tvalidation_0-mlogloss:0.02912\tvalidation_1-mlogloss:0.09123\n",
      "[437]\tvalidation_0-mlogloss:0.02896\tvalidation_1-mlogloss:0.09103\n",
      "[438]\tvalidation_0-mlogloss:0.02886\tvalidation_1-mlogloss:0.09098\n",
      "[439]\tvalidation_0-mlogloss:0.02872\tvalidation_1-mlogloss:0.09087\n",
      "[440]\tvalidation_0-mlogloss:0.02861\tvalidation_1-mlogloss:0.09067\n",
      "[441]\tvalidation_0-mlogloss:0.02845\tvalidation_1-mlogloss:0.09038\n",
      "[442]\tvalidation_0-mlogloss:0.02837\tvalidation_1-mlogloss:0.09029\n",
      "[443]\tvalidation_0-mlogloss:0.02826\tvalidation_1-mlogloss:0.09018\n",
      "[444]\tvalidation_0-mlogloss:0.02817\tvalidation_1-mlogloss:0.09011\n",
      "[445]\tvalidation_0-mlogloss:0.02804\tvalidation_1-mlogloss:0.08993\n",
      "[446]\tvalidation_0-mlogloss:0.02792\tvalidation_1-mlogloss:0.08981\n",
      "[447]\tvalidation_0-mlogloss:0.02778\tvalidation_1-mlogloss:0.08964\n",
      "[448]\tvalidation_0-mlogloss:0.02766\tvalidation_1-mlogloss:0.08944\n",
      "[449]\tvalidation_0-mlogloss:0.02756\tvalidation_1-mlogloss:0.08932\n",
      "[450]\tvalidation_0-mlogloss:0.02745\tvalidation_1-mlogloss:0.08919\n",
      "[451]\tvalidation_0-mlogloss:0.02728\tvalidation_1-mlogloss:0.08889\n",
      "[452]\tvalidation_0-mlogloss:0.02713\tvalidation_1-mlogloss:0.08882\n",
      "[453]\tvalidation_0-mlogloss:0.02700\tvalidation_1-mlogloss:0.08866\n",
      "[454]\tvalidation_0-mlogloss:0.02689\tvalidation_1-mlogloss:0.08849\n",
      "[455]\tvalidation_0-mlogloss:0.02675\tvalidation_1-mlogloss:0.08824\n",
      "[456]\tvalidation_0-mlogloss:0.02664\tvalidation_1-mlogloss:0.08806\n",
      "[457]\tvalidation_0-mlogloss:0.02653\tvalidation_1-mlogloss:0.08790\n",
      "[458]\tvalidation_0-mlogloss:0.02639\tvalidation_1-mlogloss:0.08768\n",
      "[459]\tvalidation_0-mlogloss:0.02629\tvalidation_1-mlogloss:0.08753\n",
      "[460]\tvalidation_0-mlogloss:0.02619\tvalidation_1-mlogloss:0.08747\n",
      "[461]\tvalidation_0-mlogloss:0.02609\tvalidation_1-mlogloss:0.08743\n",
      "[462]\tvalidation_0-mlogloss:0.02599\tvalidation_1-mlogloss:0.08731\n",
      "[463]\tvalidation_0-mlogloss:0.02587\tvalidation_1-mlogloss:0.08717\n",
      "[464]\tvalidation_0-mlogloss:0.02576\tvalidation_1-mlogloss:0.08703\n",
      "[465]\tvalidation_0-mlogloss:0.02566\tvalidation_1-mlogloss:0.08691\n",
      "[466]\tvalidation_0-mlogloss:0.02557\tvalidation_1-mlogloss:0.08669\n",
      "[467]\tvalidation_0-mlogloss:0.02542\tvalidation_1-mlogloss:0.08657\n",
      "[468]\tvalidation_0-mlogloss:0.02533\tvalidation_1-mlogloss:0.08644\n",
      "[469]\tvalidation_0-mlogloss:0.02523\tvalidation_1-mlogloss:0.08632\n",
      "[470]\tvalidation_0-mlogloss:0.02511\tvalidation_1-mlogloss:0.08621\n",
      "[471]\tvalidation_0-mlogloss:0.02502\tvalidation_1-mlogloss:0.08609\n",
      "[472]\tvalidation_0-mlogloss:0.02486\tvalidation_1-mlogloss:0.08571\n",
      "[473]\tvalidation_0-mlogloss:0.02477\tvalidation_1-mlogloss:0.08570\n",
      "[474]\tvalidation_0-mlogloss:0.02466\tvalidation_1-mlogloss:0.08560\n",
      "[475]\tvalidation_0-mlogloss:0.02455\tvalidation_1-mlogloss:0.08543\n",
      "[476]\tvalidation_0-mlogloss:0.02445\tvalidation_1-mlogloss:0.08536\n",
      "[477]\tvalidation_0-mlogloss:0.02437\tvalidation_1-mlogloss:0.08526\n",
      "[478]\tvalidation_0-mlogloss:0.02428\tvalidation_1-mlogloss:0.08526\n",
      "[479]\tvalidation_0-mlogloss:0.02419\tvalidation_1-mlogloss:0.08520\n",
      "[480]\tvalidation_0-mlogloss:0.02407\tvalidation_1-mlogloss:0.08501\n",
      "[481]\tvalidation_0-mlogloss:0.02397\tvalidation_1-mlogloss:0.08487\n",
      "[482]\tvalidation_0-mlogloss:0.02387\tvalidation_1-mlogloss:0.08470\n",
      "[483]\tvalidation_0-mlogloss:0.02375\tvalidation_1-mlogloss:0.08458\n",
      "[484]\tvalidation_0-mlogloss:0.02367\tvalidation_1-mlogloss:0.08444\n",
      "[485]\tvalidation_0-mlogloss:0.02360\tvalidation_1-mlogloss:0.08438\n",
      "[486]\tvalidation_0-mlogloss:0.02351\tvalidation_1-mlogloss:0.08430\n",
      "[487]\tvalidation_0-mlogloss:0.02342\tvalidation_1-mlogloss:0.08419\n",
      "[488]\tvalidation_0-mlogloss:0.02333\tvalidation_1-mlogloss:0.08412\n",
      "[489]\tvalidation_0-mlogloss:0.02325\tvalidation_1-mlogloss:0.08402\n",
      "[490]\tvalidation_0-mlogloss:0.02315\tvalidation_1-mlogloss:0.08390\n",
      "[491]\tvalidation_0-mlogloss:0.02305\tvalidation_1-mlogloss:0.08373\n",
      "[492]\tvalidation_0-mlogloss:0.02296\tvalidation_1-mlogloss:0.08356\n",
      "[493]\tvalidation_0-mlogloss:0.02285\tvalidation_1-mlogloss:0.08348\n",
      "[494]\tvalidation_0-mlogloss:0.02278\tvalidation_1-mlogloss:0.08336\n",
      "[495]\tvalidation_0-mlogloss:0.02270\tvalidation_1-mlogloss:0.08330\n",
      "[496]\tvalidation_0-mlogloss:0.02263\tvalidation_1-mlogloss:0.08323\n",
      "[497]\tvalidation_0-mlogloss:0.02253\tvalidation_1-mlogloss:0.08307\n",
      "[498]\tvalidation_0-mlogloss:0.02241\tvalidation_1-mlogloss:0.08297\n",
      "[499]\tvalidation_0-mlogloss:0.02232\tvalidation_1-mlogloss:0.08291\n",
      "[500]\tvalidation_0-mlogloss:0.02221\tvalidation_1-mlogloss:0.08281\n",
      "[501]\tvalidation_0-mlogloss:0.02214\tvalidation_1-mlogloss:0.08269\n",
      "[502]\tvalidation_0-mlogloss:0.02205\tvalidation_1-mlogloss:0.08266\n",
      "[503]\tvalidation_0-mlogloss:0.02196\tvalidation_1-mlogloss:0.08263\n",
      "[504]\tvalidation_0-mlogloss:0.02185\tvalidation_1-mlogloss:0.08240\n",
      "[505]\tvalidation_0-mlogloss:0.02177\tvalidation_1-mlogloss:0.08230\n",
      "[506]\tvalidation_0-mlogloss:0.02165\tvalidation_1-mlogloss:0.08213\n",
      "[507]\tvalidation_0-mlogloss:0.02157\tvalidation_1-mlogloss:0.08191\n",
      "[508]\tvalidation_0-mlogloss:0.02147\tvalidation_1-mlogloss:0.08176\n",
      "[509]\tvalidation_0-mlogloss:0.02139\tvalidation_1-mlogloss:0.08159\n",
      "[510]\tvalidation_0-mlogloss:0.02133\tvalidation_1-mlogloss:0.08154\n",
      "[511]\tvalidation_0-mlogloss:0.02125\tvalidation_1-mlogloss:0.08143\n",
      "[512]\tvalidation_0-mlogloss:0.02114\tvalidation_1-mlogloss:0.08125\n",
      "[513]\tvalidation_0-mlogloss:0.02108\tvalidation_1-mlogloss:0.08108\n",
      "[514]\tvalidation_0-mlogloss:0.02096\tvalidation_1-mlogloss:0.08097\n",
      "[515]\tvalidation_0-mlogloss:0.02088\tvalidation_1-mlogloss:0.08084\n",
      "[516]\tvalidation_0-mlogloss:0.02077\tvalidation_1-mlogloss:0.08064\n",
      "[517]\tvalidation_0-mlogloss:0.02069\tvalidation_1-mlogloss:0.08050\n",
      "[518]\tvalidation_0-mlogloss:0.02061\tvalidation_1-mlogloss:0.08045\n",
      "[519]\tvalidation_0-mlogloss:0.02052\tvalidation_1-mlogloss:0.08033\n",
      "[520]\tvalidation_0-mlogloss:0.02046\tvalidation_1-mlogloss:0.08027\n",
      "[521]\tvalidation_0-mlogloss:0.02036\tvalidation_1-mlogloss:0.08013\n",
      "[522]\tvalidation_0-mlogloss:0.02030\tvalidation_1-mlogloss:0.08010\n",
      "[523]\tvalidation_0-mlogloss:0.02024\tvalidation_1-mlogloss:0.08004\n",
      "[524]\tvalidation_0-mlogloss:0.02017\tvalidation_1-mlogloss:0.08002\n",
      "[525]\tvalidation_0-mlogloss:0.02010\tvalidation_1-mlogloss:0.07997\n",
      "[526]\tvalidation_0-mlogloss:0.02005\tvalidation_1-mlogloss:0.07991\n",
      "[527]\tvalidation_0-mlogloss:0.01997\tvalidation_1-mlogloss:0.07978\n",
      "[528]\tvalidation_0-mlogloss:0.01992\tvalidation_1-mlogloss:0.07973\n",
      "[529]\tvalidation_0-mlogloss:0.01985\tvalidation_1-mlogloss:0.07975\n",
      "[530]\tvalidation_0-mlogloss:0.01977\tvalidation_1-mlogloss:0.07967\n",
      "[531]\tvalidation_0-mlogloss:0.01973\tvalidation_1-mlogloss:0.07958\n",
      "[532]\tvalidation_0-mlogloss:0.01966\tvalidation_1-mlogloss:0.07953\n",
      "[533]\tvalidation_0-mlogloss:0.01961\tvalidation_1-mlogloss:0.07944\n",
      "[534]\tvalidation_0-mlogloss:0.01953\tvalidation_1-mlogloss:0.07929\n",
      "[535]\tvalidation_0-mlogloss:0.01948\tvalidation_1-mlogloss:0.07929\n",
      "[536]\tvalidation_0-mlogloss:0.01941\tvalidation_1-mlogloss:0.07927\n",
      "[537]\tvalidation_0-mlogloss:0.01934\tvalidation_1-mlogloss:0.07906\n",
      "[538]\tvalidation_0-mlogloss:0.01929\tvalidation_1-mlogloss:0.07894\n",
      "[539]\tvalidation_0-mlogloss:0.01923\tvalidation_1-mlogloss:0.07896\n",
      "[540]\tvalidation_0-mlogloss:0.01916\tvalidation_1-mlogloss:0.07886\n",
      "[541]\tvalidation_0-mlogloss:0.01908\tvalidation_1-mlogloss:0.07879\n",
      "[542]\tvalidation_0-mlogloss:0.01905\tvalidation_1-mlogloss:0.07871\n",
      "[543]\tvalidation_0-mlogloss:0.01900\tvalidation_1-mlogloss:0.07875\n",
      "[544]\tvalidation_0-mlogloss:0.01892\tvalidation_1-mlogloss:0.07869\n",
      "[545]\tvalidation_0-mlogloss:0.01886\tvalidation_1-mlogloss:0.07864\n",
      "[546]\tvalidation_0-mlogloss:0.01879\tvalidation_1-mlogloss:0.07862\n",
      "[547]\tvalidation_0-mlogloss:0.01872\tvalidation_1-mlogloss:0.07860\n",
      "[548]\tvalidation_0-mlogloss:0.01865\tvalidation_1-mlogloss:0.07846\n",
      "[549]\tvalidation_0-mlogloss:0.01860\tvalidation_1-mlogloss:0.07844\n",
      "[550]\tvalidation_0-mlogloss:0.01857\tvalidation_1-mlogloss:0.07839\n",
      "[551]\tvalidation_0-mlogloss:0.01851\tvalidation_1-mlogloss:0.07827\n",
      "[552]\tvalidation_0-mlogloss:0.01842\tvalidation_1-mlogloss:0.07809\n",
      "[553]\tvalidation_0-mlogloss:0.01834\tvalidation_1-mlogloss:0.07790\n",
      "[554]\tvalidation_0-mlogloss:0.01828\tvalidation_1-mlogloss:0.07793\n",
      "[555]\tvalidation_0-mlogloss:0.01820\tvalidation_1-mlogloss:0.07777\n",
      "[556]\tvalidation_0-mlogloss:0.01813\tvalidation_1-mlogloss:0.07768\n",
      "[557]\tvalidation_0-mlogloss:0.01807\tvalidation_1-mlogloss:0.07759\n",
      "[558]\tvalidation_0-mlogloss:0.01803\tvalidation_1-mlogloss:0.07751\n",
      "[559]\tvalidation_0-mlogloss:0.01796\tvalidation_1-mlogloss:0.07743\n",
      "[560]\tvalidation_0-mlogloss:0.01791\tvalidation_1-mlogloss:0.07741\n",
      "[561]\tvalidation_0-mlogloss:0.01782\tvalidation_1-mlogloss:0.07721\n",
      "[562]\tvalidation_0-mlogloss:0.01776\tvalidation_1-mlogloss:0.07712\n",
      "[563]\tvalidation_0-mlogloss:0.01770\tvalidation_1-mlogloss:0.07705\n",
      "[564]\tvalidation_0-mlogloss:0.01764\tvalidation_1-mlogloss:0.07698\n",
      "[565]\tvalidation_0-mlogloss:0.01759\tvalidation_1-mlogloss:0.07690\n",
      "[566]\tvalidation_0-mlogloss:0.01752\tvalidation_1-mlogloss:0.07687\n",
      "[567]\tvalidation_0-mlogloss:0.01747\tvalidation_1-mlogloss:0.07677\n",
      "[568]\tvalidation_0-mlogloss:0.01739\tvalidation_1-mlogloss:0.07665\n",
      "[569]\tvalidation_0-mlogloss:0.01734\tvalidation_1-mlogloss:0.07662\n",
      "[570]\tvalidation_0-mlogloss:0.01729\tvalidation_1-mlogloss:0.07657\n",
      "[571]\tvalidation_0-mlogloss:0.01723\tvalidation_1-mlogloss:0.07647\n",
      "[572]\tvalidation_0-mlogloss:0.01716\tvalidation_1-mlogloss:0.07640\n",
      "[573]\tvalidation_0-mlogloss:0.01712\tvalidation_1-mlogloss:0.07634\n",
      "[574]\tvalidation_0-mlogloss:0.01708\tvalidation_1-mlogloss:0.07634\n",
      "[575]\tvalidation_0-mlogloss:0.01703\tvalidation_1-mlogloss:0.07635\n",
      "[576]\tvalidation_0-mlogloss:0.01699\tvalidation_1-mlogloss:0.07637\n",
      "[577]\tvalidation_0-mlogloss:0.01693\tvalidation_1-mlogloss:0.07629\n",
      "[578]\tvalidation_0-mlogloss:0.01687\tvalidation_1-mlogloss:0.07626\n",
      "[579]\tvalidation_0-mlogloss:0.01682\tvalidation_1-mlogloss:0.07630\n",
      "[580]\tvalidation_0-mlogloss:0.01675\tvalidation_1-mlogloss:0.07619\n",
      "[581]\tvalidation_0-mlogloss:0.01670\tvalidation_1-mlogloss:0.07610\n",
      "[582]\tvalidation_0-mlogloss:0.01664\tvalidation_1-mlogloss:0.07607\n",
      "[583]\tvalidation_0-mlogloss:0.01658\tvalidation_1-mlogloss:0.07596\n",
      "[584]\tvalidation_0-mlogloss:0.01652\tvalidation_1-mlogloss:0.07589\n",
      "[585]\tvalidation_0-mlogloss:0.01647\tvalidation_1-mlogloss:0.07583\n",
      "[586]\tvalidation_0-mlogloss:0.01642\tvalidation_1-mlogloss:0.07583\n",
      "[587]\tvalidation_0-mlogloss:0.01637\tvalidation_1-mlogloss:0.07572\n",
      "[588]\tvalidation_0-mlogloss:0.01630\tvalidation_1-mlogloss:0.07560\n",
      "[589]\tvalidation_0-mlogloss:0.01624\tvalidation_1-mlogloss:0.07553\n",
      "[590]\tvalidation_0-mlogloss:0.01619\tvalidation_1-mlogloss:0.07547\n",
      "[591]\tvalidation_0-mlogloss:0.01613\tvalidation_1-mlogloss:0.07540\n",
      "[592]\tvalidation_0-mlogloss:0.01608\tvalidation_1-mlogloss:0.07532\n",
      "[593]\tvalidation_0-mlogloss:0.01604\tvalidation_1-mlogloss:0.07525\n",
      "[594]\tvalidation_0-mlogloss:0.01597\tvalidation_1-mlogloss:0.07517\n",
      "[595]\tvalidation_0-mlogloss:0.01593\tvalidation_1-mlogloss:0.07514\n",
      "[596]\tvalidation_0-mlogloss:0.01588\tvalidation_1-mlogloss:0.07506\n",
      "[597]\tvalidation_0-mlogloss:0.01584\tvalidation_1-mlogloss:0.07511\n",
      "[598]\tvalidation_0-mlogloss:0.01580\tvalidation_1-mlogloss:0.07511\n",
      "[599]\tvalidation_0-mlogloss:0.01575\tvalidation_1-mlogloss:0.07510\n",
      "[600]\tvalidation_0-mlogloss:0.01570\tvalidation_1-mlogloss:0.07513\n",
      "[601]\tvalidation_0-mlogloss:0.01567\tvalidation_1-mlogloss:0.07507\n",
      "[602]\tvalidation_0-mlogloss:0.01562\tvalidation_1-mlogloss:0.07501\n",
      "[603]\tvalidation_0-mlogloss:0.01558\tvalidation_1-mlogloss:0.07498\n",
      "[604]\tvalidation_0-mlogloss:0.01552\tvalidation_1-mlogloss:0.07490\n",
      "[605]\tvalidation_0-mlogloss:0.01549\tvalidation_1-mlogloss:0.07492\n",
      "[606]\tvalidation_0-mlogloss:0.01544\tvalidation_1-mlogloss:0.07483\n",
      "[607]\tvalidation_0-mlogloss:0.01540\tvalidation_1-mlogloss:0.07477\n",
      "[608]\tvalidation_0-mlogloss:0.01536\tvalidation_1-mlogloss:0.07473\n",
      "[609]\tvalidation_0-mlogloss:0.01531\tvalidation_1-mlogloss:0.07461\n",
      "[610]\tvalidation_0-mlogloss:0.01525\tvalidation_1-mlogloss:0.07452\n",
      "[611]\tvalidation_0-mlogloss:0.01519\tvalidation_1-mlogloss:0.07448\n",
      "[612]\tvalidation_0-mlogloss:0.01513\tvalidation_1-mlogloss:0.07443\n",
      "[613]\tvalidation_0-mlogloss:0.01507\tvalidation_1-mlogloss:0.07439\n",
      "[614]\tvalidation_0-mlogloss:0.01503\tvalidation_1-mlogloss:0.07432\n",
      "[615]\tvalidation_0-mlogloss:0.01499\tvalidation_1-mlogloss:0.07431\n",
      "[616]\tvalidation_0-mlogloss:0.01493\tvalidation_1-mlogloss:0.07427\n",
      "[617]\tvalidation_0-mlogloss:0.01488\tvalidation_1-mlogloss:0.07413\n",
      "[618]\tvalidation_0-mlogloss:0.01483\tvalidation_1-mlogloss:0.07406\n",
      "[619]\tvalidation_0-mlogloss:0.01477\tvalidation_1-mlogloss:0.07400\n",
      "[620]\tvalidation_0-mlogloss:0.01472\tvalidation_1-mlogloss:0.07391\n",
      "[621]\tvalidation_0-mlogloss:0.01466\tvalidation_1-mlogloss:0.07378\n",
      "[622]\tvalidation_0-mlogloss:0.01462\tvalidation_1-mlogloss:0.07375\n",
      "[623]\tvalidation_0-mlogloss:0.01458\tvalidation_1-mlogloss:0.07371\n",
      "[624]\tvalidation_0-mlogloss:0.01453\tvalidation_1-mlogloss:0.07360\n",
      "[625]\tvalidation_0-mlogloss:0.01450\tvalidation_1-mlogloss:0.07354\n",
      "[626]\tvalidation_0-mlogloss:0.01446\tvalidation_1-mlogloss:0.07347\n",
      "[627]\tvalidation_0-mlogloss:0.01443\tvalidation_1-mlogloss:0.07348\n",
      "[628]\tvalidation_0-mlogloss:0.01439\tvalidation_1-mlogloss:0.07344\n",
      "[629]\tvalidation_0-mlogloss:0.01436\tvalidation_1-mlogloss:0.07337\n",
      "[630]\tvalidation_0-mlogloss:0.01432\tvalidation_1-mlogloss:0.07327\n",
      "[631]\tvalidation_0-mlogloss:0.01429\tvalidation_1-mlogloss:0.07321\n",
      "[632]\tvalidation_0-mlogloss:0.01423\tvalidation_1-mlogloss:0.07316\n",
      "[633]\tvalidation_0-mlogloss:0.01418\tvalidation_1-mlogloss:0.07315\n",
      "[634]\tvalidation_0-mlogloss:0.01415\tvalidation_1-mlogloss:0.07316\n",
      "[635]\tvalidation_0-mlogloss:0.01411\tvalidation_1-mlogloss:0.07309\n",
      "[636]\tvalidation_0-mlogloss:0.01407\tvalidation_1-mlogloss:0.07305\n",
      "[637]\tvalidation_0-mlogloss:0.01403\tvalidation_1-mlogloss:0.07300\n",
      "[638]\tvalidation_0-mlogloss:0.01398\tvalidation_1-mlogloss:0.07297\n",
      "[639]\tvalidation_0-mlogloss:0.01394\tvalidation_1-mlogloss:0.07292\n",
      "[640]\tvalidation_0-mlogloss:0.01390\tvalidation_1-mlogloss:0.07285\n",
      "[641]\tvalidation_0-mlogloss:0.01386\tvalidation_1-mlogloss:0.07283\n",
      "[642]\tvalidation_0-mlogloss:0.01382\tvalidation_1-mlogloss:0.07285\n",
      "[643]\tvalidation_0-mlogloss:0.01379\tvalidation_1-mlogloss:0.07291\n",
      "[644]\tvalidation_0-mlogloss:0.01375\tvalidation_1-mlogloss:0.07286\n",
      "[645]\tvalidation_0-mlogloss:0.01370\tvalidation_1-mlogloss:0.07283\n",
      "[646]\tvalidation_0-mlogloss:0.01366\tvalidation_1-mlogloss:0.07275\n",
      "[647]\tvalidation_0-mlogloss:0.01363\tvalidation_1-mlogloss:0.07276\n",
      "[648]\tvalidation_0-mlogloss:0.01360\tvalidation_1-mlogloss:0.07271\n",
      "[649]\tvalidation_0-mlogloss:0.01356\tvalidation_1-mlogloss:0.07267\n",
      "[650]\tvalidation_0-mlogloss:0.01353\tvalidation_1-mlogloss:0.07258\n",
      "[651]\tvalidation_0-mlogloss:0.01349\tvalidation_1-mlogloss:0.07254\n",
      "[652]\tvalidation_0-mlogloss:0.01345\tvalidation_1-mlogloss:0.07243\n",
      "[653]\tvalidation_0-mlogloss:0.01342\tvalidation_1-mlogloss:0.07244\n",
      "[654]\tvalidation_0-mlogloss:0.01336\tvalidation_1-mlogloss:0.07239\n",
      "[655]\tvalidation_0-mlogloss:0.01333\tvalidation_1-mlogloss:0.07230\n",
      "[656]\tvalidation_0-mlogloss:0.01329\tvalidation_1-mlogloss:0.07226\n",
      "[657]\tvalidation_0-mlogloss:0.01326\tvalidation_1-mlogloss:0.07224\n",
      "[658]\tvalidation_0-mlogloss:0.01321\tvalidation_1-mlogloss:0.07218\n",
      "[659]\tvalidation_0-mlogloss:0.01318\tvalidation_1-mlogloss:0.07219\n",
      "[660]\tvalidation_0-mlogloss:0.01315\tvalidation_1-mlogloss:0.07211\n",
      "[661]\tvalidation_0-mlogloss:0.01310\tvalidation_1-mlogloss:0.07207\n",
      "[662]\tvalidation_0-mlogloss:0.01307\tvalidation_1-mlogloss:0.07204\n",
      "[663]\tvalidation_0-mlogloss:0.01304\tvalidation_1-mlogloss:0.07196\n",
      "[664]\tvalidation_0-mlogloss:0.01300\tvalidation_1-mlogloss:0.07187\n",
      "[665]\tvalidation_0-mlogloss:0.01297\tvalidation_1-mlogloss:0.07183\n",
      "[666]\tvalidation_0-mlogloss:0.01294\tvalidation_1-mlogloss:0.07184\n",
      "[667]\tvalidation_0-mlogloss:0.01291\tvalidation_1-mlogloss:0.07181\n",
      "[668]\tvalidation_0-mlogloss:0.01286\tvalidation_1-mlogloss:0.07173\n",
      "[669]\tvalidation_0-mlogloss:0.01282\tvalidation_1-mlogloss:0.07170\n",
      "[670]\tvalidation_0-mlogloss:0.01279\tvalidation_1-mlogloss:0.07162\n",
      "[671]\tvalidation_0-mlogloss:0.01274\tvalidation_1-mlogloss:0.07151\n",
      "[672]\tvalidation_0-mlogloss:0.01271\tvalidation_1-mlogloss:0.07143\n",
      "[673]\tvalidation_0-mlogloss:0.01266\tvalidation_1-mlogloss:0.07139\n",
      "[674]\tvalidation_0-mlogloss:0.01263\tvalidation_1-mlogloss:0.07138\n",
      "[675]\tvalidation_0-mlogloss:0.01260\tvalidation_1-mlogloss:0.07135\n",
      "[676]\tvalidation_0-mlogloss:0.01257\tvalidation_1-mlogloss:0.07136\n",
      "[677]\tvalidation_0-mlogloss:0.01255\tvalidation_1-mlogloss:0.07137\n",
      "[678]\tvalidation_0-mlogloss:0.01251\tvalidation_1-mlogloss:0.07134\n",
      "[679]\tvalidation_0-mlogloss:0.01248\tvalidation_1-mlogloss:0.07129\n",
      "[680]\tvalidation_0-mlogloss:0.01245\tvalidation_1-mlogloss:0.07117\n",
      "[681]\tvalidation_0-mlogloss:0.01242\tvalidation_1-mlogloss:0.07106\n",
      "[682]\tvalidation_0-mlogloss:0.01238\tvalidation_1-mlogloss:0.07097\n",
      "[683]\tvalidation_0-mlogloss:0.01236\tvalidation_1-mlogloss:0.07097\n",
      "[684]\tvalidation_0-mlogloss:0.01233\tvalidation_1-mlogloss:0.07094\n",
      "[685]\tvalidation_0-mlogloss:0.01230\tvalidation_1-mlogloss:0.07096\n",
      "[686]\tvalidation_0-mlogloss:0.01228\tvalidation_1-mlogloss:0.07095\n",
      "[687]\tvalidation_0-mlogloss:0.01223\tvalidation_1-mlogloss:0.07097\n",
      "[688]\tvalidation_0-mlogloss:0.01220\tvalidation_1-mlogloss:0.07092\n",
      "[689]\tvalidation_0-mlogloss:0.01217\tvalidation_1-mlogloss:0.07087\n",
      "[690]\tvalidation_0-mlogloss:0.01213\tvalidation_1-mlogloss:0.07088\n",
      "[691]\tvalidation_0-mlogloss:0.01210\tvalidation_1-mlogloss:0.07080\n",
      "[692]\tvalidation_0-mlogloss:0.01207\tvalidation_1-mlogloss:0.07078\n",
      "[693]\tvalidation_0-mlogloss:0.01204\tvalidation_1-mlogloss:0.07072\n",
      "[694]\tvalidation_0-mlogloss:0.01202\tvalidation_1-mlogloss:0.07070\n",
      "[695]\tvalidation_0-mlogloss:0.01199\tvalidation_1-mlogloss:0.07066\n",
      "[696]\tvalidation_0-mlogloss:0.01196\tvalidation_1-mlogloss:0.07066\n",
      "[697]\tvalidation_0-mlogloss:0.01193\tvalidation_1-mlogloss:0.07064\n",
      "[698]\tvalidation_0-mlogloss:0.01191\tvalidation_1-mlogloss:0.07068\n",
      "[699]\tvalidation_0-mlogloss:0.01188\tvalidation_1-mlogloss:0.07070\n",
      "[700]\tvalidation_0-mlogloss:0.01185\tvalidation_1-mlogloss:0.07067\n",
      "[701]\tvalidation_0-mlogloss:0.01183\tvalidation_1-mlogloss:0.07064\n",
      "[702]\tvalidation_0-mlogloss:0.01180\tvalidation_1-mlogloss:0.07061\n",
      "[703]\tvalidation_0-mlogloss:0.01177\tvalidation_1-mlogloss:0.07049\n",
      "[704]\tvalidation_0-mlogloss:0.01174\tvalidation_1-mlogloss:0.07046\n",
      "[705]\tvalidation_0-mlogloss:0.01172\tvalidation_1-mlogloss:0.07043\n",
      "[706]\tvalidation_0-mlogloss:0.01170\tvalidation_1-mlogloss:0.07034\n",
      "[707]\tvalidation_0-mlogloss:0.01166\tvalidation_1-mlogloss:0.07031\n",
      "[708]\tvalidation_0-mlogloss:0.01163\tvalidation_1-mlogloss:0.07028\n",
      "[709]\tvalidation_0-mlogloss:0.01161\tvalidation_1-mlogloss:0.07024\n",
      "[710]\tvalidation_0-mlogloss:0.01158\tvalidation_1-mlogloss:0.07017\n",
      "[711]\tvalidation_0-mlogloss:0.01154\tvalidation_1-mlogloss:0.07015\n",
      "[712]\tvalidation_0-mlogloss:0.01151\tvalidation_1-mlogloss:0.07007\n",
      "[713]\tvalidation_0-mlogloss:0.01149\tvalidation_1-mlogloss:0.07002\n",
      "[714]\tvalidation_0-mlogloss:0.01146\tvalidation_1-mlogloss:0.07004\n",
      "[715]\tvalidation_0-mlogloss:0.01143\tvalidation_1-mlogloss:0.07001\n",
      "[716]\tvalidation_0-mlogloss:0.01140\tvalidation_1-mlogloss:0.07001\n",
      "[717]\tvalidation_0-mlogloss:0.01137\tvalidation_1-mlogloss:0.06999\n",
      "[718]\tvalidation_0-mlogloss:0.01134\tvalidation_1-mlogloss:0.06993\n",
      "[719]\tvalidation_0-mlogloss:0.01132\tvalidation_1-mlogloss:0.06990\n",
      "[720]\tvalidation_0-mlogloss:0.01128\tvalidation_1-mlogloss:0.06980\n",
      "[721]\tvalidation_0-mlogloss:0.01125\tvalidation_1-mlogloss:0.06973\n",
      "[722]\tvalidation_0-mlogloss:0.01123\tvalidation_1-mlogloss:0.06969\n",
      "[723]\tvalidation_0-mlogloss:0.01120\tvalidation_1-mlogloss:0.06971\n",
      "[724]\tvalidation_0-mlogloss:0.01117\tvalidation_1-mlogloss:0.06972\n",
      "[725]\tvalidation_0-mlogloss:0.01113\tvalidation_1-mlogloss:0.06964\n",
      "[726]\tvalidation_0-mlogloss:0.01111\tvalidation_1-mlogloss:0.06963\n",
      "[727]\tvalidation_0-mlogloss:0.01108\tvalidation_1-mlogloss:0.06958\n",
      "[728]\tvalidation_0-mlogloss:0.01106\tvalidation_1-mlogloss:0.06957\n",
      "[729]\tvalidation_0-mlogloss:0.01103\tvalidation_1-mlogloss:0.06958\n",
      "[730]\tvalidation_0-mlogloss:0.01101\tvalidation_1-mlogloss:0.06956\n",
      "[731]\tvalidation_0-mlogloss:0.01097\tvalidation_1-mlogloss:0.06949\n",
      "[732]\tvalidation_0-mlogloss:0.01095\tvalidation_1-mlogloss:0.06953\n",
      "[733]\tvalidation_0-mlogloss:0.01092\tvalidation_1-mlogloss:0.06949\n",
      "[734]\tvalidation_0-mlogloss:0.01089\tvalidation_1-mlogloss:0.06949\n",
      "[735]\tvalidation_0-mlogloss:0.01087\tvalidation_1-mlogloss:0.06949\n",
      "[736]\tvalidation_0-mlogloss:0.01085\tvalidation_1-mlogloss:0.06948\n",
      "[737]\tvalidation_0-mlogloss:0.01082\tvalidation_1-mlogloss:0.06948\n",
      "[738]\tvalidation_0-mlogloss:0.01080\tvalidation_1-mlogloss:0.06946\n",
      "[739]\tvalidation_0-mlogloss:0.01077\tvalidation_1-mlogloss:0.06939\n",
      "[740]\tvalidation_0-mlogloss:0.01075\tvalidation_1-mlogloss:0.06941\n",
      "[741]\tvalidation_0-mlogloss:0.01072\tvalidation_1-mlogloss:0.06936\n",
      "[742]\tvalidation_0-mlogloss:0.01069\tvalidation_1-mlogloss:0.06926\n",
      "[743]\tvalidation_0-mlogloss:0.01067\tvalidation_1-mlogloss:0.06926\n",
      "[744]\tvalidation_0-mlogloss:0.01064\tvalidation_1-mlogloss:0.06929\n",
      "[745]\tvalidation_0-mlogloss:0.01062\tvalidation_1-mlogloss:0.06927\n",
      "[746]\tvalidation_0-mlogloss:0.01060\tvalidation_1-mlogloss:0.06920\n",
      "[747]\tvalidation_0-mlogloss:0.01057\tvalidation_1-mlogloss:0.06920\n",
      "[748]\tvalidation_0-mlogloss:0.01054\tvalidation_1-mlogloss:0.06918\n",
      "[749]\tvalidation_0-mlogloss:0.01052\tvalidation_1-mlogloss:0.06911\n",
      "[750]\tvalidation_0-mlogloss:0.01049\tvalidation_1-mlogloss:0.06903\n",
      "[751]\tvalidation_0-mlogloss:0.01047\tvalidation_1-mlogloss:0.06896\n",
      "[752]\tvalidation_0-mlogloss:0.01045\tvalidation_1-mlogloss:0.06891\n",
      "[753]\tvalidation_0-mlogloss:0.01043\tvalidation_1-mlogloss:0.06885\n",
      "[754]\tvalidation_0-mlogloss:0.01039\tvalidation_1-mlogloss:0.06885\n",
      "[755]\tvalidation_0-mlogloss:0.01037\tvalidation_1-mlogloss:0.06885\n",
      "[756]\tvalidation_0-mlogloss:0.01034\tvalidation_1-mlogloss:0.06887\n",
      "[757]\tvalidation_0-mlogloss:0.01031\tvalidation_1-mlogloss:0.06881\n",
      "[758]\tvalidation_0-mlogloss:0.01029\tvalidation_1-mlogloss:0.06880\n",
      "[759]\tvalidation_0-mlogloss:0.01026\tvalidation_1-mlogloss:0.06878\n",
      "[760]\tvalidation_0-mlogloss:0.01024\tvalidation_1-mlogloss:0.06871\n",
      "[761]\tvalidation_0-mlogloss:0.01021\tvalidation_1-mlogloss:0.06876\n",
      "[762]\tvalidation_0-mlogloss:0.01020\tvalidation_1-mlogloss:0.06874\n",
      "[763]\tvalidation_0-mlogloss:0.01017\tvalidation_1-mlogloss:0.06870\n",
      "[764]\tvalidation_0-mlogloss:0.01014\tvalidation_1-mlogloss:0.06871\n",
      "[765]\tvalidation_0-mlogloss:0.01012\tvalidation_1-mlogloss:0.06871\n",
      "[766]\tvalidation_0-mlogloss:0.01010\tvalidation_1-mlogloss:0.06871\n",
      "[767]\tvalidation_0-mlogloss:0.01007\tvalidation_1-mlogloss:0.06869\n",
      "[768]\tvalidation_0-mlogloss:0.01004\tvalidation_1-mlogloss:0.06860\n",
      "[769]\tvalidation_0-mlogloss:0.01003\tvalidation_1-mlogloss:0.06854\n",
      "[770]\tvalidation_0-mlogloss:0.01000\tvalidation_1-mlogloss:0.06857\n",
      "[771]\tvalidation_0-mlogloss:0.00998\tvalidation_1-mlogloss:0.06855\n",
      "[772]\tvalidation_0-mlogloss:0.00996\tvalidation_1-mlogloss:0.06855\n",
      "[773]\tvalidation_0-mlogloss:0.00994\tvalidation_1-mlogloss:0.06847\n",
      "[774]\tvalidation_0-mlogloss:0.00992\tvalidation_1-mlogloss:0.06844\n",
      "[775]\tvalidation_0-mlogloss:0.00990\tvalidation_1-mlogloss:0.06843\n",
      "[776]\tvalidation_0-mlogloss:0.00988\tvalidation_1-mlogloss:0.06839\n",
      "[777]\tvalidation_0-mlogloss:0.00987\tvalidation_1-mlogloss:0.06837\n",
      "[778]\tvalidation_0-mlogloss:0.00984\tvalidation_1-mlogloss:0.06826\n",
      "[779]\tvalidation_0-mlogloss:0.00982\tvalidation_1-mlogloss:0.06825\n",
      "[780]\tvalidation_0-mlogloss:0.00980\tvalidation_1-mlogloss:0.06822\n",
      "[781]\tvalidation_0-mlogloss:0.00976\tvalidation_1-mlogloss:0.06815\n",
      "[782]\tvalidation_0-mlogloss:0.00975\tvalidation_1-mlogloss:0.06808\n",
      "[783]\tvalidation_0-mlogloss:0.00972\tvalidation_1-mlogloss:0.06799\n",
      "[784]\tvalidation_0-mlogloss:0.00971\tvalidation_1-mlogloss:0.06790\n",
      "[785]\tvalidation_0-mlogloss:0.00969\tvalidation_1-mlogloss:0.06785\n",
      "[786]\tvalidation_0-mlogloss:0.00966\tvalidation_1-mlogloss:0.06785\n",
      "[787]\tvalidation_0-mlogloss:0.00965\tvalidation_1-mlogloss:0.06784\n",
      "[788]\tvalidation_0-mlogloss:0.00963\tvalidation_1-mlogloss:0.06780\n",
      "[789]\tvalidation_0-mlogloss:0.00961\tvalidation_1-mlogloss:0.06780\n",
      "[790]\tvalidation_0-mlogloss:0.00959\tvalidation_1-mlogloss:0.06773\n",
      "[791]\tvalidation_0-mlogloss:0.00957\tvalidation_1-mlogloss:0.06774\n",
      "[792]\tvalidation_0-mlogloss:0.00955\tvalidation_1-mlogloss:0.06773\n",
      "[793]\tvalidation_0-mlogloss:0.00953\tvalidation_1-mlogloss:0.06766\n",
      "[794]\tvalidation_0-mlogloss:0.00951\tvalidation_1-mlogloss:0.06767\n",
      "[795]\tvalidation_0-mlogloss:0.00950\tvalidation_1-mlogloss:0.06769\n",
      "[796]\tvalidation_0-mlogloss:0.00947\tvalidation_1-mlogloss:0.06765\n",
      "[797]\tvalidation_0-mlogloss:0.00944\tvalidation_1-mlogloss:0.06762\n",
      "[798]\tvalidation_0-mlogloss:0.00943\tvalidation_1-mlogloss:0.06762\n",
      "[799]\tvalidation_0-mlogloss:0.00941\tvalidation_1-mlogloss:0.06759\n",
      "[800]\tvalidation_0-mlogloss:0.00939\tvalidation_1-mlogloss:0.06757\n",
      "[801]\tvalidation_0-mlogloss:0.00937\tvalidation_1-mlogloss:0.06754\n",
      "[802]\tvalidation_0-mlogloss:0.00935\tvalidation_1-mlogloss:0.06752\n",
      "[803]\tvalidation_0-mlogloss:0.00933\tvalidation_1-mlogloss:0.06750\n",
      "[804]\tvalidation_0-mlogloss:0.00931\tvalidation_1-mlogloss:0.06747\n",
      "[805]\tvalidation_0-mlogloss:0.00929\tvalidation_1-mlogloss:0.06743\n",
      "[806]\tvalidation_0-mlogloss:0.00928\tvalidation_1-mlogloss:0.06741\n",
      "[807]\tvalidation_0-mlogloss:0.00926\tvalidation_1-mlogloss:0.06737\n",
      "[808]\tvalidation_0-mlogloss:0.00925\tvalidation_1-mlogloss:0.06736\n",
      "[809]\tvalidation_0-mlogloss:0.00923\tvalidation_1-mlogloss:0.06738\n",
      "[810]\tvalidation_0-mlogloss:0.00922\tvalidation_1-mlogloss:0.06738\n",
      "[811]\tvalidation_0-mlogloss:0.00920\tvalidation_1-mlogloss:0.06736\n",
      "[812]\tvalidation_0-mlogloss:0.00918\tvalidation_1-mlogloss:0.06733\n",
      "[813]\tvalidation_0-mlogloss:0.00916\tvalidation_1-mlogloss:0.06739\n",
      "[814]\tvalidation_0-mlogloss:0.00915\tvalidation_1-mlogloss:0.06729\n",
      "[815]\tvalidation_0-mlogloss:0.00913\tvalidation_1-mlogloss:0.06730\n",
      "[816]\tvalidation_0-mlogloss:0.00911\tvalidation_1-mlogloss:0.06730\n",
      "[817]\tvalidation_0-mlogloss:0.00910\tvalidation_1-mlogloss:0.06732\n",
      "[818]\tvalidation_0-mlogloss:0.00908\tvalidation_1-mlogloss:0.06726\n",
      "[819]\tvalidation_0-mlogloss:0.00906\tvalidation_1-mlogloss:0.06726\n",
      "[820]\tvalidation_0-mlogloss:0.00903\tvalidation_1-mlogloss:0.06724\n",
      "[821]\tvalidation_0-mlogloss:0.00902\tvalidation_1-mlogloss:0.06723\n",
      "[822]\tvalidation_0-mlogloss:0.00900\tvalidation_1-mlogloss:0.06723\n",
      "[823]\tvalidation_0-mlogloss:0.00898\tvalidation_1-mlogloss:0.06721\n",
      "[824]\tvalidation_0-mlogloss:0.00897\tvalidation_1-mlogloss:0.06720\n",
      "[825]\tvalidation_0-mlogloss:0.00895\tvalidation_1-mlogloss:0.06718\n",
      "[826]\tvalidation_0-mlogloss:0.00893\tvalidation_1-mlogloss:0.06714\n",
      "[827]\tvalidation_0-mlogloss:0.00892\tvalidation_1-mlogloss:0.06714\n",
      "[828]\tvalidation_0-mlogloss:0.00890\tvalidation_1-mlogloss:0.06710\n",
      "[829]\tvalidation_0-mlogloss:0.00888\tvalidation_1-mlogloss:0.06711\n",
      "[830]\tvalidation_0-mlogloss:0.00886\tvalidation_1-mlogloss:0.06708\n",
      "[831]\tvalidation_0-mlogloss:0.00885\tvalidation_1-mlogloss:0.06704\n",
      "[832]\tvalidation_0-mlogloss:0.00883\tvalidation_1-mlogloss:0.06707\n",
      "[833]\tvalidation_0-mlogloss:0.00881\tvalidation_1-mlogloss:0.06707\n",
      "[834]\tvalidation_0-mlogloss:0.00880\tvalidation_1-mlogloss:0.06703\n",
      "[835]\tvalidation_0-mlogloss:0.00878\tvalidation_1-mlogloss:0.06704\n",
      "[836]\tvalidation_0-mlogloss:0.00876\tvalidation_1-mlogloss:0.06699\n",
      "[837]\tvalidation_0-mlogloss:0.00874\tvalidation_1-mlogloss:0.06694\n",
      "[838]\tvalidation_0-mlogloss:0.00872\tvalidation_1-mlogloss:0.06692\n",
      "[839]\tvalidation_0-mlogloss:0.00871\tvalidation_1-mlogloss:0.06698\n",
      "[840]\tvalidation_0-mlogloss:0.00869\tvalidation_1-mlogloss:0.06697\n",
      "[841]\tvalidation_0-mlogloss:0.00868\tvalidation_1-mlogloss:0.06695\n",
      "[842]\tvalidation_0-mlogloss:0.00865\tvalidation_1-mlogloss:0.06698\n",
      "[843]\tvalidation_0-mlogloss:0.00864\tvalidation_1-mlogloss:0.06690\n",
      "[844]\tvalidation_0-mlogloss:0.00862\tvalidation_1-mlogloss:0.06691\n",
      "[845]\tvalidation_0-mlogloss:0.00861\tvalidation_1-mlogloss:0.06692\n",
      "[846]\tvalidation_0-mlogloss:0.00859\tvalidation_1-mlogloss:0.06690\n",
      "[847]\tvalidation_0-mlogloss:0.00858\tvalidation_1-mlogloss:0.06691\n",
      "[848]\tvalidation_0-mlogloss:0.00856\tvalidation_1-mlogloss:0.06691\n",
      "[849]\tvalidation_0-mlogloss:0.00855\tvalidation_1-mlogloss:0.06689\n",
      "[850]\tvalidation_0-mlogloss:0.00853\tvalidation_1-mlogloss:0.06687\n",
      "[851]\tvalidation_0-mlogloss:0.00852\tvalidation_1-mlogloss:0.06682\n",
      "[852]\tvalidation_0-mlogloss:0.00851\tvalidation_1-mlogloss:0.06682\n",
      "[853]\tvalidation_0-mlogloss:0.00850\tvalidation_1-mlogloss:0.06681\n",
      "[854]\tvalidation_0-mlogloss:0.00848\tvalidation_1-mlogloss:0.06680\n",
      "[855]\tvalidation_0-mlogloss:0.00846\tvalidation_1-mlogloss:0.06689\n",
      "[856]\tvalidation_0-mlogloss:0.00845\tvalidation_1-mlogloss:0.06694\n",
      "[857]\tvalidation_0-mlogloss:0.00843\tvalidation_1-mlogloss:0.06696\n",
      "[858]\tvalidation_0-mlogloss:0.00842\tvalidation_1-mlogloss:0.06698\n",
      "[859]\tvalidation_0-mlogloss:0.00840\tvalidation_1-mlogloss:0.06698\n",
      "[860]\tvalidation_0-mlogloss:0.00838\tvalidation_1-mlogloss:0.06692\n",
      "[861]\tvalidation_0-mlogloss:0.00837\tvalidation_1-mlogloss:0.06694\n",
      "[862]\tvalidation_0-mlogloss:0.00836\tvalidation_1-mlogloss:0.06693\n",
      "[863]\tvalidation_0-mlogloss:0.00834\tvalidation_1-mlogloss:0.06694\n",
      "[864]\tvalidation_0-mlogloss:0.00833\tvalidation_1-mlogloss:0.06693\n",
      "[865]\tvalidation_0-mlogloss:0.00831\tvalidation_1-mlogloss:0.06685\n",
      "[866]\tvalidation_0-mlogloss:0.00829\tvalidation_1-mlogloss:0.06676\n",
      "[867]\tvalidation_0-mlogloss:0.00827\tvalidation_1-mlogloss:0.06676\n",
      "[868]\tvalidation_0-mlogloss:0.00825\tvalidation_1-mlogloss:0.06671\n",
      "[869]\tvalidation_0-mlogloss:0.00824\tvalidation_1-mlogloss:0.06674\n",
      "[870]\tvalidation_0-mlogloss:0.00822\tvalidation_1-mlogloss:0.06671\n",
      "[871]\tvalidation_0-mlogloss:0.00820\tvalidation_1-mlogloss:0.06669\n",
      "[872]\tvalidation_0-mlogloss:0.00819\tvalidation_1-mlogloss:0.06671\n",
      "[873]\tvalidation_0-mlogloss:0.00818\tvalidation_1-mlogloss:0.06671\n",
      "[874]\tvalidation_0-mlogloss:0.00816\tvalidation_1-mlogloss:0.06668\n",
      "[875]\tvalidation_0-mlogloss:0.00815\tvalidation_1-mlogloss:0.06668\n",
      "[876]\tvalidation_0-mlogloss:0.00813\tvalidation_1-mlogloss:0.06668\n",
      "[877]\tvalidation_0-mlogloss:0.00812\tvalidation_1-mlogloss:0.06668\n",
      "[878]\tvalidation_0-mlogloss:0.00810\tvalidation_1-mlogloss:0.06669\n",
      "[879]\tvalidation_0-mlogloss:0.00809\tvalidation_1-mlogloss:0.06666\n",
      "[880]\tvalidation_0-mlogloss:0.00808\tvalidation_1-mlogloss:0.06662\n",
      "[881]\tvalidation_0-mlogloss:0.00807\tvalidation_1-mlogloss:0.06661\n",
      "[882]\tvalidation_0-mlogloss:0.00805\tvalidation_1-mlogloss:0.06656\n",
      "[883]\tvalidation_0-mlogloss:0.00804\tvalidation_1-mlogloss:0.06656\n",
      "[884]\tvalidation_0-mlogloss:0.00802\tvalidation_1-mlogloss:0.06659\n",
      "[885]\tvalidation_0-mlogloss:0.00801\tvalidation_1-mlogloss:0.06653\n",
      "[886]\tvalidation_0-mlogloss:0.00800\tvalidation_1-mlogloss:0.06647\n",
      "[887]\tvalidation_0-mlogloss:0.00798\tvalidation_1-mlogloss:0.06649\n",
      "[888]\tvalidation_0-mlogloss:0.00797\tvalidation_1-mlogloss:0.06653\n",
      "[889]\tvalidation_0-mlogloss:0.00796\tvalidation_1-mlogloss:0.06653\n",
      "[890]\tvalidation_0-mlogloss:0.00794\tvalidation_1-mlogloss:0.06651\n",
      "[891]\tvalidation_0-mlogloss:0.00793\tvalidation_1-mlogloss:0.06651\n",
      "[892]\tvalidation_0-mlogloss:0.00791\tvalidation_1-mlogloss:0.06653\n",
      "[893]\tvalidation_0-mlogloss:0.00790\tvalidation_1-mlogloss:0.06656\n",
      "[894]\tvalidation_0-mlogloss:0.00789\tvalidation_1-mlogloss:0.06656\n",
      "[895]\tvalidation_0-mlogloss:0.00788\tvalidation_1-mlogloss:0.06655\n",
      "[896]\tvalidation_0-mlogloss:0.00786\tvalidation_1-mlogloss:0.06657\n",
      "[897]\tvalidation_0-mlogloss:0.00785\tvalidation_1-mlogloss:0.06659\n",
      "[898]\tvalidation_0-mlogloss:0.00783\tvalidation_1-mlogloss:0.06655\n",
      "[899]\tvalidation_0-mlogloss:0.00782\tvalidation_1-mlogloss:0.06655\n",
      "[900]\tvalidation_0-mlogloss:0.00781\tvalidation_1-mlogloss:0.06647\n",
      "[901]\tvalidation_0-mlogloss:0.00780\tvalidation_1-mlogloss:0.06643\n",
      "[902]\tvalidation_0-mlogloss:0.00778\tvalidation_1-mlogloss:0.06642\n",
      "[903]\tvalidation_0-mlogloss:0.00777\tvalidation_1-mlogloss:0.06642\n",
      "[904]\tvalidation_0-mlogloss:0.00776\tvalidation_1-mlogloss:0.06645\n",
      "[905]\tvalidation_0-mlogloss:0.00775\tvalidation_1-mlogloss:0.06639\n",
      "[906]\tvalidation_0-mlogloss:0.00773\tvalidation_1-mlogloss:0.06638\n",
      "[907]\tvalidation_0-mlogloss:0.00772\tvalidation_1-mlogloss:0.06640\n",
      "[908]\tvalidation_0-mlogloss:0.00770\tvalidation_1-mlogloss:0.06642\n",
      "[909]\tvalidation_0-mlogloss:0.00769\tvalidation_1-mlogloss:0.06644\n",
      "[910]\tvalidation_0-mlogloss:0.00768\tvalidation_1-mlogloss:0.06645\n",
      "[911]\tvalidation_0-mlogloss:0.00766\tvalidation_1-mlogloss:0.06635\n",
      "[912]\tvalidation_0-mlogloss:0.00765\tvalidation_1-mlogloss:0.06634\n",
      "[913]\tvalidation_0-mlogloss:0.00764\tvalidation_1-mlogloss:0.06631\n",
      "[914]\tvalidation_0-mlogloss:0.00763\tvalidation_1-mlogloss:0.06635\n",
      "[915]\tvalidation_0-mlogloss:0.00761\tvalidation_1-mlogloss:0.06633\n",
      "[916]\tvalidation_0-mlogloss:0.00760\tvalidation_1-mlogloss:0.06633\n",
      "[917]\tvalidation_0-mlogloss:0.00759\tvalidation_1-mlogloss:0.06629\n",
      "[918]\tvalidation_0-mlogloss:0.00758\tvalidation_1-mlogloss:0.06627\n",
      "[919]\tvalidation_0-mlogloss:0.00756\tvalidation_1-mlogloss:0.06627\n",
      "[920]\tvalidation_0-mlogloss:0.00755\tvalidation_1-mlogloss:0.06624\n",
      "[921]\tvalidation_0-mlogloss:0.00754\tvalidation_1-mlogloss:0.06622\n",
      "[922]\tvalidation_0-mlogloss:0.00752\tvalidation_1-mlogloss:0.06614\n",
      "[923]\tvalidation_0-mlogloss:0.00751\tvalidation_1-mlogloss:0.06612\n",
      "[924]\tvalidation_0-mlogloss:0.00749\tvalidation_1-mlogloss:0.06615\n",
      "[925]\tvalidation_0-mlogloss:0.00748\tvalidation_1-mlogloss:0.06612\n",
      "[926]\tvalidation_0-mlogloss:0.00747\tvalidation_1-mlogloss:0.06613\n",
      "[927]\tvalidation_0-mlogloss:0.00746\tvalidation_1-mlogloss:0.06614\n",
      "[928]\tvalidation_0-mlogloss:0.00745\tvalidation_1-mlogloss:0.06613\n",
      "[929]\tvalidation_0-mlogloss:0.00743\tvalidation_1-mlogloss:0.06609\n",
      "[930]\tvalidation_0-mlogloss:0.00742\tvalidation_1-mlogloss:0.06607\n",
      "[931]\tvalidation_0-mlogloss:0.00741\tvalidation_1-mlogloss:0.06603\n",
      "[932]\tvalidation_0-mlogloss:0.00740\tvalidation_1-mlogloss:0.06603\n",
      "[933]\tvalidation_0-mlogloss:0.00739\tvalidation_1-mlogloss:0.06599\n",
      "[934]\tvalidation_0-mlogloss:0.00738\tvalidation_1-mlogloss:0.06598\n",
      "[935]\tvalidation_0-mlogloss:0.00737\tvalidation_1-mlogloss:0.06601\n",
      "[936]\tvalidation_0-mlogloss:0.00735\tvalidation_1-mlogloss:0.06600\n",
      "[937]\tvalidation_0-mlogloss:0.00734\tvalidation_1-mlogloss:0.06606\n",
      "[938]\tvalidation_0-mlogloss:0.00733\tvalidation_1-mlogloss:0.06605\n",
      "[939]\tvalidation_0-mlogloss:0.00732\tvalidation_1-mlogloss:0.06605\n",
      "[940]\tvalidation_0-mlogloss:0.00730\tvalidation_1-mlogloss:0.06601\n",
      "[941]\tvalidation_0-mlogloss:0.00729\tvalidation_1-mlogloss:0.06602\n",
      "[942]\tvalidation_0-mlogloss:0.00728\tvalidation_1-mlogloss:0.06598\n",
      "[943]\tvalidation_0-mlogloss:0.00726\tvalidation_1-mlogloss:0.06598\n",
      "[944]\tvalidation_0-mlogloss:0.00726\tvalidation_1-mlogloss:0.06593\n",
      "[945]\tvalidation_0-mlogloss:0.00725\tvalidation_1-mlogloss:0.06586\n",
      "[946]\tvalidation_0-mlogloss:0.00723\tvalidation_1-mlogloss:0.06580\n",
      "[947]\tvalidation_0-mlogloss:0.00722\tvalidation_1-mlogloss:0.06576\n",
      "[948]\tvalidation_0-mlogloss:0.00721\tvalidation_1-mlogloss:0.06577\n",
      "[949]\tvalidation_0-mlogloss:0.00720\tvalidation_1-mlogloss:0.06579\n",
      "[950]\tvalidation_0-mlogloss:0.00719\tvalidation_1-mlogloss:0.06580\n",
      "[951]\tvalidation_0-mlogloss:0.00718\tvalidation_1-mlogloss:0.06584\n",
      "[952]\tvalidation_0-mlogloss:0.00717\tvalidation_1-mlogloss:0.06581\n",
      "[953]\tvalidation_0-mlogloss:0.00716\tvalidation_1-mlogloss:0.06577\n",
      "[954]\tvalidation_0-mlogloss:0.00715\tvalidation_1-mlogloss:0.06580\n",
      "[955]\tvalidation_0-mlogloss:0.00713\tvalidation_1-mlogloss:0.06579\n",
      "[956]\tvalidation_0-mlogloss:0.00713\tvalidation_1-mlogloss:0.06577\n",
      "[957]\tvalidation_0-mlogloss:0.00712\tvalidation_1-mlogloss:0.06577\n",
      "[958]\tvalidation_0-mlogloss:0.00710\tvalidation_1-mlogloss:0.06580\n",
      "[959]\tvalidation_0-mlogloss:0.00709\tvalidation_1-mlogloss:0.06580\n",
      "[960]\tvalidation_0-mlogloss:0.00708\tvalidation_1-mlogloss:0.06574\n",
      "[961]\tvalidation_0-mlogloss:0.00707\tvalidation_1-mlogloss:0.06568\n",
      "[962]\tvalidation_0-mlogloss:0.00705\tvalidation_1-mlogloss:0.06567\n",
      "[963]\tvalidation_0-mlogloss:0.00705\tvalidation_1-mlogloss:0.06565\n",
      "[964]\tvalidation_0-mlogloss:0.00704\tvalidation_1-mlogloss:0.06562\n",
      "[965]\tvalidation_0-mlogloss:0.00702\tvalidation_1-mlogloss:0.06560\n",
      "[966]\tvalidation_0-mlogloss:0.00701\tvalidation_1-mlogloss:0.06564\n",
      "[967]\tvalidation_0-mlogloss:0.00700\tvalidation_1-mlogloss:0.06567\n",
      "[968]\tvalidation_0-mlogloss:0.00699\tvalidation_1-mlogloss:0.06566\n",
      "[969]\tvalidation_0-mlogloss:0.00698\tvalidation_1-mlogloss:0.06565\n",
      "[970]\tvalidation_0-mlogloss:0.00697\tvalidation_1-mlogloss:0.06568\n",
      "[971]\tvalidation_0-mlogloss:0.00696\tvalidation_1-mlogloss:0.06570\n",
      "[972]\tvalidation_0-mlogloss:0.00695\tvalidation_1-mlogloss:0.06566\n",
      "[973]\tvalidation_0-mlogloss:0.00694\tvalidation_1-mlogloss:0.06565\n",
      "[974]\tvalidation_0-mlogloss:0.00693\tvalidation_1-mlogloss:0.06566\n",
      "[975]\tvalidation_0-mlogloss:0.00692\tvalidation_1-mlogloss:0.06566\n",
      "[976]\tvalidation_0-mlogloss:0.00691\tvalidation_1-mlogloss:0.06563\n",
      "[977]\tvalidation_0-mlogloss:0.00690\tvalidation_1-mlogloss:0.06557\n",
      "[978]\tvalidation_0-mlogloss:0.00689\tvalidation_1-mlogloss:0.06556\n",
      "[979]\tvalidation_0-mlogloss:0.00688\tvalidation_1-mlogloss:0.06553\n",
      "[980]\tvalidation_0-mlogloss:0.00687\tvalidation_1-mlogloss:0.06554\n",
      "[981]\tvalidation_0-mlogloss:0.00686\tvalidation_1-mlogloss:0.06558\n",
      "[982]\tvalidation_0-mlogloss:0.00684\tvalidation_1-mlogloss:0.06560\n",
      "[983]\tvalidation_0-mlogloss:0.00683\tvalidation_1-mlogloss:0.06563\n",
      "[984]\tvalidation_0-mlogloss:0.00682\tvalidation_1-mlogloss:0.06560\n",
      "[985]\tvalidation_0-mlogloss:0.00681\tvalidation_1-mlogloss:0.06558\n",
      "[986]\tvalidation_0-mlogloss:0.00680\tvalidation_1-mlogloss:0.06552\n",
      "[987]\tvalidation_0-mlogloss:0.00679\tvalidation_1-mlogloss:0.06551\n",
      "[988]\tvalidation_0-mlogloss:0.00678\tvalidation_1-mlogloss:0.06552\n",
      "[989]\tvalidation_0-mlogloss:0.00677\tvalidation_1-mlogloss:0.06550\n",
      "[990]\tvalidation_0-mlogloss:0.00676\tvalidation_1-mlogloss:0.06552\n",
      "[991]\tvalidation_0-mlogloss:0.00675\tvalidation_1-mlogloss:0.06550\n",
      "[992]\tvalidation_0-mlogloss:0.00674\tvalidation_1-mlogloss:0.06546\n",
      "[993]\tvalidation_0-mlogloss:0.00672\tvalidation_1-mlogloss:0.06542\n",
      "[994]\tvalidation_0-mlogloss:0.00671\tvalidation_1-mlogloss:0.06539\n",
      "[995]\tvalidation_0-mlogloss:0.00670\tvalidation_1-mlogloss:0.06536\n",
      "[996]\tvalidation_0-mlogloss:0.00669\tvalidation_1-mlogloss:0.06536\n",
      "[997]\tvalidation_0-mlogloss:0.00668\tvalidation_1-mlogloss:0.06537\n",
      "[998]\tvalidation_0-mlogloss:0.00667\tvalidation_1-mlogloss:0.06538\n",
      "[999]\tvalidation_0-mlogloss:0.00666\tvalidation_1-mlogloss:0.06533\n"
     ]
    },
    {
     "ename": "KeyError",
     "evalue": "'merror'",
     "output_type": "error",
     "traceback": [
      "\u001b[1;31m---------------------------------------------------------------------------\u001b[0m",
      "\u001b[1;31mKeyError\u001b[0m                                  Traceback (most recent call last)",
      "\u001b[1;32m<ipython-input-107-5764d6e51725>\u001b[0m in \u001b[0;36m<module>\u001b[1;34m\u001b[0m\n\u001b[0;32m     12\u001b[0m \u001b[1;33m\u001b[0m\u001b[0m\n\u001b[0;32m     13\u001b[0m \u001b[0mplt\u001b[0m\u001b[1;33m.\u001b[0m\u001b[0mfigure\u001b[0m\u001b[1;33m(\u001b[0m\u001b[0mfigsize\u001b[0m\u001b[1;33m=\u001b[0m\u001b[1;33m(\u001b[0m\u001b[1;36m10\u001b[0m\u001b[1;33m,\u001b[0m\u001b[1;36m7\u001b[0m\u001b[1;33m)\u001b[0m\u001b[1;33m)\u001b[0m\u001b[1;33m\u001b[0m\u001b[1;33m\u001b[0m\u001b[0m\n\u001b[1;32m---> 14\u001b[1;33m \u001b[0mplt\u001b[0m\u001b[1;33m.\u001b[0m\u001b[0mplot\u001b[0m\u001b[1;33m(\u001b[0m\u001b[0mresults\u001b[0m\u001b[1;33m[\u001b[0m\u001b[1;34m\"validation_0\"\u001b[0m\u001b[1;33m]\u001b[0m\u001b[1;33m[\u001b[0m\u001b[1;34m\"merror\"\u001b[0m\u001b[1;33m]\u001b[0m\u001b[1;33m,\u001b[0m \u001b[0mlabel\u001b[0m\u001b[1;33m=\u001b[0m\u001b[1;34m\"Training loss\"\u001b[0m\u001b[1;33m)\u001b[0m\u001b[1;33m\u001b[0m\u001b[1;33m\u001b[0m\u001b[0m\n\u001b[0m\u001b[0;32m     15\u001b[0m \u001b[0mplt\u001b[0m\u001b[1;33m.\u001b[0m\u001b[0mplot\u001b[0m\u001b[1;33m(\u001b[0m\u001b[0mresults\u001b[0m\u001b[1;33m[\u001b[0m\u001b[1;34m\"validation_1\"\u001b[0m\u001b[1;33m]\u001b[0m\u001b[1;33m[\u001b[0m\u001b[1;34m\"merror\"\u001b[0m\u001b[1;33m]\u001b[0m\u001b[1;33m,\u001b[0m \u001b[0mlabel\u001b[0m\u001b[1;33m=\u001b[0m\u001b[1;34m\"Validation loss\"\u001b[0m\u001b[1;33m)\u001b[0m\u001b[1;33m\u001b[0m\u001b[1;33m\u001b[0m\u001b[0m\n\u001b[0;32m     16\u001b[0m \u001b[0mplt\u001b[0m\u001b[1;33m.\u001b[0m\u001b[0maxvline\u001b[0m\u001b[1;33m(\u001b[0m\u001b[1;36m21\u001b[0m\u001b[1;33m,\u001b[0m \u001b[0mcolor\u001b[0m\u001b[1;33m=\u001b[0m\u001b[1;34m\"gray\"\u001b[0m\u001b[1;33m,\u001b[0m \u001b[0mlabel\u001b[0m\u001b[1;33m=\u001b[0m\u001b[1;34m\"Optimal tree number\"\u001b[0m\u001b[1;33m)\u001b[0m\u001b[1;33m\u001b[0m\u001b[1;33m\u001b[0m\u001b[0m\n",
      "\u001b[1;31mKeyError\u001b[0m: 'merror'"
     ]
    },
    {
     "data": {
      "text/plain": [
       "<Figure size 720x504 with 0 Axes>"
      ]
     },
     "metadata": {},
     "output_type": "display_data"
    }
   ],
   "source": [
    "# use early stopping to avoid over fitting\n",
    "# reference: \n",
    "# https://mljar.com/blog/xgboost-early-stopping/\n",
    "# https://machinelearningmastery.com/avoid-overfitting-by-early-stopping-with-xgboost-in-python/\n",
    "\n",
    "xgb1.fit(training_data['X_train'], training_data['Y_train'].reshape(training_data['Y_train'].shape[0],), \n",
    "         eval_set=[(X_train, Y_train), (X_val, Y_val)], \n",
    "         early_stopping_rounds=20)\n",
    "\n",
    "\n",
    "results = xgb1.evals_result()\n",
    "\n",
    "\n",
    "\n"
   ]
  },
  {
   "cell_type": "code",
   "execution_count": 110,
   "metadata": {},
   "outputs": [
    {
     "data": {
      "text/plain": [
       "<matplotlib.legend.Legend at 0x19822ad3fd0>"
      ]
     },
     "execution_count": 110,
     "metadata": {},
     "output_type": "execute_result"
    },
    {
     "data": {
      "image/png": "[encoded data removed]",
      "text/plain": [
       "<Figure size 720x504 with 1 Axes>"
      ]
     },
     "metadata": {},
     "output_type": "display_data"
    }
   ],
   "source": [
    "plt.figure(figsize=(10,7))\n",
    "plt.plot(results[\"validation_0\"][\"mlogloss\"], label=\"Training loss\")\n",
    "plt.plot(results[\"validation_1\"][\"mlogloss\"], label=\"Validation loss\")\n",
    "plt.axvline(xgb1.best_ntree_limit , color=\"gray\", label=\"Optimal tree number\") # need to use different function \n",
    "plt.xlabel(\"Number of trees\")\n",
    "plt.ylabel(\"Loss\")\n",
    "plt.legend()"
   ]
  },
  {
   "cell_type": "code",
   "execution_count": null,
   "metadata": {},
   "outputs": [],
   "source": [
    "# both lines have downslope, so sign of overfitting "
   ]
  },
  {
   "cell_type": "code",
   "execution_count": 111,
   "metadata": {},
   "outputs": [
    {
     "data": {
      "text/plain": [
       "1000"
      ]
     },
     "execution_count": 111,
     "metadata": {},
     "output_type": "execute_result"
    }
   ],
   "source": [
    "xgb1.best_ntree_limit "
   ]
  },
  {
   "cell_type": "code",
   "execution_count": 112,
   "metadata": {},
   "outputs": [],
   "source": [
    "# evaluate the original xgb model, 0.96, slightly higher than random forest"
   ]
  },
  {
   "cell_type": "code",
   "execution_count": 113,
   "metadata": {},
   "outputs": [
    {
     "name": "stderr",
     "output_type": "stream",
     "text": [
      "E:\\Anaconda\\lib\\site-packages\\xgboost\\core.py:105: UserWarning: ntree_limit is deprecated, use `iteration_range` or model slicing instead.\n",
      "  warnings.warn(\n"
     ]
    },
    {
     "name": "stdout",
     "output_type": "stream",
     "text": [
      "xgb1 Train Accuracy:1.0\n",
      "xgb1 Train F1-Score(Micro):1.0\n",
      "------\n",
      "xgb1 Test Accuracy:0.984197218710493\n",
      "xgb1 Test F1-Score(Micro):0.984197218710493\n"
     ]
    }
   ],
   "source": [
    "predicted_labels = xgb1.predict(training_data['X_test'])\n",
    "train_pred = xgb1.predict(training_data['X_train'], ntree_limit= xgb1.best_ntree_limit) # use the above best n tree\n",
    "print('xgb1 Train Accuracy:'+str(accuracy_score(training_data['Y_train'], train_pred)))\n",
    "print('xgb1 Train F1-Score(Micro):'+str(f1_score(training_data['Y_train'], train_pred,average='micro')))\n",
    "print('------')\n",
    "print('xgb1 Test Accuracy:'+str(accuracy_score(training_data['Y_test'], predicted_labels)))\n",
    "print('xgb1 Test F1-Score(Micro):'+str(f1_score(training_data['Y_test'], predicted_labels,average='micro')))"
   ]
  },
  {
   "cell_type": "code",
   "execution_count": null,
   "metadata": {},
   "outputs": [],
   "source": []
  },
  {
   "cell_type": "code",
   "execution_count": null,
   "metadata": {},
   "outputs": [],
   "source": []
  },
  {
   "cell_type": "markdown",
   "metadata": {},
   "source": [
    "## fine tunning"
   ]
  },
  {
   "cell_type": "code",
   "execution_count": 114,
   "metadata": {},
   "outputs": [
    {
     "name": "stdout",
     "output_type": "stream",
     "text": [
      "Fitting 5 folds for each of 60 candidates, totalling 300 fits\n"
     ]
    },
    {
     "name": "stderr",
     "output_type": "stream",
     "text": [
      "E:\\Anaconda\\lib\\site-packages\\xgboost\\sklearn.py:1224: UserWarning: The use of label encoder in XGBClassifier is deprecated and will be removed in a future release. To remove this warning, do the following: 1) Pass option use_label_encoder=False when constructing XGBClassifier object; and 2) Encode your labels (y) as integers starting with 0, i.e. 0, 1, 2, ..., [num_class - 1].\n",
      "  warnings.warn(label_encoder_deprecation_msg, UserWarning)\n",
      "E:\\Anaconda\\lib\\site-packages\\sklearn\\utils\\validation.py:63: DataConversionWarning: A column-vector y was passed when a 1d array was expected. Please change the shape of y to (n_samples, ), for example using ravel().\n",
      "  return f(*args, **kwargs)\n"
     ]
    },
    {
     "name": "stdout",
     "output_type": "stream",
     "text": [
      "[22:25:59] WARNING: C:/Users/Administrator/workspace/xgboost-win64_release_1.5.1/src/learner.cc:1115: Starting in XGBoost 1.3.0, the default evaluation metric used with the objective 'multi:softprob' was changed from 'merror' to 'mlogloss'. Explicitly set eval_metric if you'd like to restore the old behavior.\n"
     ]
    },
    {
     "data": {
      "text/plain": [
       "GridSearchCV(cv=5,\n",
       "             estimator=XGBClassifier(base_score=0.5, booster='gbtree',\n",
       "                                     colsample_bylevel=1, colsample_bynode=1,\n",
       "                                     colsample_bytree=0.8,\n",
       "                                     enable_categorical=False, gamma=0,\n",
       "                                     gpu_id=-1, importance_type=None,\n",
       "                                     interaction_constraints='',\n",
       "                                     learning_rate=0.1, max_delta_step=0,\n",
       "                                     max_depth=5, min_child_weight=1,\n",
       "                                     missing=nan, monotone_constraints='()',\n",
       "                                     n_estimators=1000, n_jobs=4, nthread=4,\n",
       "                                     num_class=9, num_parallel_tree=1,\n",
       "                                     objective='multi:softprob',\n",
       "                                     predictor='auto', random_state=27,\n",
       "                                     reg_alpha=0, reg_lambda=1,\n",
       "                                     scale_pos_weight=None, seed=27,\n",
       "                                     subsample=0.8, tree_method='exact', ...),\n",
       "             n_jobs=-1,\n",
       "             param_grid={'max_depth': range(5, 10),\n",
       "                         'min_child_weight': range(1, 6, 2),\n",
       "                         'n_estimators': range(100, 500, 100)},\n",
       "             scoring='f1_micro', verbose=10)"
      ]
     },
     "execution_count": 114,
     "metadata": {},
     "output_type": "execute_result"
    }
   ],
   "source": [
    "params = {\n",
    "    'n_estimators'      : range(100,500,100),\n",
    "    'max_depth'         : range(5,10,1),\n",
    "    'min_child_weight':range(1,6,2)\n",
    "}\n",
    "#metrics to consider: f1_micro, f1_macro, roc_auc_ovr\n",
    "gsearch1 = GridSearchCV(estimator = xgb1, param_grid = params, scoring='f1_micro',n_jobs=-1,verbose = 10, cv=5)\n",
    "gsearch1.fit(X_train, Y_train)"
   ]
  },
  {
   "cell_type": "code",
   "execution_count": 115,
   "metadata": {},
   "outputs": [
    {
     "data": {
      "text/plain": [
       "({0: \"mean:0.9091570171375636params{'max_depth': 5, 'min_child_weight': 1, 'n_estimators': 100}\",\n",
       "  1: \"mean:0.9470697412823397params{'max_depth': 5, 'min_child_weight': 1, 'n_estimators': 200}\",\n",
       "  2: \"mean:0.9566265246255983params{'max_depth': 5, 'min_child_weight': 1, 'n_estimators': 300}\",\n",
       "  3: \"mean:0.9599874280420829params{'max_depth': 5, 'min_child_weight': 1, 'n_estimators': 400}\",\n",
       "  4: \"mean:0.9017006881492755params{'max_depth': 5, 'min_child_weight': 3, 'n_estimators': 100}\",\n",
       "  5: \"mean:0.9373024879243035params{'max_depth': 5, 'min_child_weight': 3, 'n_estimators': 200}\",\n",
       "  6: \"mean:0.9498001720373189params{'max_depth': 5, 'min_child_weight': 3, 'n_estimators': 300}\",\n",
       "  7: \"mean:0.955681201614504params{'max_depth': 5, 'min_child_weight': 3, 'n_estimators': 400}\",\n",
       "  8: \"mean:0.8950846401552747params{'max_depth': 5, 'min_child_weight': 5, 'n_estimators': 100}\",\n",
       "  9: \"mean:0.9304762456163568params{'max_depth': 5, 'min_child_weight': 5, 'n_estimators': 200}\",\n",
       "  10: \"mean:0.9433939875162662params{'max_depth': 5, 'min_child_weight': 5, 'n_estimators': 300}\",\n",
       "  11: \"mean:0.9507456053287457params{'max_depth': 5, 'min_child_weight': 5, 'n_estimators': 400}\",\n",
       "  12: \"mean:0.934465967489358params{'max_depth': 6, 'min_child_weight': 1, 'n_estimators': 100}\",\n",
       "  13: \"mean:0.9558909548071197params{'max_depth': 6, 'min_child_weight': 1, 'n_estimators': 200}\",\n",
       "  14: \"mean:0.9617724806458016params{'max_depth': 6, 'min_child_weight': 1, 'n_estimators': 300}\",\n",
       "  15: \"mean:0.9619828403802465params{'max_depth': 6, 'min_child_weight': 1, 'n_estimators': 400}\",\n",
       "  16: \"mean:0.9251205915437041params{'max_depth': 6, 'min_child_weight': 3, 'n_estimators': 100}\",\n",
       "  17: \"mean:0.949905103773793params{'max_depth': 6, 'min_child_weight': 3, 'n_estimators': 200}\",\n",
       "  18: \"mean:0.956626304064933params{'max_depth': 6, 'min_child_weight': 3, 'n_estimators': 300}\",\n",
       "  19: \"mean:0.9592517479432718params{'max_depth': 6, 'min_child_weight': 3, 'n_estimators': 400}\",\n",
       "  20: \"mean:0.9178742363086967params{'max_depth': 6, 'min_child_weight': 5, 'n_estimators': 100}\",\n",
       "  21: \"mean:0.9440239087761089params{'max_depth': 6, 'min_child_weight': 5, 'n_estimators': 200}\",\n",
       "  22: \"mean:0.9545260151304618params{'max_depth': 6, 'min_child_weight': 5, 'n_estimators': 300}\",\n",
       "  23: \"mean:0.957466640199387params{'max_depth': 6, 'min_child_weight': 5, 'n_estimators': 400}\",\n",
       "  24: \"mean:0.9481192792077462params{'max_depth': 7, 'min_child_weight': 1, 'n_estimators': 100}\",\n",
       "  25: \"mean:0.9614581265577098params{'max_depth': 7, 'min_child_weight': 1, 'n_estimators': 200}\",\n",
       "  26: \"mean:0.9628231213745341params{'max_depth': 7, 'min_child_weight': 1, 'n_estimators': 300}\",\n",
       "  27: \"mean:0.9625080504642802params{'max_depth': 7, 'min_child_weight': 1, 'n_estimators': 400}\",\n",
       "  28: \"mean:0.9381430446194227params{'max_depth': 7, 'min_child_weight': 3, 'n_estimators': 100}\",\n",
       "  29: \"mean:0.9562066873993693params{'max_depth': 7, 'min_child_weight': 3, 'n_estimators': 200}\",\n",
       "  30: \"mean:0.959567259974856params{'max_depth': 7, 'min_child_weight': 3, 'n_estimators': 300}\",\n",
       "  31: \"mean:0.9601972363748651params{'max_depth': 7, 'min_child_weight': 3, 'n_estimators': 400}\",\n",
       "  32: \"mean:0.929637012285229params{'max_depth': 7, 'min_child_weight': 5, 'n_estimators': 100}\",\n",
       "  33: \"mean:0.9523212907210128params{'max_depth': 7, 'min_child_weight': 5, 'n_estimators': 200}\",\n",
       "  34: \"mean:0.9566266900460972params{'max_depth': 7, 'min_child_weight': 5, 'n_estimators': 300}\",\n",
       "  35: \"mean:0.9575718476366925params{'max_depth': 7, 'min_child_weight': 5, 'n_estimators': 400}\",\n",
       "  36: \"mean:0.9557867398928075params{'max_depth': 8, 'min_child_weight': 1, 'n_estimators': 100}\",\n",
       "  37: \"mean:0.96208837865855params{'max_depth': 8, 'min_child_weight': 1, 'n_estimators': 200}\",\n",
       "  38: \"mean:0.9628231213745341params{'max_depth': 8, 'min_child_weight': 1, 'n_estimators': 300}\",\n",
       "  39: \"mean:0.9627181344978937params{'max_depth': 8, 'min_child_weight': 1, 'n_estimators': 400}\",\n",
       "  40: \"mean:0.9491703059176426params{'max_depth': 8, 'min_child_weight': 3, 'n_estimators': 100}\",\n",
       "  41: \"mean:0.9604076512494762params{'max_depth': 8, 'min_child_weight': 3, 'n_estimators': 200}\",\n",
       "  42: \"mean:0.9608277090363705params{'max_depth': 8, 'min_child_weight': 3, 'n_estimators': 300}\",\n",
       "  43: \"mean:0.9611427799466243params{'max_depth': 8, 'min_child_weight': 3, 'n_estimators': 400}\",\n",
       "  44: \"mean:0.9403488718321974params{'max_depth': 8, 'min_child_weight': 5, 'n_estimators': 100}\",\n",
       "  45: \"mean:0.956102141644059params{'max_depth': 8, 'min_child_weight': 5, 'n_estimators': 200}\",\n",
       "  46: \"mean:0.957992125984252params{'max_depth': 8, 'min_child_weight': 5, 'n_estimators': 300}\",\n",
       "  47: \"mean:0.9591472021879618params{'max_depth': 8, 'min_child_weight': 5, 'n_estimators': 400}\",\n",
       "  48: \"mean:0.9584118529301484params{'max_depth': 9, 'min_child_weight': 1, 'n_estimators': 100}\",\n",
       "  49: \"mean:0.9629281633913408params{'max_depth': 9, 'min_child_weight': 1, 'n_estimators': 200}\",\n",
       "  50: \"mean:0.9636629612474911params{'max_depth': 9, 'min_child_weight': 1, 'n_estimators': 300}\",\n",
       "  51: \"mean:0.9631377511634576params{'max_depth': 9, 'min_child_weight': 1, 'n_estimators': 400}\",\n",
       "  52: \"mean:0.9540011910275922params{'max_depth': 9, 'min_child_weight': 3, 'n_estimators': 100}\",\n",
       "  53: \"mean:0.9612477116830984params{'max_depth': 9, 'min_child_weight': 3, 'n_estimators': 200}\",\n",
       "  54: \"mean:0.9613528088400715params{'max_depth': 9, 'min_child_weight': 3, 'n_estimators': 300}\",\n",
       "  55: \"mean:0.9619828403802467params{'max_depth': 9, 'min_child_weight': 3, 'n_estimators': 400}\",\n",
       "  56: \"mean:0.9449697280486997params{'max_depth': 9, 'min_child_weight': 5, 'n_estimators': 100}\",\n",
       "  57: \"mean:0.9582023202981981params{'max_depth': 9, 'min_child_weight': 5, 'n_estimators': 200}\",\n",
       "  58: \"mean:0.9589371732945147params{'max_depth': 9, 'min_child_weight': 5, 'n_estimators': 300}\",\n",
       "  59: \"mean:0.960932530492512params{'max_depth': 9, 'min_child_weight': 5, 'n_estimators': 400}\"},\n",
       " {'best_mean': 0.9636629612474911,\n",
       "  'best_param': {'max_depth': 9, 'min_child_weight': 1, 'n_estimators': 300}})"
      ]
     },
     "execution_count": 115,
     "metadata": {},
     "output_type": "execute_result"
    }
   ],
   "source": [
    "getTrainScores(gsearch1)"
   ]
  },
  {
   "cell_type": "code",
   "execution_count": 116,
   "metadata": {},
   "outputs": [
    {
     "name": "stdout",
     "output_type": "stream",
     "text": [
      "Fitting 3 folds for each of 12 candidates, totalling 36 fits\n"
     ]
    },
    {
     "name": "stderr",
     "output_type": "stream",
     "text": [
      "E:\\Anaconda\\lib\\site-packages\\xgboost\\sklearn.py:1224: UserWarning: The use of label encoder in XGBClassifier is deprecated and will be removed in a future release. To remove this warning, do the following: 1) Pass option use_label_encoder=False when constructing XGBClassifier object; and 2) Encode your labels (y) as integers starting with 0, i.e. 0, 1, 2, ..., [num_class - 1].\n",
      "  warnings.warn(label_encoder_deprecation_msg, UserWarning)\n",
      "E:\\Anaconda\\lib\\site-packages\\sklearn\\utils\\validation.py:63: DataConversionWarning: A column-vector y was passed when a 1d array was expected. Please change the shape of y to (n_samples, ), for example using ravel().\n",
      "  return f(*args, **kwargs)\n"
     ]
    },
    {
     "name": "stdout",
     "output_type": "stream",
     "text": [
      "[22:39:41] WARNING: C:/Users/Administrator/workspace/xgboost-win64_release_1.5.1/src/learner.cc:1115: Starting in XGBoost 1.3.0, the default evaluation metric used with the objective 'multi:softprob' was changed from 'merror' to 'mlogloss'. Explicitly set eval_metric if you'd like to restore the old behavior.\n"
     ]
    },
    {
     "data": {
      "text/plain": [
       "GridSearchCV(cv=3,\n",
       "             estimator=XGBClassifier(base_score=0.5, booster='gbtree',\n",
       "                                     colsample_bylevel=1, colsample_bynode=1,\n",
       "                                     colsample_bytree=0.8,\n",
       "                                     enable_categorical=False, gamma=0,\n",
       "                                     gpu_id=-1, importance_type=None,\n",
       "                                     interaction_constraints='',\n",
       "                                     learning_rate=0.1, max_delta_step=0,\n",
       "                                     max_depth=9, min_child_weight=1,\n",
       "                                     missing=nan, monotone_constraints='()',\n",
       "                                     n_estimators=300, n_jobs=4, nthread=4,\n",
       "                                     num_class=9, num_parallel_tree=1,\n",
       "                                     objective='multi:softprob',\n",
       "                                     predictor='auto', random_state=27,\n",
       "                                     reg_alpha=0, reg_lambda=1,\n",
       "                                     scale_pos_weight=None, seed=27,\n",
       "                                     subsample=0.8, tree_method='exact', ...),\n",
       "             n_jobs=-1,\n",
       "             param_grid={'max_depth': [8, 9, 10], 'min_child_weight': [1, 3],\n",
       "                         'n_estimators': range(100, 300, 100)},\n",
       "             scoring='f1_micro', verbose=10)"
      ]
     },
     "execution_count": 116,
     "metadata": {},
     "output_type": "execute_result"
    }
   ],
   "source": [
    "xgb2 = gsearch1.best_estimator_ # {'max_depth': 9, 'min_child_weight': 1, 'n_estimators': 300}})\n",
    "\n",
    "param_xgb2 = {\n",
    "    'max_depth'      : [8,9,10],\n",
    "    'n_estimators': range(100, 300, 100),\n",
    "    'min_child_weight' : [1,3]\n",
    "}\n",
    "\n",
    "gsearch2 = GridSearchCV(estimator = xgb2, param_grid = param_xgb2, scoring='f1_micro',n_jobs=-1,verbose = 10, cv=3)\n",
    "gsearch2.fit(X_train, Y_train)"
   ]
  },
  {
   "cell_type": "code",
   "execution_count": 117,
   "metadata": {},
   "outputs": [
    {
     "data": {
      "text/plain": [
       "({0: \"mean:0.934257508926696params{'max_depth': 8, 'min_child_weight': 1, 'n_estimators': 100}\",\n",
       "  1: \"mean:0.9400336063852132params{'max_depth': 8, 'min_child_weight': 1, 'n_estimators': 200}\",\n",
       "  2: \"mean:0.9272211720226843params{'max_depth': 8, 'min_child_weight': 3, 'n_estimators': 100}\",\n",
       "  3: \"mean:0.93803822726318params{'max_depth': 8, 'min_child_weight': 3, 'n_estimators': 200}\",\n",
       "  4: \"mean:0.9394034866624658params{'max_depth': 9, 'min_child_weight': 1, 'n_estimators': 100}\",\n",
       "  5: \"mean:0.9431842049989498params{'max_depth': 9, 'min_child_weight': 1, 'n_estimators': 200}\",\n",
       "  6: \"mean:0.9332073093887838params{'max_depth': 9, 'min_child_weight': 3, 'n_estimators': 100}\",\n",
       "  7: \"mean:0.9427641251837849params{'max_depth': 9, 'min_child_weight': 3, 'n_estimators': 200}\",\n",
       "  8: \"mean:0.9410838059231255params{'max_depth': 10, 'min_child_weight': 1, 'n_estimators': 100}\",\n",
       "  9: \"mean:0.9440243646292795params{'max_depth': 10, 'min_child_weight': 1, 'n_estimators': 200}\",\n",
       "  10: \"mean:0.9350976685570259params{'max_depth': 10, 'min_child_weight': 3, 'n_estimators': 100}\",\n",
       "  11: \"mean:0.9421340054610376params{'max_depth': 10, 'min_child_weight': 3, 'n_estimators': 200}\"},\n",
       " {'best_mean': 0.9440243646292795,\n",
       "  'best_param': {'max_depth': 10, 'min_child_weight': 1, 'n_estimators': 200}})"
      ]
     },
     "execution_count": 117,
     "metadata": {},
     "output_type": "execute_result"
    }
   ],
   "source": [
    "getTrainScores(gsearch2)"
   ]
  },
  {
   "cell_type": "code",
   "execution_count": null,
   "metadata": {},
   "outputs": [],
   "source": []
  },
  {
   "cell_type": "code",
   "execution_count": 118,
   "metadata": {},
   "outputs": [
    {
     "name": "stdout",
     "output_type": "stream",
     "text": [
      "Fitting 3 folds for each of 60 candidates, totalling 180 fits\n"
     ]
    },
    {
     "name": "stderr",
     "output_type": "stream",
     "text": [
      "E:\\Anaconda\\lib\\site-packages\\xgboost\\sklearn.py:1224: UserWarning: The use of label encoder in XGBClassifier is deprecated and will be removed in a future release. To remove this warning, do the following: 1) Pass option use_label_encoder=False when constructing XGBClassifier object; and 2) Encode your labels (y) as integers starting with 0, i.e. 0, 1, 2, ..., [num_class - 1].\n",
      "  warnings.warn(label_encoder_deprecation_msg, UserWarning)\n",
      "E:\\Anaconda\\lib\\site-packages\\sklearn\\utils\\validation.py:63: DataConversionWarning: A column-vector y was passed when a 1d array was expected. Please change the shape of y to (n_samples, ), for example using ravel().\n",
      "  return f(*args, **kwargs)\n"
     ]
    },
    {
     "name": "stdout",
     "output_type": "stream",
     "text": [
      "[23:01:33] WARNING: C:/Users/Administrator/workspace/xgboost-win64_release_1.5.1/src/learner.cc:1115: Starting in XGBoost 1.3.0, the default evaluation metric used with the objective 'multi:softprob' was changed from 'merror' to 'mlogloss'. Explicitly set eval_metric if you'd like to restore the old behavior.\n"
     ]
    },
    {
     "data": {
      "text/plain": [
       "GridSearchCV(cv=3,\n",
       "             estimator=XGBClassifier(base_score=0.5, booster='gbtree',\n",
       "                                     colsample_bylevel=1, colsample_bynode=1,\n",
       "                                     colsample_bytree=0.8,\n",
       "                                     enable_categorical=False, gamma=0,\n",
       "                                     gpu_id=-1, importance_type=None,\n",
       "                                     interaction_constraints='',\n",
       "                                     learning_rate=0.1, max_delta_step=0,\n",
       "                                     max_depth=10, min_child_weight=1,\n",
       "                                     missing=nan, monotone_constraints='()',\n",
       "                                     n_estimators=200, n_jobs=4, nthread=4,\n",
       "                                     num_class=9, num_parallel_tree=1,\n",
       "                                     objective='multi:softprob',\n",
       "                                     predictor='auto', random_state=27,\n",
       "                                     reg_alpha=0, reg_lambda=1,\n",
       "                                     scale_pos_weight=None, seed=27,\n",
       "                                     subsample=0.8, tree_method='exact', ...),\n",
       "             n_jobs=-1,\n",
       "             param_grid={'max_depth': range(8, 14),\n",
       "                         'n_estimators': range(100, 200, 10)},\n",
       "             scoring='f1_micro', verbose=10)"
      ]
     },
     "execution_count": 118,
     "metadata": {},
     "output_type": "execute_result"
    }
   ],
   "source": [
    "xgb3 = gsearch2.best_estimator_ #best depth 8, n 200, weight seems stable at 1 now \n",
    "\n",
    "param_xgb3 = {\n",
    "    'max_depth': range(8,14,1),\n",
    "    'n_estimators': range(100, 200, 10)}\n",
    "\n",
    "gsearch3 = GridSearchCV(estimator = xgb3, param_grid = param_xgb3, scoring='f1_micro',n_jobs=-1,verbose = 10, cv=3)\n",
    "gsearch3.fit(X_train, Y_train)"
   ]
  },
  {
   "cell_type": "code",
   "execution_count": 119,
   "metadata": {},
   "outputs": [
    {
     "data": {
      "text/plain": [
       "({0: \"mean:0.934257508926696params{'max_depth': 8, 'n_estimators': 100}\",\n",
       "  1: \"mean:0.9357277882797731params{'max_depth': 8, 'n_estimators': 110}\",\n",
       "  2: \"mean:0.9369880277252678params{'max_depth': 8, 'n_estimators': 120}\",\n",
       "  3: \"mean:0.937513127494224params{'max_depth': 8, 'n_estimators': 130}\",\n",
       "  4: \"mean:0.9376181474480152params{'max_depth': 8, 'n_estimators': 140}\",\n",
       "  5: \"mean:0.9384583070783448params{'max_depth': 8, 'n_estimators': 150}\",\n",
       "  6: \"mean:0.9392984667086747params{'max_depth': 8, 'n_estimators': 160}\",\n",
       "  7: \"mean:0.9391934467548834params{'max_depth': 8, 'n_estimators': 170}\",\n",
       "  8: \"mean:0.9391934467548834params{'max_depth': 8, 'n_estimators': 180}\",\n",
       "  9: \"mean:0.9396135265700482params{'max_depth': 8, 'n_estimators': 190}\",\n",
       "  10: \"mean:0.9394034866624658params{'max_depth': 9, 'n_estimators': 100}\",\n",
       "  11: \"mean:0.9405587061541693params{'max_depth': 9, 'n_estimators': 110}\",\n",
       "  12: \"mean:0.9406637261079606params{'max_depth': 9, 'n_estimators': 120}\",\n",
       "  13: \"mean:0.9416089056920814params{'max_depth': 9, 'n_estimators': 130}\",\n",
       "  14: \"mean:0.941818945599664params{'max_depth': 9, 'n_estimators': 140}\",\n",
       "  15: \"mean:0.9422390254148288params{'max_depth': 9, 'n_estimators': 150}\",\n",
       "  16: \"mean:0.9437093047679058params{'max_depth': 9, 'n_estimators': 160}\",\n",
       "  17: \"mean:0.943289224952741params{'max_depth': 9, 'n_estimators': 170}\",\n",
       "  18: \"mean:0.9436042848141147params{'max_depth': 9, 'n_estimators': 180}\",\n",
       "  19: \"mean:0.9433942449065323params{'max_depth': 9, 'n_estimators': 190}\",\n",
       "  20: \"mean:0.9410838059231255params{'max_depth': 10, 'n_estimators': 100}\",\n",
       "  21: \"mean:0.9415038857382902params{'max_depth': 10, 'n_estimators': 110}\",\n",
       "  22: \"mean:0.9427641251837849params{'max_depth': 10, 'n_estimators': 120}\",\n",
       "  23: \"mean:0.9437093047679058params{'max_depth': 10, 'n_estimators': 130}\",\n",
       "  24: \"mean:0.943289224952741params{'max_depth': 10, 'n_estimators': 140}\",\n",
       "  25: \"mean:0.9433942449065323params{'max_depth': 10, 'n_estimators': 150}\",\n",
       "  26: \"mean:0.9433942449065323params{'max_depth': 10, 'n_estimators': 160}\",\n",
       "  27: \"mean:0.9436042848141147params{'max_depth': 10, 'n_estimators': 170}\",\n",
       "  28: \"mean:0.944234404536862params{'max_depth': 10, 'n_estimators': 180}\",\n",
       "  29: \"mean:0.944234404536862params{'max_depth': 10, 'n_estimators': 190}\",\n",
       "  30: \"mean:0.9436042848141147params{'max_depth': 11, 'n_estimators': 100}\",\n",
       "  31: \"mean:0.9446544843520268params{'max_depth': 11, 'n_estimators': 110}\",\n",
       "  32: \"mean:0.9441293845830708params{'max_depth': 11, 'n_estimators': 120}\",\n",
       "  33: \"mean:0.9444444444444445params{'max_depth': 11, 'n_estimators': 130}\",\n",
       "  34: \"mean:0.944234404536862params{'max_depth': 11, 'n_estimators': 140}\",\n",
       "  35: \"mean:0.9441293845830708params{'max_depth': 11, 'n_estimators': 150}\",\n",
       "  36: \"mean:0.9445494643982357params{'max_depth': 11, 'n_estimators': 160}\",\n",
       "  37: \"mean:0.9445494643982357params{'max_depth': 11, 'n_estimators': 170}\",\n",
       "  38: \"mean:0.9444444444444445params{'max_depth': 11, 'n_estimators': 180}\",\n",
       "  39: \"mean:0.9437093047679058params{'max_depth': 11, 'n_estimators': 190}\",\n",
       "  40: \"mean:0.9437093047679058params{'max_depth': 12, 'n_estimators': 100}\",\n",
       "  41: \"mean:0.943289224952741params{'max_depth': 12, 'n_estimators': 110}\",\n",
       "  42: \"mean:0.9431842049989498params{'max_depth': 12, 'n_estimators': 120}\",\n",
       "  43: \"mean:0.9427641251837849params{'max_depth': 12, 'n_estimators': 130}\",\n",
       "  44: \"mean:0.9428691451375761params{'max_depth': 12, 'n_estimators': 140}\",\n",
       "  45: \"mean:0.9430791850451586params{'max_depth': 12, 'n_estimators': 150}\",\n",
       "  46: \"mean:0.9434992648603235params{'max_depth': 12, 'n_estimators': 160}\",\n",
       "  47: \"mean:0.9433942449065323params{'max_depth': 12, 'n_estimators': 170}\",\n",
       "  48: \"mean:0.944234404536862params{'max_depth': 12, 'n_estimators': 180}\",\n",
       "  49: \"mean:0.9436042848141146params{'max_depth': 12, 'n_estimators': 190}\",\n",
       "  50: \"mean:0.9426591052299936params{'max_depth': 13, 'n_estimators': 100}\",\n",
       "  51: \"mean:0.9428691451375762params{'max_depth': 13, 'n_estimators': 110}\",\n",
       "  52: \"mean:0.9428691451375761params{'max_depth': 13, 'n_estimators': 120}\",\n",
       "  53: \"mean:0.9429741650913673params{'max_depth': 13, 'n_estimators': 130}\",\n",
       "  54: \"mean:0.9429741650913673params{'max_depth': 13, 'n_estimators': 140}\",\n",
       "  55: \"mean:0.9434992648603234params{'max_depth': 13, 'n_estimators': 150}\",\n",
       "  56: \"mean:0.9433942449065323params{'max_depth': 13, 'n_estimators': 160}\",\n",
       "  57: \"mean:0.9433942449065323params{'max_depth': 13, 'n_estimators': 170}\",\n",
       "  58: \"mean:0.9430791850451584params{'max_depth': 13, 'n_estimators': 180}\",\n",
       "  59: \"mean:0.9430791850451586params{'max_depth': 13, 'n_estimators': 190}\"},\n",
       " {'best_mean': 0.9446544843520268,\n",
       "  'best_param': {'max_depth': 11, 'n_estimators': 110}})"
      ]
     },
     "execution_count": 119,
     "metadata": {},
     "output_type": "execute_result"
    }
   ],
   "source": [
    "getTrainScores(gsearch3)"
   ]
  },
  {
   "cell_type": "code",
   "execution_count": 120,
   "metadata": {},
   "outputs": [
    {
     "name": "stdout",
     "output_type": "stream",
     "text": [
      "Fitting 3 folds for each of 24 candidates, totalling 72 fits\n"
     ]
    },
    {
     "name": "stderr",
     "output_type": "stream",
     "text": [
      "E:\\Anaconda\\lib\\site-packages\\xgboost\\sklearn.py:1224: UserWarning: The use of label encoder in XGBClassifier is deprecated and will be removed in a future release. To remove this warning, do the following: 1) Pass option use_label_encoder=False when constructing XGBClassifier object; and 2) Encode your labels (y) as integers starting with 0, i.e. 0, 1, 2, ..., [num_class - 1].\n",
      "  warnings.warn(label_encoder_deprecation_msg, UserWarning)\n",
      "E:\\Anaconda\\lib\\site-packages\\sklearn\\utils\\validation.py:63: DataConversionWarning: A column-vector y was passed when a 1d array was expected. Please change the shape of y to (n_samples, ), for example using ravel().\n",
      "  return f(*args, **kwargs)\n"
     ]
    },
    {
     "name": "stdout",
     "output_type": "stream",
     "text": [
      "[23:10:06] WARNING: C:/Users/Administrator/workspace/xgboost-win64_release_1.5.1/src/learner.cc:1115: Starting in XGBoost 1.3.0, the default evaluation metric used with the objective 'multi:softprob' was changed from 'merror' to 'mlogloss'. Explicitly set eval_metric if you'd like to restore the old behavior.\n"
     ]
    },
    {
     "data": {
      "text/plain": [
       "GridSearchCV(cv=3,\n",
       "             estimator=XGBClassifier(base_score=0.5, booster='gbtree',\n",
       "                                     colsample_bylevel=1, colsample_bynode=1,\n",
       "                                     colsample_bytree=0.8,\n",
       "                                     enable_categorical=False, gamma=0,\n",
       "                                     gpu_id=-1, importance_type=None,\n",
       "                                     interaction_constraints='',\n",
       "                                     learning_rate=0.1, max_delta_step=0,\n",
       "                                     max_depth=11, min_child_weight=1,\n",
       "                                     missing=nan, monotone_constraints='()',\n",
       "                                     n_estimators=110, n_jobs=4, nthread=4,\n",
       "                                     num_class=9, num_parallel_tree=1,\n",
       "                                     objective='multi:softprob',\n",
       "                                     predictor='auto', random_state=27,\n",
       "                                     reg_alpha=0, reg_lambda=1,\n",
       "                                     scale_pos_weight=None, seed=27,\n",
       "                                     subsample=0.8, tree_method='exact', ...),\n",
       "             n_jobs=-1,\n",
       "             param_grid={'max_depth': range(10, 14),\n",
       "                         'n_estimators': range(50, 110, 10)},\n",
       "             scoring='f1_micro', verbose=10)"
      ]
     },
     "execution_count": 120,
     "metadata": {},
     "output_type": "execute_result"
    }
   ],
   "source": [
    "xgb4 = gsearch3.best_estimator_ #best depth 11, n 110, weight seems stable at 1 now \n",
    "\n",
    "param_xgb4 = {\n",
    "    'max_depth': range(10,14,1),\n",
    "    'n_estimators': range(50,110,10)}\n",
    "\n",
    "gsearch4 = GridSearchCV(estimator = xgb4, param_grid = param_xgb4, scoring='f1_micro',n_jobs=-1,verbose = 10, cv=3)\n",
    "gsearch4.fit(X_train, Y_train)"
   ]
  },
  {
   "cell_type": "code",
   "execution_count": 121,
   "metadata": {},
   "outputs": [
    {
     "data": {
      "text/plain": [
       "({0: \"mean:0.9325771896660365params{'max_depth': 10, 'n_estimators': 50}\",\n",
       "  1: \"mean:0.9362528880487293params{'max_depth': 10, 'n_estimators': 60}\",\n",
       "  2: \"mean:0.9375131274942238params{'max_depth': 10, 'n_estimators': 70}\",\n",
       "  3: \"mean:0.9392984667086747params{'max_depth': 10, 'n_estimators': 80}\",\n",
       "  4: \"mean:0.9407687460617518params{'max_depth': 10, 'n_estimators': 90}\",\n",
       "  5: \"mean:0.9410838059231255params{'max_depth': 10, 'n_estimators': 100}\",\n",
       "  6: \"mean:0.93803822726318params{'max_depth': 11, 'n_estimators': 50}\",\n",
       "  7: \"mean:0.9401386263390044params{'max_depth': 11, 'n_estimators': 60}\",\n",
       "  8: \"mean:0.941398865784499params{'max_depth': 11, 'n_estimators': 70}\",\n",
       "  9: \"mean:0.9429741650913673params{'max_depth': 11, 'n_estimators': 80}\",\n",
       "  10: \"mean:0.9441293845830708params{'max_depth': 11, 'n_estimators': 90}\",\n",
       "  11: \"mean:0.9436042848141147params{'max_depth': 11, 'n_estimators': 100}\",\n",
       "  12: \"mean:0.9407687460617516params{'max_depth': 12, 'n_estimators': 50}\",\n",
       "  13: \"mean:0.9415038857382902params{'max_depth': 12, 'n_estimators': 60}\",\n",
       "  14: \"mean:0.9423440453686199params{'max_depth': 12, 'n_estimators': 70}\",\n",
       "  15: \"mean:0.9430791850451586params{'max_depth': 12, 'n_estimators': 80}\",\n",
       "  16: \"mean:0.9439193446754883params{'max_depth': 12, 'n_estimators': 90}\",\n",
       "  17: \"mean:0.9437093047679058params{'max_depth': 12, 'n_estimators': 100}\",\n",
       "  18: \"mean:0.9397185465238395params{'max_depth': 13, 'n_estimators': 50}\",\n",
       "  19: \"mean:0.9416089056920814params{'max_depth': 13, 'n_estimators': 60}\",\n",
       "  20: \"mean:0.9420289855072465params{'max_depth': 13, 'n_estimators': 70}\",\n",
       "  21: \"mean:0.9436042848141147params{'max_depth': 13, 'n_estimators': 80}\",\n",
       "  22: \"mean:0.9429741650913673params{'max_depth': 13, 'n_estimators': 90}\",\n",
       "  23: \"mean:0.9426591052299936params{'max_depth': 13, 'n_estimators': 100}\"},\n",
       " {'best_mean': 0.9441293845830708,\n",
       "  'best_param': {'max_depth': 11, 'n_estimators': 90}})"
      ]
     },
     "execution_count": 121,
     "metadata": {},
     "output_type": "execute_result"
    }
   ],
   "source": [
    "getTrainScores(gsearch4)"
   ]
  },
  {
   "cell_type": "code",
   "execution_count": 122,
   "metadata": {},
   "outputs": [
    {
     "name": "stdout",
     "output_type": "stream",
     "text": [
      "Fitting 3 folds for each of 8 candidates, totalling 24 fits\n"
     ]
    },
    {
     "name": "stderr",
     "output_type": "stream",
     "text": [
      "E:\\Anaconda\\lib\\site-packages\\xgboost\\sklearn.py:1224: UserWarning: The use of label encoder in XGBClassifier is deprecated and will be removed in a future release. To remove this warning, do the following: 1) Pass option use_label_encoder=False when constructing XGBClassifier object; and 2) Encode your labels (y) as integers starting with 0, i.e. 0, 1, 2, ..., [num_class - 1].\n",
      "  warnings.warn(label_encoder_deprecation_msg, UserWarning)\n",
      "E:\\Anaconda\\lib\\site-packages\\sklearn\\utils\\validation.py:63: DataConversionWarning: A column-vector y was passed when a 1d array was expected. Please change the shape of y to (n_samples, ), for example using ravel().\n",
      "  return f(*args, **kwargs)\n"
     ]
    },
    {
     "name": "stdout",
     "output_type": "stream",
     "text": [
      "[23:23:09] WARNING: C:/Users/Administrator/workspace/xgboost-win64_release_1.5.1/src/learner.cc:1115: Starting in XGBoost 1.3.0, the default evaluation metric used with the objective 'multi:softprob' was changed from 'merror' to 'mlogloss'. Explicitly set eval_metric if you'd like to restore the old behavior.\n"
     ]
    },
    {
     "data": {
      "text/plain": [
       "({0: \"mean:0.93803822726318params{'n_estimators': 50}\",\n",
       "  1: \"mean:0.9384583070783449params{'n_estimators': 55}\",\n",
       "  2: \"mean:0.9401386263390044params{'n_estimators': 60}\",\n",
       "  3: \"mean:0.9407687460617516params{'n_estimators': 65}\",\n",
       "  4: \"mean:0.941398865784499params{'n_estimators': 70}\",\n",
       "  5: \"mean:0.9420289855072465params{'n_estimators': 75}\",\n",
       "  6: \"mean:0.9429741650913673params{'n_estimators': 80}\",\n",
       "  7: \"mean:0.9440243646292795params{'n_estimators': 85}\"},\n",
       " {'best_mean': 0.9440243646292795, 'best_param': {'n_estimators': 85}})"
      ]
     },
     "execution_count": 122,
     "metadata": {},
     "output_type": "execute_result"
    }
   ],
   "source": [
    "xgb5 = gsearch4.best_estimator_ #best depth 15, n 200,\n",
    "\n",
    "param_xgb5 = {\n",
    "    'n_estimators': range(50,90,5)}\n",
    "\n",
    "gsearch5 = GridSearchCV(estimator = xgb5, param_grid = param_xgb5, scoring='f1_micro',n_jobs=-1,verbose = 10, cv=3)\n",
    "gsearch5.fit(X_train, Y_train)\n",
    "\n",
    "getTrainScores(gsearch5)"
   ]
  },
  {
   "cell_type": "code",
   "execution_count": 123,
   "metadata": {},
   "outputs": [
    {
     "name": "stdout",
     "output_type": "stream",
     "text": [
      "Fitting 3 folds for each of 10 candidates, totalling 30 fits\n"
     ]
    },
    {
     "name": "stderr",
     "output_type": "stream",
     "text": [
      "E:\\Anaconda\\lib\\site-packages\\xgboost\\sklearn.py:1224: UserWarning: The use of label encoder in XGBClassifier is deprecated and will be removed in a future release. To remove this warning, do the following: 1) Pass option use_label_encoder=False when constructing XGBClassifier object; and 2) Encode your labels (y) as integers starting with 0, i.e. 0, 1, 2, ..., [num_class - 1].\n",
      "  warnings.warn(label_encoder_deprecation_msg, UserWarning)\n",
      "E:\\Anaconda\\lib\\site-packages\\sklearn\\utils\\validation.py:63: DataConversionWarning: A column-vector y was passed when a 1d array was expected. Please change the shape of y to (n_samples, ), for example using ravel().\n",
      "  return f(*args, **kwargs)\n"
     ]
    },
    {
     "name": "stdout",
     "output_type": "stream",
     "text": [
      "[23:26:33] WARNING: C:/Users/Administrator/workspace/xgboost-win64_release_1.5.1/src/learner.cc:1115: Starting in XGBoost 1.3.0, the default evaluation metric used with the objective 'multi:softprob' was changed from 'merror' to 'mlogloss'. Explicitly set eval_metric if you'd like to restore the old behavior.\n"
     ]
    },
    {
     "data": {
      "text/plain": [
       "({0: \"mean:0.9420289855072465params{'n_estimators': 75}\",\n",
       "  1: \"mean:0.9422390254148288params{'n_estimators': 76}\",\n",
       "  2: \"mean:0.9424490653224114params{'n_estimators': 77}\",\n",
       "  3: \"mean:0.9429741650913673params{'n_estimators': 78}\",\n",
       "  4: \"mean:0.9429741650913673params{'n_estimators': 79}\",\n",
       "  5: \"mean:0.9429741650913673params{'n_estimators': 80}\",\n",
       "  6: \"mean:0.9433942449065323params{'n_estimators': 81}\",\n",
       "  7: \"mean:0.9438143247216971params{'n_estimators': 82}\",\n",
       "  8: \"mean:0.9434992648603234params{'n_estimators': 83}\",\n",
       "  9: \"mean:0.9444444444444445params{'n_estimators': 84}\"},\n",
       " {'best_mean': 0.9444444444444445, 'best_param': {'n_estimators': 84}})"
      ]
     },
     "execution_count": 123,
     "metadata": {},
     "output_type": "execute_result"
    }
   ],
   "source": [
    "xgb5 = gsearch4.best_estimator_ # 'best_param': {'n_estimators': 85}})\n",
    "\n",
    "param_xgb5 = {\n",
    "    'n_estimators': range(75,85,1)}\n",
    "\n",
    "gsearch5 = GridSearchCV(estimator = xgb5, param_grid = param_xgb5, scoring='f1_micro',n_jobs=-1,verbose = 10, cv=3)\n",
    "gsearch5.fit(X_train, Y_train)\n",
    "\n",
    "getTrainScores(gsearch5)"
   ]
  },
  {
   "cell_type": "code",
   "execution_count": 125,
   "metadata": {},
   "outputs": [
    {
     "name": "stdout",
     "output_type": "stream",
     "text": [
      "Fitting 3 folds for each of 5 candidates, totalling 15 fits\n"
     ]
    },
    {
     "name": "stderr",
     "output_type": "stream",
     "text": [
      "E:\\Anaconda\\lib\\site-packages\\xgboost\\sklearn.py:1224: UserWarning: The use of label encoder in XGBClassifier is deprecated and will be removed in a future release. To remove this warning, do the following: 1) Pass option use_label_encoder=False when constructing XGBClassifier object; and 2) Encode your labels (y) as integers starting with 0, i.e. 0, 1, 2, ..., [num_class - 1].\n",
      "  warnings.warn(label_encoder_deprecation_msg, UserWarning)\n",
      "E:\\Anaconda\\lib\\site-packages\\sklearn\\utils\\validation.py:63: DataConversionWarning: A column-vector y was passed when a 1d array was expected. Please change the shape of y to (n_samples, ), for example using ravel().\n",
      "  return f(*args, **kwargs)\n"
     ]
    },
    {
     "name": "stdout",
     "output_type": "stream",
     "text": [
      "[23:32:18] WARNING: C:/Users/Administrator/workspace/xgboost-win64_release_1.5.1/src/learner.cc:1115: Starting in XGBoost 1.3.0, the default evaluation metric used with the objective 'multi:softprob' was changed from 'merror' to 'mlogloss'. Explicitly set eval_metric if you'd like to restore the old behavior.\n"
     ]
    },
    {
     "data": {
      "text/plain": [
       "({0: \"mean:0.9429741650913673params{'n_estimators': 80}\",\n",
       "  1: \"mean:0.9433942449065323params{'n_estimators': 81}\",\n",
       "  2: \"mean:0.9438143247216971params{'n_estimators': 82}\",\n",
       "  3: \"mean:0.9434992648603234params{'n_estimators': 83}\",\n",
       "  4: \"mean:0.9444444444444445params{'n_estimators': 84}\"},\n",
       " {'best_mean': 0.9444444444444445, 'best_param': {'n_estimators': 84}})"
      ]
     },
     "execution_count": 125,
     "metadata": {},
     "output_type": "execute_result"
    }
   ],
   "source": [
    "xgb6 = gsearch5.best_estimator_ # 'best_param': {'n_estimators': 85}})\n",
    "\n",
    "param_xgb6 = {\n",
    "    'n_estimators': range(80,85,1)}\n",
    "\n",
    "gsearch6 = GridSearchCV(estimator = xgb6, param_grid = param_xgb6, scoring='f1_micro',n_jobs=-1,verbose = 10, cv=3)\n",
    "gsearch6.fit(X_train, Y_train)\n",
    "\n",
    "getTrainScores(gsearch6)"
   ]
  },
  {
   "cell_type": "code",
   "execution_count": 126,
   "metadata": {},
   "outputs": [
    {
     "name": "stdout",
     "output_type": "stream",
     "text": [
      "[23:33:59] WARNING: C:/Users/Administrator/workspace/xgboost-win64_release_1.5.1/src/learner.cc:1115: Starting in XGBoost 1.3.0, the default evaluation metric used with the objective 'multi:softprob' was changed from 'merror' to 'mlogloss'. Explicitly set eval_metric if you'd like to restore the old behavior.\n",
      "xgb Train Accuracy:1.0\n",
      "xgb Train F1-Score(Micro):1.0\n",
      "xgb Train F1-Score(weighted):1.0\n",
      "------\n",
      "xgb Test Accuracy:0.9829329962073325\n",
      "xgb Test F1-Score(Micro):0.9829329962073325\n",
      "xgb Test F1-Score(weighted):0.9829108063954028\n"
     ]
    },
    {
     "data": {
      "image/png": "[encoded data removed]",
      "text/plain": [
       "<Figure size 720x360 with 1 Axes>"
      ]
     },
     "metadata": {},
     "output_type": "display_data"
    }
   ],
   "source": [
    "final_xgb = gsearch6.best_estimator_\n",
    "final_xgb.fit(training_data['X_train'], training_data['Y_train'].reshape(training_data['Y_train'].shape[0],))\n",
    "predicted_labels = final_xgb.predict(training_data['X_test'])\n",
    "\n",
    "train_pred = final_xgb.predict(training_data['X_train'])\n",
    "\n",
    "print('xgb Train Accuracy:'+str(accuracy_score(training_data['Y_train'], train_pred)))\n",
    "print('xgb Train F1-Score(Micro):'+str(f1_score(training_data['Y_train'], train_pred,average='micro')))\n",
    "print('xgb Train F1-Score(weighted):'+str(f1_score(training_data['Y_train'], train_pred,average='weighted')))\n",
    "print('------')\n",
    "print('xgb Test Accuracy:'+str(accuracy_score(training_data['Y_test'], predicted_labels)))\n",
    "print('xgb Test F1-Score(Micro):'+str(f1_score(training_data['Y_test'], predicted_labels,average='micro')))\n",
    "print('xgb Test F1-Score(weighted):'+str(f1_score(training_data['Y_test'], predicted_labels,average='weighted')))\n",
    "\n",
    "f, ax = plt.subplots(figsize=(10,5))\n",
    "features = ['nTouchpoints', 'touchpoint_emailDestination',\n",
    "       'touchpoint_emailDiscount', 'touchpoint_emailGift',\n",
    "       'touchpoint_mailDestination', 'touchpoint_mailDiscount',\n",
    "       'touchpoint_mailGift', 'touchpoint_smsDestination',\n",
    "       'touchpoint_smsDiscount', 'touchpoint_smsGift', 'marital_divorced',\n",
    "       'marital_married', 'marital_single', 'segment_P1', 'segment_P2',\n",
    "       'segment_P3', 'segment_P4', 'SocialMedia_N', 'SocialMedia_U',\n",
    "       'SocialMedia_Y', 'creditRating_A', 'creditRating_B', 'creditRating_C',\n",
    "       'creditRating_D', 'creditRating_E', 'creditRating_F', 'creditRating_G',\n",
    "       'creditRating_New', 'nAveSpend', 'nIncome', 'nAge']\n",
    "\n",
    "plot = sns.barplot(x=features, y=final_xgb.feature_importances_)\n",
    "ax.set_title('Feature Importance')\n",
    "plot.set_xticklabels(plot.get_xticklabels(),rotation='vertical')\n",
    "plt.show()\n",
    "\n",
    "# segment has the lowest weights\n",
    "# marital, creditrating, and socialmedia have relatively low importance! \n",
    "# see way higher weights on touchpoints\n",
    "\n",
    "# slightly higher in test accuracy and f1-score"
   ]
  },
  {
   "cell_type": "code",
   "execution_count": null,
   "metadata": {},
   "outputs": [],
   "source": []
  },
  {
   "cell_type": "code",
   "execution_count": 127,
   "metadata": {},
   "outputs": [
    {
     "data": {
      "text/plain": [
       "1    4708\n",
       "2    2767\n",
       "3    1529\n",
       "4     994\n",
       "5     591\n",
       "8     568\n",
       "9     561\n",
       "7     518\n",
       "6     455\n",
       "Name: label, dtype: int64"
      ]
     },
     "execution_count": 127,
     "metadata": {},
     "output_type": "execute_result"
    }
   ],
   "source": [
    "df_select.label.value_counts()"
   ]
  },
  {
   "cell_type": "code",
   "execution_count": 128,
   "metadata": {},
   "outputs": [
    {
     "data": {
      "text/plain": [
       "0"
      ]
     },
     "execution_count": 128,
     "metadata": {},
     "output_type": "execute_result"
    }
   ],
   "source": [
    "df_select.label.isnull().sum()"
   ]
  },
  {
   "cell_type": "code",
   "execution_count": 133,
   "metadata": {},
   "outputs": [
    {
     "name": "stdout",
     "output_type": "stream",
     "text": [
      "[23:44:12] WARNING: C:/Users/Administrator/workspace/xgboost-win64_release_1.5.1/src/learner.cc:1115: Starting in XGBoost 1.3.0, the default evaluation metric used with the objective 'multi:softprob' was changed from 'merror' to 'mlogloss'. Explicitly set eval_metric if you'd like to restore the old behavior.\n",
      "[0]\tvalidation_0-mlogloss:1.90088\tvalidation_1-mlogloss:1.91631\n",
      "[1]\tvalidation_0-mlogloss:1.67033\tvalidation_1-mlogloss:1.69987\n",
      "[2]\tvalidation_0-mlogloss:1.49195\tvalidation_1-mlogloss:1.52911\n",
      "[3]\tvalidation_0-mlogloss:1.34094\tvalidation_1-mlogloss:1.38435\n",
      "[4]\tvalidation_0-mlogloss:1.22269\tvalidation_1-mlogloss:1.27308\n",
      "[5]\tvalidation_0-mlogloss:1.11782\tvalidation_1-mlogloss:1.17158\n",
      "[6]\tvalidation_0-mlogloss:1.02824\tvalidation_1-mlogloss:1.08693\n",
      "[7]\tvalidation_0-mlogloss:0.94235\tvalidation_1-mlogloss:1.00436\n",
      "[8]\tvalidation_0-mlogloss:0.86917\tvalidation_1-mlogloss:0.93534\n",
      "[9]\tvalidation_0-mlogloss:0.80702\tvalidation_1-mlogloss:0.87729\n",
      "[10]\tvalidation_0-mlogloss:0.74687\tvalidation_1-mlogloss:0.81865\n",
      "[11]\tvalidation_0-mlogloss:0.69532\tvalidation_1-mlogloss:0.76859\n",
      "[12]\tvalidation_0-mlogloss:0.64482\tvalidation_1-mlogloss:0.71960\n",
      "[13]\tvalidation_0-mlogloss:0.59977\tvalidation_1-mlogloss:0.67574\n",
      "[14]\tvalidation_0-mlogloss:0.55961\tvalidation_1-mlogloss:0.63649\n",
      "[15]\tvalidation_0-mlogloss:0.52158\tvalidation_1-mlogloss:0.59909\n",
      "[16]\tvalidation_0-mlogloss:0.48775\tvalidation_1-mlogloss:0.56572\n",
      "[17]\tvalidation_0-mlogloss:0.45576\tvalidation_1-mlogloss:0.53432\n",
      "[18]\tvalidation_0-mlogloss:0.42573\tvalidation_1-mlogloss:0.50463\n",
      "[19]\tvalidation_0-mlogloss:0.40015\tvalidation_1-mlogloss:0.47961\n",
      "[20]\tvalidation_0-mlogloss:0.37683\tvalidation_1-mlogloss:0.45678\n",
      "[21]\tvalidation_0-mlogloss:0.35458\tvalidation_1-mlogloss:0.43439\n",
      "[22]\tvalidation_0-mlogloss:0.33244\tvalidation_1-mlogloss:0.41226\n",
      "[23]\tvalidation_0-mlogloss:0.31473\tvalidation_1-mlogloss:0.39478\n",
      "[24]\tvalidation_0-mlogloss:0.29690\tvalidation_1-mlogloss:0.37725\n",
      "[25]\tvalidation_0-mlogloss:0.28145\tvalidation_1-mlogloss:0.36123\n",
      "[26]\tvalidation_0-mlogloss:0.26722\tvalidation_1-mlogloss:0.34674\n",
      "[27]\tvalidation_0-mlogloss:0.25343\tvalidation_1-mlogloss:0.33297\n",
      "[28]\tvalidation_0-mlogloss:0.24110\tvalidation_1-mlogloss:0.32063\n",
      "[29]\tvalidation_0-mlogloss:0.22982\tvalidation_1-mlogloss:0.30889\n",
      "[30]\tvalidation_0-mlogloss:0.21864\tvalidation_1-mlogloss:0.29709\n",
      "[31]\tvalidation_0-mlogloss:0.20824\tvalidation_1-mlogloss:0.28636\n",
      "[32]\tvalidation_0-mlogloss:0.19796\tvalidation_1-mlogloss:0.27610\n",
      "[33]\tvalidation_0-mlogloss:0.18792\tvalidation_1-mlogloss:0.26532\n",
      "[34]\tvalidation_0-mlogloss:0.17989\tvalidation_1-mlogloss:0.25659\n",
      "[35]\tvalidation_0-mlogloss:0.17143\tvalidation_1-mlogloss:0.24784\n",
      "[36]\tvalidation_0-mlogloss:0.16422\tvalidation_1-mlogloss:0.24014\n",
      "[37]\tvalidation_0-mlogloss:0.15715\tvalidation_1-mlogloss:0.23241\n",
      "[38]\tvalidation_0-mlogloss:0.15023\tvalidation_1-mlogloss:0.22476\n",
      "[39]\tvalidation_0-mlogloss:0.14450\tvalidation_1-mlogloss:0.21861\n",
      "[40]\tvalidation_0-mlogloss:0.13853\tvalidation_1-mlogloss:0.21214\n",
      "[41]\tvalidation_0-mlogloss:0.13377\tvalidation_1-mlogloss:0.20681\n",
      "[42]\tvalidation_0-mlogloss:0.12802\tvalidation_1-mlogloss:0.20040\n",
      "[43]\tvalidation_0-mlogloss:0.12353\tvalidation_1-mlogloss:0.19524\n",
      "[44]\tvalidation_0-mlogloss:0.11904\tvalidation_1-mlogloss:0.19007\n",
      "[45]\tvalidation_0-mlogloss:0.11443\tvalidation_1-mlogloss:0.18516\n",
      "[46]\tvalidation_0-mlogloss:0.11137\tvalidation_1-mlogloss:0.18179\n",
      "[47]\tvalidation_0-mlogloss:0.10771\tvalidation_1-mlogloss:0.17760\n",
      "[48]\tvalidation_0-mlogloss:0.10400\tvalidation_1-mlogloss:0.17355\n",
      "[49]\tvalidation_0-mlogloss:0.10032\tvalidation_1-mlogloss:0.16951\n",
      "[50]\tvalidation_0-mlogloss:0.09732\tvalidation_1-mlogloss:0.16591\n",
      "[51]\tvalidation_0-mlogloss:0.09427\tvalidation_1-mlogloss:0.16262\n",
      "[52]\tvalidation_0-mlogloss:0.09090\tvalidation_1-mlogloss:0.15843\n",
      "[53]\tvalidation_0-mlogloss:0.08812\tvalidation_1-mlogloss:0.15505\n",
      "[54]\tvalidation_0-mlogloss:0.08573\tvalidation_1-mlogloss:0.15218\n",
      "[55]\tvalidation_0-mlogloss:0.08327\tvalidation_1-mlogloss:0.14931\n",
      "[56]\tvalidation_0-mlogloss:0.08097\tvalidation_1-mlogloss:0.14675\n",
      "[57]\tvalidation_0-mlogloss:0.07871\tvalidation_1-mlogloss:0.14418\n",
      "[58]\tvalidation_0-mlogloss:0.07672\tvalidation_1-mlogloss:0.14175\n",
      "[59]\tvalidation_0-mlogloss:0.07473\tvalidation_1-mlogloss:0.13923\n",
      "[60]\tvalidation_0-mlogloss:0.07272\tvalidation_1-mlogloss:0.13685\n",
      "[61]\tvalidation_0-mlogloss:0.07096\tvalidation_1-mlogloss:0.13478\n",
      "[62]\tvalidation_0-mlogloss:0.06877\tvalidation_1-mlogloss:0.13198\n",
      "[63]\tvalidation_0-mlogloss:0.06708\tvalidation_1-mlogloss:0.13031\n",
      "[64]\tvalidation_0-mlogloss:0.06546\tvalidation_1-mlogloss:0.12835\n",
      "[65]\tvalidation_0-mlogloss:0.06396\tvalidation_1-mlogloss:0.12666\n",
      "[66]\tvalidation_0-mlogloss:0.06242\tvalidation_1-mlogloss:0.12494\n",
      "[67]\tvalidation_0-mlogloss:0.06100\tvalidation_1-mlogloss:0.12329\n",
      "[68]\tvalidation_0-mlogloss:0.05964\tvalidation_1-mlogloss:0.12171\n",
      "[69]\tvalidation_0-mlogloss:0.05833\tvalidation_1-mlogloss:0.12030\n",
      "[70]\tvalidation_0-mlogloss:0.05714\tvalidation_1-mlogloss:0.11922\n",
      "[71]\tvalidation_0-mlogloss:0.05599\tvalidation_1-mlogloss:0.11775\n",
      "[72]\tvalidation_0-mlogloss:0.05482\tvalidation_1-mlogloss:0.11639\n",
      "[73]\tvalidation_0-mlogloss:0.05391\tvalidation_1-mlogloss:0.11521\n",
      "[74]\tvalidation_0-mlogloss:0.05287\tvalidation_1-mlogloss:0.11370\n",
      "[75]\tvalidation_0-mlogloss:0.05183\tvalidation_1-mlogloss:0.11257\n",
      "[76]\tvalidation_0-mlogloss:0.05067\tvalidation_1-mlogloss:0.11107\n",
      "[77]\tvalidation_0-mlogloss:0.04941\tvalidation_1-mlogloss:0.10948\n",
      "[78]\tvalidation_0-mlogloss:0.04841\tvalidation_1-mlogloss:0.10821\n",
      "[79]\tvalidation_0-mlogloss:0.04731\tvalidation_1-mlogloss:0.10706\n",
      "[80]\tvalidation_0-mlogloss:0.04641\tvalidation_1-mlogloss:0.10608\n",
      "[81]\tvalidation_0-mlogloss:0.04568\tvalidation_1-mlogloss:0.10516\n",
      "[82]\tvalidation_0-mlogloss:0.04484\tvalidation_1-mlogloss:0.10425\n",
      "[83]\tvalidation_0-mlogloss:0.04385\tvalidation_1-mlogloss:0.10307\n"
     ]
    }
   ],
   "source": [
    "eval_set = [(X_train, Y_train), (X_test, Y_test)]\n",
    "\n",
    "final_xgb.fit(training_data['X_train'], training_data['Y_train'].reshape(training_data['Y_train'].shape[0],),\n",
    "             eval_set= eval_set)\n",
    "\n",
    "# make predictions for test data\n",
    "train_pred = final_xgb.predict(X_test)\n",
    "predictions = [round(value) for value in train_pred]\n",
    "\n",
    "# retrieve performance metrics\n",
    "results = final_xgb.evals_result()\n",
    "\n"
   ]
  },
  {
   "cell_type": "code",
   "execution_count": 138,
   "metadata": {},
   "outputs": [],
   "source": [
    "import matplotlib.pyplot as plt"
   ]
  },
  {
   "cell_type": "code",
   "execution_count": 143,
   "metadata": {},
   "outputs": [
    {
     "data": {
      "image/png": "[encoded data removed]",
      "text/plain": [
       "<Figure size 432x288 with 1 Axes>"
      ]
     },
     "metadata": {},
     "output_type": "display_data"
    }
   ],
   "source": [
    "epochs = len(results['validation_0']['mlogloss'])\n",
    "# WARNING: C:/Users/Administrator/workspace/xgboost-win64_release_1.5.1/src/learner.cc:1115: Starting in XGBoost 1.3.0, the default evaluation metric used with the objective 'multi:softprob' was changed from 'merror' to 'mlogloss'.\n",
    "# Explicitly set eval_metric if you'd like to restore the old behavior.\n",
    "\n",
    "x_axis = range(0, epochs)\n",
    "\n",
    "# plot log loss\n",
    " \n",
    "\n",
    "fig, ax = plt.subplots()\n",
    "plt.plot(x_axis, results['validation_0']['mlogloss'], label='Train')\n",
    "plt.plot(x_axis, results['validation_1']['mlogloss'], label='Test')\n",
    "ax.legend()\n",
    "plt.ylabel('Log Loss')\n",
    "plt.title('XGBoost Log Loss')\n",
    "plt.show()\n"
   ]
  },
  {
   "cell_type": "code",
   "execution_count": null,
   "metadata": {},
   "outputs": [],
   "source": []
  },
  {
   "cell_type": "code",
   "execution_count": null,
   "metadata": {},
   "outputs": [],
   "source": []
  },
  {
   "cell_type": "code",
   "execution_count": null,
   "metadata": {},
   "outputs": [],
   "source": []
  },
  {
   "cell_type": "code",
   "execution_count": null,
   "metadata": {},
   "outputs": [],
   "source": []
  },
  {
   "cell_type": "code",
   "execution_count": null,
   "metadata": {},
   "outputs": [],
   "source": []
  },
  {
   "cell_type": "code",
   "execution_count": null,
   "metadata": {},
   "outputs": [],
   "source": []
  },
  {
   "cell_type": "code",
   "execution_count": null,
   "metadata": {},
   "outputs": [],
   "source": []
  },
  {
   "cell_type": "code",
   "execution_count": null,
   "metadata": {},
   "outputs": [],
   "source": []
  },
  {
   "cell_type": "code",
   "execution_count": null,
   "metadata": {},
   "outputs": [],
   "source": []
  },
  {
   "cell_type": "code",
   "execution_count": null,
   "metadata": {},
   "outputs": [],
   "source": []
  },
  {
   "cell_type": "code",
   "execution_count": null,
   "metadata": {},
   "outputs": [],
   "source": [
    "# model deploy "
   ]
  },
  {
   "cell_type": "code",
   "execution_count": null,
   "metadata": {},
   "outputs": [],
   "source": [
    "import pickle\n",
    "\n",
    "pickl = {'model': final_xgb}\n",
    "pickle.dump(pickl, open('model_file'+'.p','wb'))"
   ]
  },
  {
   "cell_type": "code",
   "execution_count": null,
   "metadata": {},
   "outputs": [],
   "source": [
    "file_name = 'model_file.p'\n",
    "with open(file_name,'rb') as pickled:\n",
    "    data = pickle.load(pickled)\n",
    "    model = data['model']"
   ]
  },
  {
   "cell_type": "code",
   "execution_count": null,
   "metadata": {},
   "outputs": [],
   "source": [
    "#input transformed values to make a prediction in FlaskAPI\n",
    "# model.predict(X_test[4,:].reshape(1,-1))"
   ]
  }
 ],
 "metadata": {
  "kernelspec": {
   "display_name": "Python 3",
   "language": "python",
   "name": "python3"
  },
  "language_info": {
   "codemirror_mode": {
    "name": "ipython",
    "version": 3
   },
   "file_extension": ".py",
   "mimetype": "text/x-python",
   "name": "python",
   "nbconvert_exporter": "python",
   "pygments_lexer": "ipython3",
   "version": "3.8.8"
  }
 },
 "nbformat": 4,
 "nbformat_minor": 4
}
